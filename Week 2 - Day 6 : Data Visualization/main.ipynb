{
 "cells": [
  {
   "cell_type": "markdown",
   "metadata": {},
   "source": [
    "<div style=\"display:flex\">\n",
    "\n",
    "<div>\n",
    "\n",
    "<h1 style=\"font-weight:bold\">Plotly</h1>\n",
    "\n",
    "<p style=\"line-height:2\">\n",
    "<a href=\"https://plotly.com/python/\" target=\"_blank\">Plotly</a>'s Python graphing library makes interactive, publication-quality graphs. Examples of how to make line plots, scatter plots, area charts, bar charts, error bars, box plots, histograms, heatmaps, subplots, multiple-axes, polar charts, and bubble charts. Plotly.py is free and open source and you can view the source, report issues or contribute on GitHub.\n",
    "</p><br>\n",
    "\n",
    "<span style=\"font-weight: bold; font-size: 18px;\">Basic Charts</span><br>\n",
    "\n",
    "<ol style=\"line-height:2\">\n",
    "    <li><b>Bar Graph :</b> Uses vertical or horizontal bars to represent data; ideal for comparing quantities across different categories.<br></li>\n",
    "    <li><b>Line Graph :</b> Connects data points with lines; useful for showing trends over time.<br></li>\n",
    "    <li><b>Scatter Plot :</b> Plots points on a two-dimensional grid; used to identify relationships between two variables.<br></li>\n",
    "    <li><b>Pie Chart :</b> Shows proportions of a whole as slices of a pie; suitable for displaying percentage or proportional data.<br></li>\n",
    "    <li><b>Histogram :</b> Similar to a bar graph but groups numbers into ranges; great for showing frequency distributions.<br></li>\n",
    "    <li><b>Box Plot :</b> Displays the distribution of data based on a five-number summary; useful for highlighting outliers and understanding data spread.<br></li>\n",
    "    <li><b>Area Chart :</b> Similar to a line graph but with the area below the line filled in; used for tracking cumulative totals over time.<br></li>\n",
    "    <li><b>Heatmap :</b> Uses colors to represent data values in a matrix; useful for visualizing patterns or correlations.<br></li>\n",
    "    <li><b>Bubble Chart :</b> A variation of a scatter plot, where the size of the bubble represents an additional variable; good for comparing multiple data points simultaneously.<br></li>\n",
    "</ol><br>\n",
    "\n",
    "</div>\n",
    "\n",
    "<div style=\"display:flex;  justify-content: center; align-items: center; padding:40px; height: 60%\">\n",
    "<img src=\"https://raw.githubusercontent.com/cldougl/plot_images/add_r_img/plotly_2017.png\"/>\n",
    "</div>\n",
    "\n",
    "</div>"
   ]
  },
  {
   "cell_type": "code",
   "execution_count": 1,
   "metadata": {},
   "outputs": [
    {
     "name": "stdout",
     "output_type": "stream",
     "text": [
      "Requirement already satisfied: plotly in /Users/crypticsy/anaconda3/envs/lmu/lib/python3.12/site-packages (5.22.0)\n",
      "Requirement already satisfied: tenacity>=6.2.0 in /Users/crypticsy/anaconda3/envs/lmu/lib/python3.12/site-packages (from plotly) (8.2.3)\n",
      "Requirement already satisfied: packaging in /Users/crypticsy/anaconda3/envs/lmu/lib/python3.12/site-packages (from plotly) (23.2)\n",
      "\n",
      "\u001b[1m[\u001b[0m\u001b[34;49mnotice\u001b[0m\u001b[1;39;49m]\u001b[0m\u001b[39;49m A new release of pip is available: \u001b[0m\u001b[31;49m24.0\u001b[0m\u001b[39;49m -> \u001b[0m\u001b[32;49m24.1.1\u001b[0m\n",
      "\u001b[1m[\u001b[0m\u001b[34;49mnotice\u001b[0m\u001b[1;39;49m]\u001b[0m\u001b[39;49m To update, run: \u001b[0m\u001b[32;49mpip install --upgrade pip\u001b[0m\n",
      "Requirement already satisfied: numpy in /Users/crypticsy/anaconda3/envs/lmu/lib/python3.12/site-packages (1.26.1)\n",
      "\n",
      "\u001b[1m[\u001b[0m\u001b[34;49mnotice\u001b[0m\u001b[1;39;49m]\u001b[0m\u001b[39;49m A new release of pip is available: \u001b[0m\u001b[31;49m24.0\u001b[0m\u001b[39;49m -> \u001b[0m\u001b[32;49m24.1.1\u001b[0m\n",
      "\u001b[1m[\u001b[0m\u001b[34;49mnotice\u001b[0m\u001b[1;39;49m]\u001b[0m\u001b[39;49m To update, run: \u001b[0m\u001b[32;49mpip install --upgrade pip\u001b[0m\n"
     ]
    }
   ],
   "source": [
    "# Install plotly with pip if you haven't already\n",
    "! pip install plotly\n",
    "! pip install numpy"
   ]
  },
  {
   "cell_type": "code",
   "execution_count": 2,
   "metadata": {},
   "outputs": [
    {
     "name": "stdout",
     "output_type": "stream",
     "text": [
      "Requirement already satisfied: nbformat in /Users/crypticsy/anaconda3/envs/lmu/lib/python3.12/site-packages (5.10.4)\n",
      "Requirement already satisfied: fastjsonschema>=2.15 in /Users/crypticsy/anaconda3/envs/lmu/lib/python3.12/site-packages (from nbformat) (2.19.1)\n",
      "Requirement already satisfied: jsonschema>=2.6 in /Users/crypticsy/anaconda3/envs/lmu/lib/python3.12/site-packages (from nbformat) (4.22.0)\n",
      "Requirement already satisfied: jupyter-core!=5.0.*,>=4.12 in /Users/crypticsy/anaconda3/envs/lmu/lib/python3.12/site-packages (from nbformat) (5.5.0)\n",
      "Requirement already satisfied: traitlets>=5.1 in /Users/crypticsy/anaconda3/envs/lmu/lib/python3.12/site-packages (from nbformat) (5.13.0)\n",
      "Requirement already satisfied: attrs>=22.2.0 in /Users/crypticsy/anaconda3/envs/lmu/lib/python3.12/site-packages (from jsonschema>=2.6->nbformat) (23.2.0)\n",
      "Requirement already satisfied: jsonschema-specifications>=2023.03.6 in /Users/crypticsy/anaconda3/envs/lmu/lib/python3.12/site-packages (from jsonschema>=2.6->nbformat) (2023.12.1)\n",
      "Requirement already satisfied: referencing>=0.28.4 in /Users/crypticsy/anaconda3/envs/lmu/lib/python3.12/site-packages (from jsonschema>=2.6->nbformat) (0.35.1)\n",
      "Requirement already satisfied: rpds-py>=0.7.1 in /Users/crypticsy/anaconda3/envs/lmu/lib/python3.12/site-packages (from jsonschema>=2.6->nbformat) (0.18.0)\n",
      "Requirement already satisfied: platformdirs>=2.5 in /Users/crypticsy/anaconda3/envs/lmu/lib/python3.12/site-packages (from jupyter-core!=5.0.*,>=4.12->nbformat) (3.11.0)\n",
      "\n",
      "\u001b[1m[\u001b[0m\u001b[34;49mnotice\u001b[0m\u001b[1;39;49m]\u001b[0m\u001b[39;49m A new release of pip is available: \u001b[0m\u001b[31;49m24.0\u001b[0m\u001b[39;49m -> \u001b[0m\u001b[32;49m24.1.1\u001b[0m\n",
      "\u001b[1m[\u001b[0m\u001b[34;49mnotice\u001b[0m\u001b[1;39;49m]\u001b[0m\u001b[39;49m To update, run: \u001b[0m\u001b[32;49mpip install --upgrade pip\u001b[0m\n"
     ]
    }
   ],
   "source": [
    "! pip install --upgrade nbformat"
   ]
  },
  {
   "cell_type": "markdown",
   "metadata": {},
   "source": [
    "--------"
   ]
  },
  {
   "cell_type": "markdown",
   "metadata": {},
   "source": [
    "### Import relevant libraries"
   ]
  },
  {
   "cell_type": "code",
   "execution_count": 3,
   "metadata": {},
   "outputs": [],
   "source": [
    "import os\n",
    "import pandas as pd\n",
    "import numpy as np\n",
    "import plotly.graph_objects as go"
   ]
  },
  {
   "cell_type": "markdown",
   "metadata": {},
   "source": [
    "### Load the datasets"
   ]
  },
  {
   "cell_type": "code",
   "execution_count": 4,
   "metadata": {},
   "outputs": [
    {
     "name": "stdout",
     "output_type": "stream",
     "text": [
      "-- Starbucks transtaction in California Outlet --\n",
      "Columns:  Index(['transaction_id', 'transaction_date', 'transaction_time',\n",
      "       'sales_outlet_id', 'customer_id', 'customer_first-name',\n",
      "       'customer_email', 'customer_since', 'gender', 'birthdate', 'instore_yn',\n",
      "       'order', 'product_id', 'product', 'product_category', 'quantity',\n",
      "       'unit_price', 'promo_item_yn', 'outlet', 'transaction', 'gross'],\n",
      "      dtype='object')\n"
     ]
    },
    {
     "data": {
      "text/html": [
       "<div>\n",
       "<style scoped>\n",
       "    .dataframe tbody tr th:only-of-type {\n",
       "        vertical-align: middle;\n",
       "    }\n",
       "\n",
       "    .dataframe tbody tr th {\n",
       "        vertical-align: top;\n",
       "    }\n",
       "\n",
       "    .dataframe thead th {\n",
       "        text-align: right;\n",
       "    }\n",
       "</style>\n",
       "<table border=\"1\" class=\"dataframe\">\n",
       "  <thead>\n",
       "    <tr style=\"text-align: right;\">\n",
       "      <th></th>\n",
       "      <th>transaction_id</th>\n",
       "      <th>transaction_date</th>\n",
       "      <th>transaction_time</th>\n",
       "      <th>sales_outlet_id</th>\n",
       "      <th>customer_id</th>\n",
       "      <th>customer_first-name</th>\n",
       "      <th>customer_email</th>\n",
       "      <th>customer_since</th>\n",
       "      <th>gender</th>\n",
       "      <th>birthdate</th>\n",
       "      <th>...</th>\n",
       "      <th>order</th>\n",
       "      <th>product_id</th>\n",
       "      <th>product</th>\n",
       "      <th>product_category</th>\n",
       "      <th>quantity</th>\n",
       "      <th>unit_price</th>\n",
       "      <th>promo_item_yn</th>\n",
       "      <th>outlet</th>\n",
       "      <th>transaction</th>\n",
       "      <th>gross</th>\n",
       "    </tr>\n",
       "  </thead>\n",
       "  <tbody>\n",
       "    <tr>\n",
       "      <th>0</th>\n",
       "      <td>7</td>\n",
       "      <td>2019-04-01</td>\n",
       "      <td>12:04:43</td>\n",
       "      <td>3</td>\n",
       "      <td>558</td>\n",
       "      <td>Melissa Johnson</td>\n",
       "      <td>Luke@eget.net</td>\n",
       "      <td>2018-06-19</td>\n",
       "      <td>F</td>\n",
       "      <td>1983-02-25</td>\n",
       "      <td>...</td>\n",
       "      <td>1</td>\n",
       "      <td>52</td>\n",
       "      <td>Traditional Blend Chai Rg</td>\n",
       "      <td>Tea</td>\n",
       "      <td>1</td>\n",
       "      <td>2.50</td>\n",
       "      <td>N</td>\n",
       "      <td>Astoria, Long Island City</td>\n",
       "      <td>2019-04-01 12:04:43</td>\n",
       "      <td>2.50</td>\n",
       "    </tr>\n",
       "    <tr>\n",
       "      <th>1</th>\n",
       "      <td>11</td>\n",
       "      <td>2019-04-01</td>\n",
       "      <td>15:54:39</td>\n",
       "      <td>3</td>\n",
       "      <td>781</td>\n",
       "      <td>Luke Patel</td>\n",
       "      <td>Herrod@Maecenas.us</td>\n",
       "      <td>2018-11-02</td>\n",
       "      <td>N</td>\n",
       "      <td>1991-07-29</td>\n",
       "      <td>...</td>\n",
       "      <td>1</td>\n",
       "      <td>27</td>\n",
       "      <td>Brazilian Lg</td>\n",
       "      <td>Coffee</td>\n",
       "      <td>2</td>\n",
       "      <td>3.50</td>\n",
       "      <td>N</td>\n",
       "      <td>Astoria, Long Island City</td>\n",
       "      <td>2019-04-01 15:54:39</td>\n",
       "      <td>7.00</td>\n",
       "    </tr>\n",
       "    <tr>\n",
       "      <th>2</th>\n",
       "      <td>19</td>\n",
       "      <td>2019-04-01</td>\n",
       "      <td>14:34:59</td>\n",
       "      <td>3</td>\n",
       "      <td>788</td>\n",
       "      <td>Hilel Ballard</td>\n",
       "      <td>Rajah@risus.org</td>\n",
       "      <td>2018-12-30</td>\n",
       "      <td>N</td>\n",
       "      <td>1995-02-23</td>\n",
       "      <td>...</td>\n",
       "      <td>1</td>\n",
       "      <td>46</td>\n",
       "      <td>Serenity Green Tea Rg</td>\n",
       "      <td>Tea</td>\n",
       "      <td>2</td>\n",
       "      <td>2.50</td>\n",
       "      <td>N</td>\n",
       "      <td>Astoria, Long Island City</td>\n",
       "      <td>2019-04-01 14:34:59</td>\n",
       "      <td>5.00</td>\n",
       "    </tr>\n",
       "    <tr>\n",
       "      <th>3</th>\n",
       "      <td>32</td>\n",
       "      <td>2019-04-01</td>\n",
       "      <td>16:06:04</td>\n",
       "      <td>3</td>\n",
       "      <td>683</td>\n",
       "      <td>Zephr Zimmerman</td>\n",
       "      <td>Dacey@in.net</td>\n",
       "      <td>2019-03-04</td>\n",
       "      <td>F</td>\n",
       "      <td>1999-02-06</td>\n",
       "      <td>...</td>\n",
       "      <td>1</td>\n",
       "      <td>23</td>\n",
       "      <td>Our Old Time Diner Blend Rg</td>\n",
       "      <td>Coffee</td>\n",
       "      <td>2</td>\n",
       "      <td>2.50</td>\n",
       "      <td>N</td>\n",
       "      <td>Astoria, Long Island City</td>\n",
       "      <td>2019-04-01 16:06:04</td>\n",
       "      <td>5.00</td>\n",
       "    </tr>\n",
       "    <tr>\n",
       "      <th>4</th>\n",
       "      <td>33</td>\n",
       "      <td>2019-04-01</td>\n",
       "      <td>19:18:37</td>\n",
       "      <td>3</td>\n",
       "      <td>99</td>\n",
       "      <td>Orlando Shields</td>\n",
       "      <td>Ivory@scelerisque.us</td>\n",
       "      <td>2017-10-01</td>\n",
       "      <td>M</td>\n",
       "      <td>1967-01-29</td>\n",
       "      <td>...</td>\n",
       "      <td>1</td>\n",
       "      <td>34</td>\n",
       "      <td>Jamaican Coffee River Sm</td>\n",
       "      <td>Coffee</td>\n",
       "      <td>1</td>\n",
       "      <td>2.45</td>\n",
       "      <td>N</td>\n",
       "      <td>Astoria, Long Island City</td>\n",
       "      <td>2019-04-01 19:18:37</td>\n",
       "      <td>2.45</td>\n",
       "    </tr>\n",
       "  </tbody>\n",
       "</table>\n",
       "<p>5 rows × 21 columns</p>\n",
       "</div>"
      ],
      "text/plain": [
       "   transaction_id transaction_date transaction_time  sales_outlet_id  \\\n",
       "0               7       2019-04-01         12:04:43                3   \n",
       "1              11       2019-04-01         15:54:39                3   \n",
       "2              19       2019-04-01         14:34:59                3   \n",
       "3              32       2019-04-01         16:06:04                3   \n",
       "4              33       2019-04-01         19:18:37                3   \n",
       "\n",
       "   customer_id customer_first-name        customer_email customer_since  \\\n",
       "0          558     Melissa Johnson         Luke@eget.net     2018-06-19   \n",
       "1          781          Luke Patel    Herrod@Maecenas.us     2018-11-02   \n",
       "2          788       Hilel Ballard       Rajah@risus.org     2018-12-30   \n",
       "3          683     Zephr Zimmerman          Dacey@in.net     2019-03-04   \n",
       "4           99     Orlando Shields  Ivory@scelerisque.us     2017-10-01   \n",
       "\n",
       "  gender   birthdate  ... order  product_id                      product  \\\n",
       "0      F  1983-02-25  ...     1          52    Traditional Blend Chai Rg   \n",
       "1      N  1991-07-29  ...     1          27                 Brazilian Lg   \n",
       "2      N  1995-02-23  ...     1          46        Serenity Green Tea Rg   \n",
       "3      F  1999-02-06  ...     1          23  Our Old Time Diner Blend Rg   \n",
       "4      M  1967-01-29  ...     1          34     Jamaican Coffee River Sm   \n",
       "\n",
       "  product_category quantity  unit_price  promo_item_yn  \\\n",
       "0              Tea        1        2.50              N   \n",
       "1           Coffee        2        3.50              N   \n",
       "2              Tea        2        2.50              N   \n",
       "3           Coffee        2        2.50              N   \n",
       "4           Coffee        1        2.45              N   \n",
       "\n",
       "                      outlet          transaction gross  \n",
       "0  Astoria, Long Island City  2019-04-01 12:04:43  2.50  \n",
       "1  Astoria, Long Island City  2019-04-01 15:54:39  7.00  \n",
       "2  Astoria, Long Island City  2019-04-01 14:34:59  5.00  \n",
       "3  Astoria, Long Island City  2019-04-01 16:06:04  5.00  \n",
       "4  Astoria, Long Island City  2019-04-01 19:18:37  2.45  \n",
       "\n",
       "[5 rows x 21 columns]"
      ]
     },
     "metadata": {},
     "output_type": "display_data"
    },
    {
     "name": "stdout",
     "output_type": "stream",
     "text": [
      "\n",
      "\n",
      "\n",
      "-- Starbucks outlets around the World --\n",
      "Columns:  Index(['country', 'population', 'outlet', 'starbucks_per_million_inhabitants',\n",
      "       'code'],\n",
      "      dtype='object')\n"
     ]
    },
    {
     "data": {
      "text/html": [
       "<div>\n",
       "<style scoped>\n",
       "    .dataframe tbody tr th:only-of-type {\n",
       "        vertical-align: middle;\n",
       "    }\n",
       "\n",
       "    .dataframe tbody tr th {\n",
       "        vertical-align: top;\n",
       "    }\n",
       "\n",
       "    .dataframe thead th {\n",
       "        text-align: right;\n",
       "    }\n",
       "</style>\n",
       "<table border=\"1\" class=\"dataframe\">\n",
       "  <thead>\n",
       "    <tr style=\"text-align: right;\">\n",
       "      <th></th>\n",
       "      <th>country</th>\n",
       "      <th>population</th>\n",
       "      <th>outlet</th>\n",
       "      <th>starbucks_per_million_inhabitants</th>\n",
       "      <th>code</th>\n",
       "    </tr>\n",
       "  </thead>\n",
       "  <tbody>\n",
       "    <tr>\n",
       "      <th>0</th>\n",
       "      <td>Argentina</td>\n",
       "      <td>41446246</td>\n",
       "      <td>73</td>\n",
       "      <td>1.76</td>\n",
       "      <td>ARG</td>\n",
       "    </tr>\n",
       "    <tr>\n",
       "      <th>1</th>\n",
       "      <td>Aruba</td>\n",
       "      <td>102911</td>\n",
       "      <td>3</td>\n",
       "      <td>29.15</td>\n",
       "      <td>ABW</td>\n",
       "    </tr>\n",
       "    <tr>\n",
       "      <th>2</th>\n",
       "      <td>Australia</td>\n",
       "      <td>23130900</td>\n",
       "      <td>24</td>\n",
       "      <td>1.04</td>\n",
       "      <td>AUS</td>\n",
       "    </tr>\n",
       "    <tr>\n",
       "      <th>3</th>\n",
       "      <td>Austria</td>\n",
       "      <td>8473786</td>\n",
       "      <td>17</td>\n",
       "      <td>2.01</td>\n",
       "      <td>AUT</td>\n",
       "    </tr>\n",
       "    <tr>\n",
       "      <th>4</th>\n",
       "      <td>Bahamas, The</td>\n",
       "      <td>377374</td>\n",
       "      <td>9</td>\n",
       "      <td>23.85</td>\n",
       "      <td>BHS</td>\n",
       "    </tr>\n",
       "    <tr>\n",
       "      <th>...</th>\n",
       "      <td>...</td>\n",
       "      <td>...</td>\n",
       "      <td>...</td>\n",
       "      <td>...</td>\n",
       "      <td>...</td>\n",
       "    </tr>\n",
       "    <tr>\n",
       "      <th>58</th>\n",
       "      <td>Turkey</td>\n",
       "      <td>74932641</td>\n",
       "      <td>213</td>\n",
       "      <td>2.84</td>\n",
       "      <td>TUR</td>\n",
       "    </tr>\n",
       "    <tr>\n",
       "      <th>59</th>\n",
       "      <td>United Arab Emirates</td>\n",
       "      <td>9346129</td>\n",
       "      <td>106</td>\n",
       "      <td>11.34</td>\n",
       "      <td>ARE</td>\n",
       "    </tr>\n",
       "    <tr>\n",
       "      <th>60</th>\n",
       "      <td>United Kingdom</td>\n",
       "      <td>64097085</td>\n",
       "      <td>770</td>\n",
       "      <td>12.01</td>\n",
       "      <td>GBR</td>\n",
       "    </tr>\n",
       "    <tr>\n",
       "      <th>61</th>\n",
       "      <td>United States</td>\n",
       "      <td>316128839</td>\n",
       "      <td>11851</td>\n",
       "      <td>37.49</td>\n",
       "      <td>USA</td>\n",
       "    </tr>\n",
       "    <tr>\n",
       "      <th>62</th>\n",
       "      <td>Vietnam</td>\n",
       "      <td>89708900</td>\n",
       "      <td>11</td>\n",
       "      <td>0.12</td>\n",
       "      <td>VNM</td>\n",
       "    </tr>\n",
       "  </tbody>\n",
       "</table>\n",
       "<p>63 rows × 5 columns</p>\n",
       "</div>"
      ],
      "text/plain": [
       "                 country  population  outlet  \\\n",
       "0              Argentina    41446246      73   \n",
       "1                  Aruba      102911       3   \n",
       "2              Australia    23130900      24   \n",
       "3                Austria     8473786      17   \n",
       "4           Bahamas, The      377374       9   \n",
       "..                   ...         ...     ...   \n",
       "58                Turkey    74932641     213   \n",
       "59  United Arab Emirates     9346129     106   \n",
       "60        United Kingdom    64097085     770   \n",
       "61         United States   316128839   11851   \n",
       "62               Vietnam    89708900      11   \n",
       "\n",
       "    starbucks_per_million_inhabitants code  \n",
       "0                                1.76  ARG  \n",
       "1                               29.15  ABW  \n",
       "2                                1.04  AUS  \n",
       "3                                2.01  AUT  \n",
       "4                               23.85  BHS  \n",
       "..                                ...  ...  \n",
       "58                               2.84  TUR  \n",
       "59                              11.34  ARE  \n",
       "60                              12.01  GBR  \n",
       "61                              37.49  USA  \n",
       "62                               0.12  VNM  \n",
       "\n",
       "[63 rows x 5 columns]"
      ]
     },
     "metadata": {},
     "output_type": "display_data"
    }
   ],
   "source": [
    "# Coffee Shop Data\n",
    "# ---------------------------\n",
    "# It contains the transaction data of customers for a coffee shop, including the customer and product information.\n",
    "cf_shop = pd.read_csv('coffee_shop_sales.csv')\n",
    "print(\"-- Starbucks transtaction in California Outlet --\")\n",
    "print(\"Columns: \", cf_shop.columns)\n",
    "display(cf_shop.head())\n",
    "print(\"\\n\\n\")\n",
    "\n",
    "\n",
    "# Starbucks Outlets Data\n",
    "# ---------------------------\n",
    "# It contains the location data of Starbucks outlets around the world.\n",
    "st_world = pd.read_csv('starbucks_world.csv')\n",
    "print(\"-- Starbucks outlets around the World --\")\n",
    "print(\"Columns: \", st_world.columns)\n",
    "display(st_world)"
   ]
  },
  {
   "cell_type": "code",
   "execution_count": 5,
   "metadata": {},
   "outputs": [],
   "source": [
    "# Change strings to pandas datetime\n",
    "cf_shop['transaction'] = pd.to_datetime(cf_shop['transaction_date'] + ' ' + cf_shop['transaction_time'])\n",
    "cf_shop['customer_since'] = pd.to_datetime(cf_shop['customer_since'])\n",
    "cf_shop['birthdate'] = pd.to_datetime(cf_shop['birthdate'])"
   ]
  },
  {
   "cell_type": "markdown",
   "metadata": {},
   "source": [
    "--------\n"
   ]
  },
  {
   "cell_type": "markdown",
   "metadata": {},
   "source": [
    "<b>Question 1:</b> Which countries have the most number of Starbucks outlets?"
   ]
  },
  {
   "cell_type": "code",
   "execution_count": 6,
   "metadata": {},
   "outputs": [
    {
     "data": {
      "application/vnd.plotly.v1+json": {
       "config": {
        "plotlyServerURL": "https://plot.ly"
       },
       "data": [
        {
         "type": "bar",
         "x": [
          "United States",
          "China",
          "Canada",
          "Japan",
          "United Kingdom",
          "Korea, Rep.",
          "Mexico",
          "Taiwan",
          "Philippines",
          "Turkey"
         ],
         "y": [
          57.41485393149557,
          7.0829901652051745,
          6.9037352841432105,
          5.096652293978005,
          3.730439416694928,
          3.313792936388741,
          2.049319315924616,
          1.5309335787994767,
          1.133666004554043,
          1.0319267477350904
         ]
        }
       ],
       "layout": {
        "showlegend": false,
        "template": {
         "data": {
          "bar": [
           {
            "error_x": {
             "color": "#2a3f5f"
            },
            "error_y": {
             "color": "#2a3f5f"
            },
            "marker": {
             "line": {
              "color": "#E5ECF6",
              "width": 0.5
             },
             "pattern": {
              "fillmode": "overlay",
              "size": 10,
              "solidity": 0.2
             }
            },
            "type": "bar"
           }
          ],
          "barpolar": [
           {
            "marker": {
             "line": {
              "color": "#E5ECF6",
              "width": 0.5
             },
             "pattern": {
              "fillmode": "overlay",
              "size": 10,
              "solidity": 0.2
             }
            },
            "type": "barpolar"
           }
          ],
          "carpet": [
           {
            "aaxis": {
             "endlinecolor": "#2a3f5f",
             "gridcolor": "white",
             "linecolor": "white",
             "minorgridcolor": "white",
             "startlinecolor": "#2a3f5f"
            },
            "baxis": {
             "endlinecolor": "#2a3f5f",
             "gridcolor": "white",
             "linecolor": "white",
             "minorgridcolor": "white",
             "startlinecolor": "#2a3f5f"
            },
            "type": "carpet"
           }
          ],
          "choropleth": [
           {
            "colorbar": {
             "outlinewidth": 0,
             "ticks": ""
            },
            "type": "choropleth"
           }
          ],
          "contour": [
           {
            "colorbar": {
             "outlinewidth": 0,
             "ticks": ""
            },
            "colorscale": [
             [
              0,
              "#0d0887"
             ],
             [
              0.1111111111111111,
              "#46039f"
             ],
             [
              0.2222222222222222,
              "#7201a8"
             ],
             [
              0.3333333333333333,
              "#9c179e"
             ],
             [
              0.4444444444444444,
              "#bd3786"
             ],
             [
              0.5555555555555556,
              "#d8576b"
             ],
             [
              0.6666666666666666,
              "#ed7953"
             ],
             [
              0.7777777777777778,
              "#fb9f3a"
             ],
             [
              0.8888888888888888,
              "#fdca26"
             ],
             [
              1,
              "#f0f921"
             ]
            ],
            "type": "contour"
           }
          ],
          "contourcarpet": [
           {
            "colorbar": {
             "outlinewidth": 0,
             "ticks": ""
            },
            "type": "contourcarpet"
           }
          ],
          "heatmap": [
           {
            "colorbar": {
             "outlinewidth": 0,
             "ticks": ""
            },
            "colorscale": [
             [
              0,
              "#0d0887"
             ],
             [
              0.1111111111111111,
              "#46039f"
             ],
             [
              0.2222222222222222,
              "#7201a8"
             ],
             [
              0.3333333333333333,
              "#9c179e"
             ],
             [
              0.4444444444444444,
              "#bd3786"
             ],
             [
              0.5555555555555556,
              "#d8576b"
             ],
             [
              0.6666666666666666,
              "#ed7953"
             ],
             [
              0.7777777777777778,
              "#fb9f3a"
             ],
             [
              0.8888888888888888,
              "#fdca26"
             ],
             [
              1,
              "#f0f921"
             ]
            ],
            "type": "heatmap"
           }
          ],
          "heatmapgl": [
           {
            "colorbar": {
             "outlinewidth": 0,
             "ticks": ""
            },
            "colorscale": [
             [
              0,
              "#0d0887"
             ],
             [
              0.1111111111111111,
              "#46039f"
             ],
             [
              0.2222222222222222,
              "#7201a8"
             ],
             [
              0.3333333333333333,
              "#9c179e"
             ],
             [
              0.4444444444444444,
              "#bd3786"
             ],
             [
              0.5555555555555556,
              "#d8576b"
             ],
             [
              0.6666666666666666,
              "#ed7953"
             ],
             [
              0.7777777777777778,
              "#fb9f3a"
             ],
             [
              0.8888888888888888,
              "#fdca26"
             ],
             [
              1,
              "#f0f921"
             ]
            ],
            "type": "heatmapgl"
           }
          ],
          "histogram": [
           {
            "marker": {
             "pattern": {
              "fillmode": "overlay",
              "size": 10,
              "solidity": 0.2
             }
            },
            "type": "histogram"
           }
          ],
          "histogram2d": [
           {
            "colorbar": {
             "outlinewidth": 0,
             "ticks": ""
            },
            "colorscale": [
             [
              0,
              "#0d0887"
             ],
             [
              0.1111111111111111,
              "#46039f"
             ],
             [
              0.2222222222222222,
              "#7201a8"
             ],
             [
              0.3333333333333333,
              "#9c179e"
             ],
             [
              0.4444444444444444,
              "#bd3786"
             ],
             [
              0.5555555555555556,
              "#d8576b"
             ],
             [
              0.6666666666666666,
              "#ed7953"
             ],
             [
              0.7777777777777778,
              "#fb9f3a"
             ],
             [
              0.8888888888888888,
              "#fdca26"
             ],
             [
              1,
              "#f0f921"
             ]
            ],
            "type": "histogram2d"
           }
          ],
          "histogram2dcontour": [
           {
            "colorbar": {
             "outlinewidth": 0,
             "ticks": ""
            },
            "colorscale": [
             [
              0,
              "#0d0887"
             ],
             [
              0.1111111111111111,
              "#46039f"
             ],
             [
              0.2222222222222222,
              "#7201a8"
             ],
             [
              0.3333333333333333,
              "#9c179e"
             ],
             [
              0.4444444444444444,
              "#bd3786"
             ],
             [
              0.5555555555555556,
              "#d8576b"
             ],
             [
              0.6666666666666666,
              "#ed7953"
             ],
             [
              0.7777777777777778,
              "#fb9f3a"
             ],
             [
              0.8888888888888888,
              "#fdca26"
             ],
             [
              1,
              "#f0f921"
             ]
            ],
            "type": "histogram2dcontour"
           }
          ],
          "mesh3d": [
           {
            "colorbar": {
             "outlinewidth": 0,
             "ticks": ""
            },
            "type": "mesh3d"
           }
          ],
          "parcoords": [
           {
            "line": {
             "colorbar": {
              "outlinewidth": 0,
              "ticks": ""
             }
            },
            "type": "parcoords"
           }
          ],
          "pie": [
           {
            "automargin": true,
            "type": "pie"
           }
          ],
          "scatter": [
           {
            "fillpattern": {
             "fillmode": "overlay",
             "size": 10,
             "solidity": 0.2
            },
            "type": "scatter"
           }
          ],
          "scatter3d": [
           {
            "line": {
             "colorbar": {
              "outlinewidth": 0,
              "ticks": ""
             }
            },
            "marker": {
             "colorbar": {
              "outlinewidth": 0,
              "ticks": ""
             }
            },
            "type": "scatter3d"
           }
          ],
          "scattercarpet": [
           {
            "marker": {
             "colorbar": {
              "outlinewidth": 0,
              "ticks": ""
             }
            },
            "type": "scattercarpet"
           }
          ],
          "scattergeo": [
           {
            "marker": {
             "colorbar": {
              "outlinewidth": 0,
              "ticks": ""
             }
            },
            "type": "scattergeo"
           }
          ],
          "scattergl": [
           {
            "marker": {
             "colorbar": {
              "outlinewidth": 0,
              "ticks": ""
             }
            },
            "type": "scattergl"
           }
          ],
          "scattermapbox": [
           {
            "marker": {
             "colorbar": {
              "outlinewidth": 0,
              "ticks": ""
             }
            },
            "type": "scattermapbox"
           }
          ],
          "scatterpolar": [
           {
            "marker": {
             "colorbar": {
              "outlinewidth": 0,
              "ticks": ""
             }
            },
            "type": "scatterpolar"
           }
          ],
          "scatterpolargl": [
           {
            "marker": {
             "colorbar": {
              "outlinewidth": 0,
              "ticks": ""
             }
            },
            "type": "scatterpolargl"
           }
          ],
          "scatterternary": [
           {
            "marker": {
             "colorbar": {
              "outlinewidth": 0,
              "ticks": ""
             }
            },
            "type": "scatterternary"
           }
          ],
          "surface": [
           {
            "colorbar": {
             "outlinewidth": 0,
             "ticks": ""
            },
            "colorscale": [
             [
              0,
              "#0d0887"
             ],
             [
              0.1111111111111111,
              "#46039f"
             ],
             [
              0.2222222222222222,
              "#7201a8"
             ],
             [
              0.3333333333333333,
              "#9c179e"
             ],
             [
              0.4444444444444444,
              "#bd3786"
             ],
             [
              0.5555555555555556,
              "#d8576b"
             ],
             [
              0.6666666666666666,
              "#ed7953"
             ],
             [
              0.7777777777777778,
              "#fb9f3a"
             ],
             [
              0.8888888888888888,
              "#fdca26"
             ],
             [
              1,
              "#f0f921"
             ]
            ],
            "type": "surface"
           }
          ],
          "table": [
           {
            "cells": {
             "fill": {
              "color": "#EBF0F8"
             },
             "line": {
              "color": "white"
             }
            },
            "header": {
             "fill": {
              "color": "#C8D4E3"
             },
             "line": {
              "color": "white"
             }
            },
            "type": "table"
           }
          ]
         },
         "layout": {
          "annotationdefaults": {
           "arrowcolor": "#2a3f5f",
           "arrowhead": 0,
           "arrowwidth": 1
          },
          "autotypenumbers": "strict",
          "coloraxis": {
           "colorbar": {
            "outlinewidth": 0,
            "ticks": ""
           }
          },
          "colorscale": {
           "diverging": [
            [
             0,
             "#8e0152"
            ],
            [
             0.1,
             "#c51b7d"
            ],
            [
             0.2,
             "#de77ae"
            ],
            [
             0.3,
             "#f1b6da"
            ],
            [
             0.4,
             "#fde0ef"
            ],
            [
             0.5,
             "#f7f7f7"
            ],
            [
             0.6,
             "#e6f5d0"
            ],
            [
             0.7,
             "#b8e186"
            ],
            [
             0.8,
             "#7fbc41"
            ],
            [
             0.9,
             "#4d9221"
            ],
            [
             1,
             "#276419"
            ]
           ],
           "sequential": [
            [
             0,
             "#0d0887"
            ],
            [
             0.1111111111111111,
             "#46039f"
            ],
            [
             0.2222222222222222,
             "#7201a8"
            ],
            [
             0.3333333333333333,
             "#9c179e"
            ],
            [
             0.4444444444444444,
             "#bd3786"
            ],
            [
             0.5555555555555556,
             "#d8576b"
            ],
            [
             0.6666666666666666,
             "#ed7953"
            ],
            [
             0.7777777777777778,
             "#fb9f3a"
            ],
            [
             0.8888888888888888,
             "#fdca26"
            ],
            [
             1,
             "#f0f921"
            ]
           ],
           "sequentialminus": [
            [
             0,
             "#0d0887"
            ],
            [
             0.1111111111111111,
             "#46039f"
            ],
            [
             0.2222222222222222,
             "#7201a8"
            ],
            [
             0.3333333333333333,
             "#9c179e"
            ],
            [
             0.4444444444444444,
             "#bd3786"
            ],
            [
             0.5555555555555556,
             "#d8576b"
            ],
            [
             0.6666666666666666,
             "#ed7953"
            ],
            [
             0.7777777777777778,
             "#fb9f3a"
            ],
            [
             0.8888888888888888,
             "#fdca26"
            ],
            [
             1,
             "#f0f921"
            ]
           ]
          },
          "colorway": [
           "#636efa",
           "#EF553B",
           "#00cc96",
           "#ab63fa",
           "#FFA15A",
           "#19d3f3",
           "#FF6692",
           "#B6E880",
           "#FF97FF",
           "#FECB52"
          ],
          "font": {
           "color": "#2a3f5f"
          },
          "geo": {
           "bgcolor": "white",
           "lakecolor": "white",
           "landcolor": "#E5ECF6",
           "showlakes": true,
           "showland": true,
           "subunitcolor": "white"
          },
          "hoverlabel": {
           "align": "left"
          },
          "hovermode": "closest",
          "mapbox": {
           "style": "light"
          },
          "paper_bgcolor": "white",
          "plot_bgcolor": "#E5ECF6",
          "polar": {
           "angularaxis": {
            "gridcolor": "white",
            "linecolor": "white",
            "ticks": ""
           },
           "bgcolor": "#E5ECF6",
           "radialaxis": {
            "gridcolor": "white",
            "linecolor": "white",
            "ticks": ""
           }
          },
          "scene": {
           "xaxis": {
            "backgroundcolor": "#E5ECF6",
            "gridcolor": "white",
            "gridwidth": 2,
            "linecolor": "white",
            "showbackground": true,
            "ticks": "",
            "zerolinecolor": "white"
           },
           "yaxis": {
            "backgroundcolor": "#E5ECF6",
            "gridcolor": "white",
            "gridwidth": 2,
            "linecolor": "white",
            "showbackground": true,
            "ticks": "",
            "zerolinecolor": "white"
           },
           "zaxis": {
            "backgroundcolor": "#E5ECF6",
            "gridcolor": "white",
            "gridwidth": 2,
            "linecolor": "white",
            "showbackground": true,
            "ticks": "",
            "zerolinecolor": "white"
           }
          },
          "shapedefaults": {
           "line": {
            "color": "#2a3f5f"
           }
          },
          "ternary": {
           "aaxis": {
            "gridcolor": "white",
            "linecolor": "white",
            "ticks": ""
           },
           "baxis": {
            "gridcolor": "white",
            "linecolor": "white",
            "ticks": ""
           },
           "bgcolor": "#E5ECF6",
           "caxis": {
            "gridcolor": "white",
            "linecolor": "white",
            "ticks": ""
           }
          },
          "title": {
           "x": 0.05
          },
          "xaxis": {
           "automargin": true,
           "gridcolor": "white",
           "linecolor": "white",
           "ticks": "",
           "title": {
            "standoff": 15
           },
           "zerolinecolor": "white",
           "zerolinewidth": 2
          },
          "yaxis": {
           "automargin": true,
           "gridcolor": "white",
           "linecolor": "white",
           "ticks": "",
           "title": {
            "standoff": 15
           },
           "zerolinecolor": "white",
           "zerolinewidth": 2
          }
         }
        },
        "title": {
         "text": "Popular Countries based on Starbucks outlets"
        },
        "xaxis": {
         "tickangle": -45,
         "title": {
          "text": "Country"
         }
        },
        "yaxis": {
         "ticksuffix": "%",
         "title": {
          "text": "% of Outlet"
         }
        }
       }
      }
     },
     "metadata": {},
     "output_type": "display_data"
    }
   ],
   "source": [
    "# sort the countries based on the frequency of Starbucks outlets\n",
    "most_outlets = st_world[['country', 'outlet']].sort_values('outlet', ascending=False).head(10)\n",
    "\n",
    "# Calculate the percentage compared to the total number of Starbucks outlets\n",
    "most_outlets['percentage'] = (most_outlets['outlet'] / st_world.outlet.sum()) * 100\n",
    "\n",
    "# Create the figure\n",
    "fig = go.Figure()\n",
    "\n",
    "# Add the bar chart\n",
    "fig.add_trace(\n",
    "    go.Bar(\n",
    "        x=most_outlets['country'],\n",
    "        y=most_outlets['percentage'],\n",
    "))\n",
    "\n",
    "# Customize the graph\n",
    "fig.update_layout(\n",
    "    title='Popular Countries based on Starbucks outlets',\n",
    "    xaxis_title='Country',\n",
    "    yaxis_title=\"% of Outlet\",\n",
    "    yaxis_ticksuffix=\"%\",\n",
    "    xaxis_tickangle=-45,\n",
    "    showlegend=False\n",
    ")\n",
    "\n",
    "# Show the plot\n",
    "fig.show()"
   ]
  },
  {
   "cell_type": "code",
   "execution_count": 7,
   "metadata": {},
   "outputs": [
    {
     "data": {
      "application/vnd.plotly.v1+json": {
       "config": {
        "plotlyServerURL": "https://plot.ly"
       },
       "data": [
        {
         "orientation": "h",
         "type": "bar",
         "x": [
          1.0319267477350904,
          1.133666004554043,
          1.5309335787994767,
          2.049319315924616,
          3.313792936388741,
          3.730439416694928,
          5.096652293978005,
          6.9037352841432105,
          7.0829901652051745,
          57.41485393149557
         ],
         "y": [
          "Turkey",
          "Philippines",
          "Taiwan",
          "Mexico",
          "Korea, Rep.",
          "United Kingdom",
          "Japan",
          "Canada",
          "China",
          "United States"
         ]
        }
       ],
       "layout": {
        "showlegend": false,
        "template": {
         "data": {
          "bar": [
           {
            "error_x": {
             "color": "#2a3f5f"
            },
            "error_y": {
             "color": "#2a3f5f"
            },
            "marker": {
             "line": {
              "color": "#E5ECF6",
              "width": 0.5
             },
             "pattern": {
              "fillmode": "overlay",
              "size": 10,
              "solidity": 0.2
             }
            },
            "type": "bar"
           }
          ],
          "barpolar": [
           {
            "marker": {
             "line": {
              "color": "#E5ECF6",
              "width": 0.5
             },
             "pattern": {
              "fillmode": "overlay",
              "size": 10,
              "solidity": 0.2
             }
            },
            "type": "barpolar"
           }
          ],
          "carpet": [
           {
            "aaxis": {
             "endlinecolor": "#2a3f5f",
             "gridcolor": "white",
             "linecolor": "white",
             "minorgridcolor": "white",
             "startlinecolor": "#2a3f5f"
            },
            "baxis": {
             "endlinecolor": "#2a3f5f",
             "gridcolor": "white",
             "linecolor": "white",
             "minorgridcolor": "white",
             "startlinecolor": "#2a3f5f"
            },
            "type": "carpet"
           }
          ],
          "choropleth": [
           {
            "colorbar": {
             "outlinewidth": 0,
             "ticks": ""
            },
            "type": "choropleth"
           }
          ],
          "contour": [
           {
            "colorbar": {
             "outlinewidth": 0,
             "ticks": ""
            },
            "colorscale": [
             [
              0,
              "#0d0887"
             ],
             [
              0.1111111111111111,
              "#46039f"
             ],
             [
              0.2222222222222222,
              "#7201a8"
             ],
             [
              0.3333333333333333,
              "#9c179e"
             ],
             [
              0.4444444444444444,
              "#bd3786"
             ],
             [
              0.5555555555555556,
              "#d8576b"
             ],
             [
              0.6666666666666666,
              "#ed7953"
             ],
             [
              0.7777777777777778,
              "#fb9f3a"
             ],
             [
              0.8888888888888888,
              "#fdca26"
             ],
             [
              1,
              "#f0f921"
             ]
            ],
            "type": "contour"
           }
          ],
          "contourcarpet": [
           {
            "colorbar": {
             "outlinewidth": 0,
             "ticks": ""
            },
            "type": "contourcarpet"
           }
          ],
          "heatmap": [
           {
            "colorbar": {
             "outlinewidth": 0,
             "ticks": ""
            },
            "colorscale": [
             [
              0,
              "#0d0887"
             ],
             [
              0.1111111111111111,
              "#46039f"
             ],
             [
              0.2222222222222222,
              "#7201a8"
             ],
             [
              0.3333333333333333,
              "#9c179e"
             ],
             [
              0.4444444444444444,
              "#bd3786"
             ],
             [
              0.5555555555555556,
              "#d8576b"
             ],
             [
              0.6666666666666666,
              "#ed7953"
             ],
             [
              0.7777777777777778,
              "#fb9f3a"
             ],
             [
              0.8888888888888888,
              "#fdca26"
             ],
             [
              1,
              "#f0f921"
             ]
            ],
            "type": "heatmap"
           }
          ],
          "heatmapgl": [
           {
            "colorbar": {
             "outlinewidth": 0,
             "ticks": ""
            },
            "colorscale": [
             [
              0,
              "#0d0887"
             ],
             [
              0.1111111111111111,
              "#46039f"
             ],
             [
              0.2222222222222222,
              "#7201a8"
             ],
             [
              0.3333333333333333,
              "#9c179e"
             ],
             [
              0.4444444444444444,
              "#bd3786"
             ],
             [
              0.5555555555555556,
              "#d8576b"
             ],
             [
              0.6666666666666666,
              "#ed7953"
             ],
             [
              0.7777777777777778,
              "#fb9f3a"
             ],
             [
              0.8888888888888888,
              "#fdca26"
             ],
             [
              1,
              "#f0f921"
             ]
            ],
            "type": "heatmapgl"
           }
          ],
          "histogram": [
           {
            "marker": {
             "pattern": {
              "fillmode": "overlay",
              "size": 10,
              "solidity": 0.2
             }
            },
            "type": "histogram"
           }
          ],
          "histogram2d": [
           {
            "colorbar": {
             "outlinewidth": 0,
             "ticks": ""
            },
            "colorscale": [
             [
              0,
              "#0d0887"
             ],
             [
              0.1111111111111111,
              "#46039f"
             ],
             [
              0.2222222222222222,
              "#7201a8"
             ],
             [
              0.3333333333333333,
              "#9c179e"
             ],
             [
              0.4444444444444444,
              "#bd3786"
             ],
             [
              0.5555555555555556,
              "#d8576b"
             ],
             [
              0.6666666666666666,
              "#ed7953"
             ],
             [
              0.7777777777777778,
              "#fb9f3a"
             ],
             [
              0.8888888888888888,
              "#fdca26"
             ],
             [
              1,
              "#f0f921"
             ]
            ],
            "type": "histogram2d"
           }
          ],
          "histogram2dcontour": [
           {
            "colorbar": {
             "outlinewidth": 0,
             "ticks": ""
            },
            "colorscale": [
             [
              0,
              "#0d0887"
             ],
             [
              0.1111111111111111,
              "#46039f"
             ],
             [
              0.2222222222222222,
              "#7201a8"
             ],
             [
              0.3333333333333333,
              "#9c179e"
             ],
             [
              0.4444444444444444,
              "#bd3786"
             ],
             [
              0.5555555555555556,
              "#d8576b"
             ],
             [
              0.6666666666666666,
              "#ed7953"
             ],
             [
              0.7777777777777778,
              "#fb9f3a"
             ],
             [
              0.8888888888888888,
              "#fdca26"
             ],
             [
              1,
              "#f0f921"
             ]
            ],
            "type": "histogram2dcontour"
           }
          ],
          "mesh3d": [
           {
            "colorbar": {
             "outlinewidth": 0,
             "ticks": ""
            },
            "type": "mesh3d"
           }
          ],
          "parcoords": [
           {
            "line": {
             "colorbar": {
              "outlinewidth": 0,
              "ticks": ""
             }
            },
            "type": "parcoords"
           }
          ],
          "pie": [
           {
            "automargin": true,
            "type": "pie"
           }
          ],
          "scatter": [
           {
            "fillpattern": {
             "fillmode": "overlay",
             "size": 10,
             "solidity": 0.2
            },
            "type": "scatter"
           }
          ],
          "scatter3d": [
           {
            "line": {
             "colorbar": {
              "outlinewidth": 0,
              "ticks": ""
             }
            },
            "marker": {
             "colorbar": {
              "outlinewidth": 0,
              "ticks": ""
             }
            },
            "type": "scatter3d"
           }
          ],
          "scattercarpet": [
           {
            "marker": {
             "colorbar": {
              "outlinewidth": 0,
              "ticks": ""
             }
            },
            "type": "scattercarpet"
           }
          ],
          "scattergeo": [
           {
            "marker": {
             "colorbar": {
              "outlinewidth": 0,
              "ticks": ""
             }
            },
            "type": "scattergeo"
           }
          ],
          "scattergl": [
           {
            "marker": {
             "colorbar": {
              "outlinewidth": 0,
              "ticks": ""
             }
            },
            "type": "scattergl"
           }
          ],
          "scattermapbox": [
           {
            "marker": {
             "colorbar": {
              "outlinewidth": 0,
              "ticks": ""
             }
            },
            "type": "scattermapbox"
           }
          ],
          "scatterpolar": [
           {
            "marker": {
             "colorbar": {
              "outlinewidth": 0,
              "ticks": ""
             }
            },
            "type": "scatterpolar"
           }
          ],
          "scatterpolargl": [
           {
            "marker": {
             "colorbar": {
              "outlinewidth": 0,
              "ticks": ""
             }
            },
            "type": "scatterpolargl"
           }
          ],
          "scatterternary": [
           {
            "marker": {
             "colorbar": {
              "outlinewidth": 0,
              "ticks": ""
             }
            },
            "type": "scatterternary"
           }
          ],
          "surface": [
           {
            "colorbar": {
             "outlinewidth": 0,
             "ticks": ""
            },
            "colorscale": [
             [
              0,
              "#0d0887"
             ],
             [
              0.1111111111111111,
              "#46039f"
             ],
             [
              0.2222222222222222,
              "#7201a8"
             ],
             [
              0.3333333333333333,
              "#9c179e"
             ],
             [
              0.4444444444444444,
              "#bd3786"
             ],
             [
              0.5555555555555556,
              "#d8576b"
             ],
             [
              0.6666666666666666,
              "#ed7953"
             ],
             [
              0.7777777777777778,
              "#fb9f3a"
             ],
             [
              0.8888888888888888,
              "#fdca26"
             ],
             [
              1,
              "#f0f921"
             ]
            ],
            "type": "surface"
           }
          ],
          "table": [
           {
            "cells": {
             "fill": {
              "color": "#EBF0F8"
             },
             "line": {
              "color": "white"
             }
            },
            "header": {
             "fill": {
              "color": "#C8D4E3"
             },
             "line": {
              "color": "white"
             }
            },
            "type": "table"
           }
          ]
         },
         "layout": {
          "annotationdefaults": {
           "arrowcolor": "#2a3f5f",
           "arrowhead": 0,
           "arrowwidth": 1
          },
          "autotypenumbers": "strict",
          "coloraxis": {
           "colorbar": {
            "outlinewidth": 0,
            "ticks": ""
           }
          },
          "colorscale": {
           "diverging": [
            [
             0,
             "#8e0152"
            ],
            [
             0.1,
             "#c51b7d"
            ],
            [
             0.2,
             "#de77ae"
            ],
            [
             0.3,
             "#f1b6da"
            ],
            [
             0.4,
             "#fde0ef"
            ],
            [
             0.5,
             "#f7f7f7"
            ],
            [
             0.6,
             "#e6f5d0"
            ],
            [
             0.7,
             "#b8e186"
            ],
            [
             0.8,
             "#7fbc41"
            ],
            [
             0.9,
             "#4d9221"
            ],
            [
             1,
             "#276419"
            ]
           ],
           "sequential": [
            [
             0,
             "#0d0887"
            ],
            [
             0.1111111111111111,
             "#46039f"
            ],
            [
             0.2222222222222222,
             "#7201a8"
            ],
            [
             0.3333333333333333,
             "#9c179e"
            ],
            [
             0.4444444444444444,
             "#bd3786"
            ],
            [
             0.5555555555555556,
             "#d8576b"
            ],
            [
             0.6666666666666666,
             "#ed7953"
            ],
            [
             0.7777777777777778,
             "#fb9f3a"
            ],
            [
             0.8888888888888888,
             "#fdca26"
            ],
            [
             1,
             "#f0f921"
            ]
           ],
           "sequentialminus": [
            [
             0,
             "#0d0887"
            ],
            [
             0.1111111111111111,
             "#46039f"
            ],
            [
             0.2222222222222222,
             "#7201a8"
            ],
            [
             0.3333333333333333,
             "#9c179e"
            ],
            [
             0.4444444444444444,
             "#bd3786"
            ],
            [
             0.5555555555555556,
             "#d8576b"
            ],
            [
             0.6666666666666666,
             "#ed7953"
            ],
            [
             0.7777777777777778,
             "#fb9f3a"
            ],
            [
             0.8888888888888888,
             "#fdca26"
            ],
            [
             1,
             "#f0f921"
            ]
           ]
          },
          "colorway": [
           "#636efa",
           "#EF553B",
           "#00cc96",
           "#ab63fa",
           "#FFA15A",
           "#19d3f3",
           "#FF6692",
           "#B6E880",
           "#FF97FF",
           "#FECB52"
          ],
          "font": {
           "color": "#2a3f5f"
          },
          "geo": {
           "bgcolor": "white",
           "lakecolor": "white",
           "landcolor": "#E5ECF6",
           "showlakes": true,
           "showland": true,
           "subunitcolor": "white"
          },
          "hoverlabel": {
           "align": "left"
          },
          "hovermode": "closest",
          "mapbox": {
           "style": "light"
          },
          "paper_bgcolor": "white",
          "plot_bgcolor": "#E5ECF6",
          "polar": {
           "angularaxis": {
            "gridcolor": "white",
            "linecolor": "white",
            "ticks": ""
           },
           "bgcolor": "#E5ECF6",
           "radialaxis": {
            "gridcolor": "white",
            "linecolor": "white",
            "ticks": ""
           }
          },
          "scene": {
           "xaxis": {
            "backgroundcolor": "#E5ECF6",
            "gridcolor": "white",
            "gridwidth": 2,
            "linecolor": "white",
            "showbackground": true,
            "ticks": "",
            "zerolinecolor": "white"
           },
           "yaxis": {
            "backgroundcolor": "#E5ECF6",
            "gridcolor": "white",
            "gridwidth": 2,
            "linecolor": "white",
            "showbackground": true,
            "ticks": "",
            "zerolinecolor": "white"
           },
           "zaxis": {
            "backgroundcolor": "#E5ECF6",
            "gridcolor": "white",
            "gridwidth": 2,
            "linecolor": "white",
            "showbackground": true,
            "ticks": "",
            "zerolinecolor": "white"
           }
          },
          "shapedefaults": {
           "line": {
            "color": "#2a3f5f"
           }
          },
          "ternary": {
           "aaxis": {
            "gridcolor": "white",
            "linecolor": "white",
            "ticks": ""
           },
           "baxis": {
            "gridcolor": "white",
            "linecolor": "white",
            "ticks": ""
           },
           "bgcolor": "#E5ECF6",
           "caxis": {
            "gridcolor": "white",
            "linecolor": "white",
            "ticks": ""
           }
          },
          "title": {
           "x": 0.05
          },
          "xaxis": {
           "automargin": true,
           "gridcolor": "white",
           "linecolor": "white",
           "ticks": "",
           "title": {
            "standoff": 15
           },
           "zerolinecolor": "white",
           "zerolinewidth": 2
          },
          "yaxis": {
           "automargin": true,
           "gridcolor": "white",
           "linecolor": "white",
           "ticks": "",
           "title": {
            "standoff": 15
           },
           "zerolinecolor": "white",
           "zerolinewidth": 2
          }
         }
        },
        "title": {
         "text": "Popular Countries based on Starbucks outlets"
        },
        "xaxis": {
         "tickangle": -45,
         "title": {
          "text": "Country"
         }
        },
        "yaxis": {
         "ticksuffix": "%",
         "title": {
          "text": "% of Outlet"
         }
        }
       }
      }
     },
     "metadata": {},
     "output_type": "display_data"
    }
   ],
   "source": [
    "# sort the countries based on the frequency of Starbucks outlets\n",
    "most_outlets = st_world[['country', 'outlet']].sort_values('outlet', ascending=True).tail(10)\n",
    "\n",
    "# Calculate the percentage compared to the total number of Starbucks outlets\n",
    "most_outlets['percentage'] = (most_outlets['outlet'] / st_world.outlet.sum()) * 100\n",
    "\n",
    "# Create the figure\n",
    "fig = go.Figure()\n",
    "\n",
    "# Add the bar chart\n",
    "fig.add_trace(\n",
    "    go.Bar(\n",
    "        y=most_outlets['country'],\n",
    "        x=most_outlets['percentage'],\n",
    "        orientation='h'\n",
    "))\n",
    "\n",
    "# Customize the graph\n",
    "fig.update_layout(\n",
    "    title='Popular Countries based on Starbucks outlets',\n",
    "    xaxis_title='Country',\n",
    "    yaxis_title=\"% of Outlet\",\n",
    "    yaxis_ticksuffix=\"%\",\n",
    "    xaxis_tickangle=-45,\n",
    "    showlegend=False\n",
    ")\n",
    "\n",
    "# Show the plot\n",
    "fig.show()"
   ]
  },
  {
   "cell_type": "markdown",
   "metadata": {},
   "source": [
    "<b>Question 2:</b> Which is the most popular item in Coffee Shop?"
   ]
  },
  {
   "cell_type": "code",
   "execution_count": 8,
   "metadata": {},
   "outputs": [
    {
     "data": {
      "application/vnd.plotly.v1+json": {
       "config": {
        "plotlyServerURL": "https://plot.ly"
       },
       "data": [
        {
         "marker": {
          "color": "rgba(50, 171, 96, 0.6)"
         },
         "orientation": "h",
         "type": "bar",
         "x": [
          1496,
          1497,
          1498,
          1498,
          1502,
          1506,
          1513,
          1531,
          1546,
          1558
         ],
         "y": [
          "Sustainably Grown Organic Lg",
          "Traditional Blend Chai Rg",
          "Serenity Green Tea Rg",
          "Peppermint Rg",
          "Columbian Medium Roast Rg",
          "Ethiopia Rg",
          "Morning Sunrise Chai Rg",
          "Latte",
          "Dark chocolate Lg",
          "Earl Grey Rg"
         ]
        }
       ],
       "layout": {
        "template": {
         "data": {
          "bar": [
           {
            "error_x": {
             "color": "#2a3f5f"
            },
            "error_y": {
             "color": "#2a3f5f"
            },
            "marker": {
             "line": {
              "color": "#E5ECF6",
              "width": 0.5
             },
             "pattern": {
              "fillmode": "overlay",
              "size": 10,
              "solidity": 0.2
             }
            },
            "type": "bar"
           }
          ],
          "barpolar": [
           {
            "marker": {
             "line": {
              "color": "#E5ECF6",
              "width": 0.5
             },
             "pattern": {
              "fillmode": "overlay",
              "size": 10,
              "solidity": 0.2
             }
            },
            "type": "barpolar"
           }
          ],
          "carpet": [
           {
            "aaxis": {
             "endlinecolor": "#2a3f5f",
             "gridcolor": "white",
             "linecolor": "white",
             "minorgridcolor": "white",
             "startlinecolor": "#2a3f5f"
            },
            "baxis": {
             "endlinecolor": "#2a3f5f",
             "gridcolor": "white",
             "linecolor": "white",
             "minorgridcolor": "white",
             "startlinecolor": "#2a3f5f"
            },
            "type": "carpet"
           }
          ],
          "choropleth": [
           {
            "colorbar": {
             "outlinewidth": 0,
             "ticks": ""
            },
            "type": "choropleth"
           }
          ],
          "contour": [
           {
            "colorbar": {
             "outlinewidth": 0,
             "ticks": ""
            },
            "colorscale": [
             [
              0,
              "#0d0887"
             ],
             [
              0.1111111111111111,
              "#46039f"
             ],
             [
              0.2222222222222222,
              "#7201a8"
             ],
             [
              0.3333333333333333,
              "#9c179e"
             ],
             [
              0.4444444444444444,
              "#bd3786"
             ],
             [
              0.5555555555555556,
              "#d8576b"
             ],
             [
              0.6666666666666666,
              "#ed7953"
             ],
             [
              0.7777777777777778,
              "#fb9f3a"
             ],
             [
              0.8888888888888888,
              "#fdca26"
             ],
             [
              1,
              "#f0f921"
             ]
            ],
            "type": "contour"
           }
          ],
          "contourcarpet": [
           {
            "colorbar": {
             "outlinewidth": 0,
             "ticks": ""
            },
            "type": "contourcarpet"
           }
          ],
          "heatmap": [
           {
            "colorbar": {
             "outlinewidth": 0,
             "ticks": ""
            },
            "colorscale": [
             [
              0,
              "#0d0887"
             ],
             [
              0.1111111111111111,
              "#46039f"
             ],
             [
              0.2222222222222222,
              "#7201a8"
             ],
             [
              0.3333333333333333,
              "#9c179e"
             ],
             [
              0.4444444444444444,
              "#bd3786"
             ],
             [
              0.5555555555555556,
              "#d8576b"
             ],
             [
              0.6666666666666666,
              "#ed7953"
             ],
             [
              0.7777777777777778,
              "#fb9f3a"
             ],
             [
              0.8888888888888888,
              "#fdca26"
             ],
             [
              1,
              "#f0f921"
             ]
            ],
            "type": "heatmap"
           }
          ],
          "heatmapgl": [
           {
            "colorbar": {
             "outlinewidth": 0,
             "ticks": ""
            },
            "colorscale": [
             [
              0,
              "#0d0887"
             ],
             [
              0.1111111111111111,
              "#46039f"
             ],
             [
              0.2222222222222222,
              "#7201a8"
             ],
             [
              0.3333333333333333,
              "#9c179e"
             ],
             [
              0.4444444444444444,
              "#bd3786"
             ],
             [
              0.5555555555555556,
              "#d8576b"
             ],
             [
              0.6666666666666666,
              "#ed7953"
             ],
             [
              0.7777777777777778,
              "#fb9f3a"
             ],
             [
              0.8888888888888888,
              "#fdca26"
             ],
             [
              1,
              "#f0f921"
             ]
            ],
            "type": "heatmapgl"
           }
          ],
          "histogram": [
           {
            "marker": {
             "pattern": {
              "fillmode": "overlay",
              "size": 10,
              "solidity": 0.2
             }
            },
            "type": "histogram"
           }
          ],
          "histogram2d": [
           {
            "colorbar": {
             "outlinewidth": 0,
             "ticks": ""
            },
            "colorscale": [
             [
              0,
              "#0d0887"
             ],
             [
              0.1111111111111111,
              "#46039f"
             ],
             [
              0.2222222222222222,
              "#7201a8"
             ],
             [
              0.3333333333333333,
              "#9c179e"
             ],
             [
              0.4444444444444444,
              "#bd3786"
             ],
             [
              0.5555555555555556,
              "#d8576b"
             ],
             [
              0.6666666666666666,
              "#ed7953"
             ],
             [
              0.7777777777777778,
              "#fb9f3a"
             ],
             [
              0.8888888888888888,
              "#fdca26"
             ],
             [
              1,
              "#f0f921"
             ]
            ],
            "type": "histogram2d"
           }
          ],
          "histogram2dcontour": [
           {
            "colorbar": {
             "outlinewidth": 0,
             "ticks": ""
            },
            "colorscale": [
             [
              0,
              "#0d0887"
             ],
             [
              0.1111111111111111,
              "#46039f"
             ],
             [
              0.2222222222222222,
              "#7201a8"
             ],
             [
              0.3333333333333333,
              "#9c179e"
             ],
             [
              0.4444444444444444,
              "#bd3786"
             ],
             [
              0.5555555555555556,
              "#d8576b"
             ],
             [
              0.6666666666666666,
              "#ed7953"
             ],
             [
              0.7777777777777778,
              "#fb9f3a"
             ],
             [
              0.8888888888888888,
              "#fdca26"
             ],
             [
              1,
              "#f0f921"
             ]
            ],
            "type": "histogram2dcontour"
           }
          ],
          "mesh3d": [
           {
            "colorbar": {
             "outlinewidth": 0,
             "ticks": ""
            },
            "type": "mesh3d"
           }
          ],
          "parcoords": [
           {
            "line": {
             "colorbar": {
              "outlinewidth": 0,
              "ticks": ""
             }
            },
            "type": "parcoords"
           }
          ],
          "pie": [
           {
            "automargin": true,
            "type": "pie"
           }
          ],
          "scatter": [
           {
            "fillpattern": {
             "fillmode": "overlay",
             "size": 10,
             "solidity": 0.2
            },
            "type": "scatter"
           }
          ],
          "scatter3d": [
           {
            "line": {
             "colorbar": {
              "outlinewidth": 0,
              "ticks": ""
             }
            },
            "marker": {
             "colorbar": {
              "outlinewidth": 0,
              "ticks": ""
             }
            },
            "type": "scatter3d"
           }
          ],
          "scattercarpet": [
           {
            "marker": {
             "colorbar": {
              "outlinewidth": 0,
              "ticks": ""
             }
            },
            "type": "scattercarpet"
           }
          ],
          "scattergeo": [
           {
            "marker": {
             "colorbar": {
              "outlinewidth": 0,
              "ticks": ""
             }
            },
            "type": "scattergeo"
           }
          ],
          "scattergl": [
           {
            "marker": {
             "colorbar": {
              "outlinewidth": 0,
              "ticks": ""
             }
            },
            "type": "scattergl"
           }
          ],
          "scattermapbox": [
           {
            "marker": {
             "colorbar": {
              "outlinewidth": 0,
              "ticks": ""
             }
            },
            "type": "scattermapbox"
           }
          ],
          "scatterpolar": [
           {
            "marker": {
             "colorbar": {
              "outlinewidth": 0,
              "ticks": ""
             }
            },
            "type": "scatterpolar"
           }
          ],
          "scatterpolargl": [
           {
            "marker": {
             "colorbar": {
              "outlinewidth": 0,
              "ticks": ""
             }
            },
            "type": "scatterpolargl"
           }
          ],
          "scatterternary": [
           {
            "marker": {
             "colorbar": {
              "outlinewidth": 0,
              "ticks": ""
             }
            },
            "type": "scatterternary"
           }
          ],
          "surface": [
           {
            "colorbar": {
             "outlinewidth": 0,
             "ticks": ""
            },
            "colorscale": [
             [
              0,
              "#0d0887"
             ],
             [
              0.1111111111111111,
              "#46039f"
             ],
             [
              0.2222222222222222,
              "#7201a8"
             ],
             [
              0.3333333333333333,
              "#9c179e"
             ],
             [
              0.4444444444444444,
              "#bd3786"
             ],
             [
              0.5555555555555556,
              "#d8576b"
             ],
             [
              0.6666666666666666,
              "#ed7953"
             ],
             [
              0.7777777777777778,
              "#fb9f3a"
             ],
             [
              0.8888888888888888,
              "#fdca26"
             ],
             [
              1,
              "#f0f921"
             ]
            ],
            "type": "surface"
           }
          ],
          "table": [
           {
            "cells": {
             "fill": {
              "color": "#EBF0F8"
             },
             "line": {
              "color": "white"
             }
            },
            "header": {
             "fill": {
              "color": "#C8D4E3"
             },
             "line": {
              "color": "white"
             }
            },
            "type": "table"
           }
          ]
         },
         "layout": {
          "annotationdefaults": {
           "arrowcolor": "#2a3f5f",
           "arrowhead": 0,
           "arrowwidth": 1
          },
          "autotypenumbers": "strict",
          "coloraxis": {
           "colorbar": {
            "outlinewidth": 0,
            "ticks": ""
           }
          },
          "colorscale": {
           "diverging": [
            [
             0,
             "#8e0152"
            ],
            [
             0.1,
             "#c51b7d"
            ],
            [
             0.2,
             "#de77ae"
            ],
            [
             0.3,
             "#f1b6da"
            ],
            [
             0.4,
             "#fde0ef"
            ],
            [
             0.5,
             "#f7f7f7"
            ],
            [
             0.6,
             "#e6f5d0"
            ],
            [
             0.7,
             "#b8e186"
            ],
            [
             0.8,
             "#7fbc41"
            ],
            [
             0.9,
             "#4d9221"
            ],
            [
             1,
             "#276419"
            ]
           ],
           "sequential": [
            [
             0,
             "#0d0887"
            ],
            [
             0.1111111111111111,
             "#46039f"
            ],
            [
             0.2222222222222222,
             "#7201a8"
            ],
            [
             0.3333333333333333,
             "#9c179e"
            ],
            [
             0.4444444444444444,
             "#bd3786"
            ],
            [
             0.5555555555555556,
             "#d8576b"
            ],
            [
             0.6666666666666666,
             "#ed7953"
            ],
            [
             0.7777777777777778,
             "#fb9f3a"
            ],
            [
             0.8888888888888888,
             "#fdca26"
            ],
            [
             1,
             "#f0f921"
            ]
           ],
           "sequentialminus": [
            [
             0,
             "#0d0887"
            ],
            [
             0.1111111111111111,
             "#46039f"
            ],
            [
             0.2222222222222222,
             "#7201a8"
            ],
            [
             0.3333333333333333,
             "#9c179e"
            ],
            [
             0.4444444444444444,
             "#bd3786"
            ],
            [
             0.5555555555555556,
             "#d8576b"
            ],
            [
             0.6666666666666666,
             "#ed7953"
            ],
            [
             0.7777777777777778,
             "#fb9f3a"
            ],
            [
             0.8888888888888888,
             "#fdca26"
            ],
            [
             1,
             "#f0f921"
            ]
           ]
          },
          "colorway": [
           "#636efa",
           "#EF553B",
           "#00cc96",
           "#ab63fa",
           "#FFA15A",
           "#19d3f3",
           "#FF6692",
           "#B6E880",
           "#FF97FF",
           "#FECB52"
          ],
          "font": {
           "color": "#2a3f5f"
          },
          "geo": {
           "bgcolor": "white",
           "lakecolor": "white",
           "landcolor": "#E5ECF6",
           "showlakes": true,
           "showland": true,
           "subunitcolor": "white"
          },
          "hoverlabel": {
           "align": "left"
          },
          "hovermode": "closest",
          "mapbox": {
           "style": "light"
          },
          "paper_bgcolor": "white",
          "plot_bgcolor": "#E5ECF6",
          "polar": {
           "angularaxis": {
            "gridcolor": "white",
            "linecolor": "white",
            "ticks": ""
           },
           "bgcolor": "#E5ECF6",
           "radialaxis": {
            "gridcolor": "white",
            "linecolor": "white",
            "ticks": ""
           }
          },
          "scene": {
           "xaxis": {
            "backgroundcolor": "#E5ECF6",
            "gridcolor": "white",
            "gridwidth": 2,
            "linecolor": "white",
            "showbackground": true,
            "ticks": "",
            "zerolinecolor": "white"
           },
           "yaxis": {
            "backgroundcolor": "#E5ECF6",
            "gridcolor": "white",
            "gridwidth": 2,
            "linecolor": "white",
            "showbackground": true,
            "ticks": "",
            "zerolinecolor": "white"
           },
           "zaxis": {
            "backgroundcolor": "#E5ECF6",
            "gridcolor": "white",
            "gridwidth": 2,
            "linecolor": "white",
            "showbackground": true,
            "ticks": "",
            "zerolinecolor": "white"
           }
          },
          "shapedefaults": {
           "line": {
            "color": "#2a3f5f"
           }
          },
          "ternary": {
           "aaxis": {
            "gridcolor": "white",
            "linecolor": "white",
            "ticks": ""
           },
           "baxis": {
            "gridcolor": "white",
            "linecolor": "white",
            "ticks": ""
           },
           "bgcolor": "#E5ECF6",
           "caxis": {
            "gridcolor": "white",
            "linecolor": "white",
            "ticks": ""
           }
          },
          "title": {
           "x": 0.05
          },
          "xaxis": {
           "automargin": true,
           "gridcolor": "white",
           "linecolor": "white",
           "ticks": "",
           "title": {
            "standoff": 15
           },
           "zerolinecolor": "white",
           "zerolinewidth": 2
          },
          "yaxis": {
           "automargin": true,
           "gridcolor": "white",
           "linecolor": "white",
           "ticks": "",
           "title": {
            "standoff": 15
           },
           "zerolinecolor": "white",
           "zerolinewidth": 2
          }
         }
        },
        "title": {
         "text": "Popular Items in Coffee Shop"
        },
        "xaxis": {
         "title": {
          "text": "Quantity"
         },
         "type": "log"
        },
        "yaxis": {
         "title": {
          "text": "Product"
         }
        }
       }
      }
     },
     "metadata": {},
     "output_type": "display_data"
    }
   ],
   "source": [
    "# find the popular items in coffee shop\n",
    "popular_items = cf_shop.groupby('product')['quantity'].sum().sort_values(ascending=True).tail(10)\n",
    "\n",
    "# Create the figure\n",
    "fig = go.Figure()\n",
    "\n",
    "# Add the horizontal bar chart\n",
    "fig.add_trace(go.Bar(\n",
    "    x=popular_items.values,\n",
    "    y=popular_items.index,\n",
    "    orientation='h',\n",
    "    marker=dict(\n",
    "        color='rgba(50, 171, 96, 0.6)',\n",
    "    )\n",
    "))\n",
    "\n",
    "# Customize the graph\n",
    "fig.update_layout(\n",
    "    title='Popular Items in Coffee Shop',\n",
    "    xaxis_title='Quantity',\n",
    "    yaxis_title='Product',\n",
    "    xaxis=dict(type='log')\n",
    ")\n",
    "\n",
    "# Show the figure\n",
    "fig.show()"
   ]
  },
  {
   "cell_type": "markdown",
   "metadata": {},
   "source": [
    "<b>Question 3:</b> How has the sales of the coffee shop changed over time?"
   ]
  },
  {
   "cell_type": "code",
   "execution_count": 9,
   "metadata": {},
   "outputs": [
    {
     "data": {
      "application/vnd.plotly.v1+json": {
       "config": {
        "plotlyServerURL": "https://plot.ly"
       },
       "data": [
        {
         "marker": {
          "color": "rgba(50, 171, 96, 0.6)"
         },
         "mode": "lines+markers",
         "type": "scatter",
         "x": [
          "2019-04-01T00:00:00",
          "2019-04-02T00:00:00",
          "2019-04-03T00:00:00",
          "2019-04-04T00:00:00",
          "2019-04-05T00:00:00",
          "2019-04-06T00:00:00",
          "2019-04-07T00:00:00",
          "2019-04-08T00:00:00",
          "2019-04-09T00:00:00",
          "2019-04-10T00:00:00",
          "2019-04-11T00:00:00",
          "2019-04-12T00:00:00",
          "2019-04-13T00:00:00",
          "2019-04-14T00:00:00",
          "2019-04-15T00:00:00",
          "2019-04-16T00:00:00",
          "2019-04-17T00:00:00",
          "2019-04-18T00:00:00",
          "2019-04-19T00:00:00",
          "2019-04-20T00:00:00",
          "2019-04-21T00:00:00",
          "2019-04-22T00:00:00",
          "2019-04-23T00:00:00",
          "2019-04-24T00:00:00",
          "2019-04-25T00:00:00",
          "2019-04-26T00:00:00",
          "2019-04-27T00:00:00",
          "2019-04-28T00:00:00",
          "2019-04-29T00:00:00"
         ],
         "y": [
          5206.4,
          5091.35,
          5276.05,
          4943.1,
          5111.8,
          4566.35,
          5664.48,
          6609.74,
          6386.53,
          6143.43,
          5864.54,
          5764.18,
          6116.46,
          6524.01,
          6580.99,
          6587.84,
          6568.8,
          6681.63,
          6865.39,
          6364.46,
          6102.81,
          5559.61,
          5627.89,
          6025.15,
          5617.65,
          5778.83,
          5861.88,
          4776.5,
          4605.65
         ]
        }
       ],
       "layout": {
        "template": {
         "data": {
          "bar": [
           {
            "error_x": {
             "color": "#2a3f5f"
            },
            "error_y": {
             "color": "#2a3f5f"
            },
            "marker": {
             "line": {
              "color": "#E5ECF6",
              "width": 0.5
             },
             "pattern": {
              "fillmode": "overlay",
              "size": 10,
              "solidity": 0.2
             }
            },
            "type": "bar"
           }
          ],
          "barpolar": [
           {
            "marker": {
             "line": {
              "color": "#E5ECF6",
              "width": 0.5
             },
             "pattern": {
              "fillmode": "overlay",
              "size": 10,
              "solidity": 0.2
             }
            },
            "type": "barpolar"
           }
          ],
          "carpet": [
           {
            "aaxis": {
             "endlinecolor": "#2a3f5f",
             "gridcolor": "white",
             "linecolor": "white",
             "minorgridcolor": "white",
             "startlinecolor": "#2a3f5f"
            },
            "baxis": {
             "endlinecolor": "#2a3f5f",
             "gridcolor": "white",
             "linecolor": "white",
             "minorgridcolor": "white",
             "startlinecolor": "#2a3f5f"
            },
            "type": "carpet"
           }
          ],
          "choropleth": [
           {
            "colorbar": {
             "outlinewidth": 0,
             "ticks": ""
            },
            "type": "choropleth"
           }
          ],
          "contour": [
           {
            "colorbar": {
             "outlinewidth": 0,
             "ticks": ""
            },
            "colorscale": [
             [
              0,
              "#0d0887"
             ],
             [
              0.1111111111111111,
              "#46039f"
             ],
             [
              0.2222222222222222,
              "#7201a8"
             ],
             [
              0.3333333333333333,
              "#9c179e"
             ],
             [
              0.4444444444444444,
              "#bd3786"
             ],
             [
              0.5555555555555556,
              "#d8576b"
             ],
             [
              0.6666666666666666,
              "#ed7953"
             ],
             [
              0.7777777777777778,
              "#fb9f3a"
             ],
             [
              0.8888888888888888,
              "#fdca26"
             ],
             [
              1,
              "#f0f921"
             ]
            ],
            "type": "contour"
           }
          ],
          "contourcarpet": [
           {
            "colorbar": {
             "outlinewidth": 0,
             "ticks": ""
            },
            "type": "contourcarpet"
           }
          ],
          "heatmap": [
           {
            "colorbar": {
             "outlinewidth": 0,
             "ticks": ""
            },
            "colorscale": [
             [
              0,
              "#0d0887"
             ],
             [
              0.1111111111111111,
              "#46039f"
             ],
             [
              0.2222222222222222,
              "#7201a8"
             ],
             [
              0.3333333333333333,
              "#9c179e"
             ],
             [
              0.4444444444444444,
              "#bd3786"
             ],
             [
              0.5555555555555556,
              "#d8576b"
             ],
             [
              0.6666666666666666,
              "#ed7953"
             ],
             [
              0.7777777777777778,
              "#fb9f3a"
             ],
             [
              0.8888888888888888,
              "#fdca26"
             ],
             [
              1,
              "#f0f921"
             ]
            ],
            "type": "heatmap"
           }
          ],
          "heatmapgl": [
           {
            "colorbar": {
             "outlinewidth": 0,
             "ticks": ""
            },
            "colorscale": [
             [
              0,
              "#0d0887"
             ],
             [
              0.1111111111111111,
              "#46039f"
             ],
             [
              0.2222222222222222,
              "#7201a8"
             ],
             [
              0.3333333333333333,
              "#9c179e"
             ],
             [
              0.4444444444444444,
              "#bd3786"
             ],
             [
              0.5555555555555556,
              "#d8576b"
             ],
             [
              0.6666666666666666,
              "#ed7953"
             ],
             [
              0.7777777777777778,
              "#fb9f3a"
             ],
             [
              0.8888888888888888,
              "#fdca26"
             ],
             [
              1,
              "#f0f921"
             ]
            ],
            "type": "heatmapgl"
           }
          ],
          "histogram": [
           {
            "marker": {
             "pattern": {
              "fillmode": "overlay",
              "size": 10,
              "solidity": 0.2
             }
            },
            "type": "histogram"
           }
          ],
          "histogram2d": [
           {
            "colorbar": {
             "outlinewidth": 0,
             "ticks": ""
            },
            "colorscale": [
             [
              0,
              "#0d0887"
             ],
             [
              0.1111111111111111,
              "#46039f"
             ],
             [
              0.2222222222222222,
              "#7201a8"
             ],
             [
              0.3333333333333333,
              "#9c179e"
             ],
             [
              0.4444444444444444,
              "#bd3786"
             ],
             [
              0.5555555555555556,
              "#d8576b"
             ],
             [
              0.6666666666666666,
              "#ed7953"
             ],
             [
              0.7777777777777778,
              "#fb9f3a"
             ],
             [
              0.8888888888888888,
              "#fdca26"
             ],
             [
              1,
              "#f0f921"
             ]
            ],
            "type": "histogram2d"
           }
          ],
          "histogram2dcontour": [
           {
            "colorbar": {
             "outlinewidth": 0,
             "ticks": ""
            },
            "colorscale": [
             [
              0,
              "#0d0887"
             ],
             [
              0.1111111111111111,
              "#46039f"
             ],
             [
              0.2222222222222222,
              "#7201a8"
             ],
             [
              0.3333333333333333,
              "#9c179e"
             ],
             [
              0.4444444444444444,
              "#bd3786"
             ],
             [
              0.5555555555555556,
              "#d8576b"
             ],
             [
              0.6666666666666666,
              "#ed7953"
             ],
             [
              0.7777777777777778,
              "#fb9f3a"
             ],
             [
              0.8888888888888888,
              "#fdca26"
             ],
             [
              1,
              "#f0f921"
             ]
            ],
            "type": "histogram2dcontour"
           }
          ],
          "mesh3d": [
           {
            "colorbar": {
             "outlinewidth": 0,
             "ticks": ""
            },
            "type": "mesh3d"
           }
          ],
          "parcoords": [
           {
            "line": {
             "colorbar": {
              "outlinewidth": 0,
              "ticks": ""
             }
            },
            "type": "parcoords"
           }
          ],
          "pie": [
           {
            "automargin": true,
            "type": "pie"
           }
          ],
          "scatter": [
           {
            "fillpattern": {
             "fillmode": "overlay",
             "size": 10,
             "solidity": 0.2
            },
            "type": "scatter"
           }
          ],
          "scatter3d": [
           {
            "line": {
             "colorbar": {
              "outlinewidth": 0,
              "ticks": ""
             }
            },
            "marker": {
             "colorbar": {
              "outlinewidth": 0,
              "ticks": ""
             }
            },
            "type": "scatter3d"
           }
          ],
          "scattercarpet": [
           {
            "marker": {
             "colorbar": {
              "outlinewidth": 0,
              "ticks": ""
             }
            },
            "type": "scattercarpet"
           }
          ],
          "scattergeo": [
           {
            "marker": {
             "colorbar": {
              "outlinewidth": 0,
              "ticks": ""
             }
            },
            "type": "scattergeo"
           }
          ],
          "scattergl": [
           {
            "marker": {
             "colorbar": {
              "outlinewidth": 0,
              "ticks": ""
             }
            },
            "type": "scattergl"
           }
          ],
          "scattermapbox": [
           {
            "marker": {
             "colorbar": {
              "outlinewidth": 0,
              "ticks": ""
             }
            },
            "type": "scattermapbox"
           }
          ],
          "scatterpolar": [
           {
            "marker": {
             "colorbar": {
              "outlinewidth": 0,
              "ticks": ""
             }
            },
            "type": "scatterpolar"
           }
          ],
          "scatterpolargl": [
           {
            "marker": {
             "colorbar": {
              "outlinewidth": 0,
              "ticks": ""
             }
            },
            "type": "scatterpolargl"
           }
          ],
          "scatterternary": [
           {
            "marker": {
             "colorbar": {
              "outlinewidth": 0,
              "ticks": ""
             }
            },
            "type": "scatterternary"
           }
          ],
          "surface": [
           {
            "colorbar": {
             "outlinewidth": 0,
             "ticks": ""
            },
            "colorscale": [
             [
              0,
              "#0d0887"
             ],
             [
              0.1111111111111111,
              "#46039f"
             ],
             [
              0.2222222222222222,
              "#7201a8"
             ],
             [
              0.3333333333333333,
              "#9c179e"
             ],
             [
              0.4444444444444444,
              "#bd3786"
             ],
             [
              0.5555555555555556,
              "#d8576b"
             ],
             [
              0.6666666666666666,
              "#ed7953"
             ],
             [
              0.7777777777777778,
              "#fb9f3a"
             ],
             [
              0.8888888888888888,
              "#fdca26"
             ],
             [
              1,
              "#f0f921"
             ]
            ],
            "type": "surface"
           }
          ],
          "table": [
           {
            "cells": {
             "fill": {
              "color": "#EBF0F8"
             },
             "line": {
              "color": "white"
             }
            },
            "header": {
             "fill": {
              "color": "#C8D4E3"
             },
             "line": {
              "color": "white"
             }
            },
            "type": "table"
           }
          ]
         },
         "layout": {
          "annotationdefaults": {
           "arrowcolor": "#2a3f5f",
           "arrowhead": 0,
           "arrowwidth": 1
          },
          "autotypenumbers": "strict",
          "coloraxis": {
           "colorbar": {
            "outlinewidth": 0,
            "ticks": ""
           }
          },
          "colorscale": {
           "diverging": [
            [
             0,
             "#8e0152"
            ],
            [
             0.1,
             "#c51b7d"
            ],
            [
             0.2,
             "#de77ae"
            ],
            [
             0.3,
             "#f1b6da"
            ],
            [
             0.4,
             "#fde0ef"
            ],
            [
             0.5,
             "#f7f7f7"
            ],
            [
             0.6,
             "#e6f5d0"
            ],
            [
             0.7,
             "#b8e186"
            ],
            [
             0.8,
             "#7fbc41"
            ],
            [
             0.9,
             "#4d9221"
            ],
            [
             1,
             "#276419"
            ]
           ],
           "sequential": [
            [
             0,
             "#0d0887"
            ],
            [
             0.1111111111111111,
             "#46039f"
            ],
            [
             0.2222222222222222,
             "#7201a8"
            ],
            [
             0.3333333333333333,
             "#9c179e"
            ],
            [
             0.4444444444444444,
             "#bd3786"
            ],
            [
             0.5555555555555556,
             "#d8576b"
            ],
            [
             0.6666666666666666,
             "#ed7953"
            ],
            [
             0.7777777777777778,
             "#fb9f3a"
            ],
            [
             0.8888888888888888,
             "#fdca26"
            ],
            [
             1,
             "#f0f921"
            ]
           ],
           "sequentialminus": [
            [
             0,
             "#0d0887"
            ],
            [
             0.1111111111111111,
             "#46039f"
            ],
            [
             0.2222222222222222,
             "#7201a8"
            ],
            [
             0.3333333333333333,
             "#9c179e"
            ],
            [
             0.4444444444444444,
             "#bd3786"
            ],
            [
             0.5555555555555556,
             "#d8576b"
            ],
            [
             0.6666666666666666,
             "#ed7953"
            ],
            [
             0.7777777777777778,
             "#fb9f3a"
            ],
            [
             0.8888888888888888,
             "#fdca26"
            ],
            [
             1,
             "#f0f921"
            ]
           ]
          },
          "colorway": [
           "#636efa",
           "#EF553B",
           "#00cc96",
           "#ab63fa",
           "#FFA15A",
           "#19d3f3",
           "#FF6692",
           "#B6E880",
           "#FF97FF",
           "#FECB52"
          ],
          "font": {
           "color": "#2a3f5f"
          },
          "geo": {
           "bgcolor": "white",
           "lakecolor": "white",
           "landcolor": "#E5ECF6",
           "showlakes": true,
           "showland": true,
           "subunitcolor": "white"
          },
          "hoverlabel": {
           "align": "left"
          },
          "hovermode": "closest",
          "mapbox": {
           "style": "light"
          },
          "paper_bgcolor": "white",
          "plot_bgcolor": "#E5ECF6",
          "polar": {
           "angularaxis": {
            "gridcolor": "white",
            "linecolor": "white",
            "ticks": ""
           },
           "bgcolor": "#E5ECF6",
           "radialaxis": {
            "gridcolor": "white",
            "linecolor": "white",
            "ticks": ""
           }
          },
          "scene": {
           "xaxis": {
            "backgroundcolor": "#E5ECF6",
            "gridcolor": "white",
            "gridwidth": 2,
            "linecolor": "white",
            "showbackground": true,
            "ticks": "",
            "zerolinecolor": "white"
           },
           "yaxis": {
            "backgroundcolor": "#E5ECF6",
            "gridcolor": "white",
            "gridwidth": 2,
            "linecolor": "white",
            "showbackground": true,
            "ticks": "",
            "zerolinecolor": "white"
           },
           "zaxis": {
            "backgroundcolor": "#E5ECF6",
            "gridcolor": "white",
            "gridwidth": 2,
            "linecolor": "white",
            "showbackground": true,
            "ticks": "",
            "zerolinecolor": "white"
           }
          },
          "shapedefaults": {
           "line": {
            "color": "#2a3f5f"
           }
          },
          "ternary": {
           "aaxis": {
            "gridcolor": "white",
            "linecolor": "white",
            "ticks": ""
           },
           "baxis": {
            "gridcolor": "white",
            "linecolor": "white",
            "ticks": ""
           },
           "bgcolor": "#E5ECF6",
           "caxis": {
            "gridcolor": "white",
            "linecolor": "white",
            "ticks": ""
           }
          },
          "title": {
           "x": 0.05
          },
          "xaxis": {
           "automargin": true,
           "gridcolor": "white",
           "linecolor": "white",
           "ticks": "",
           "title": {
            "standoff": 15
           },
           "zerolinecolor": "white",
           "zerolinewidth": 2
          },
          "yaxis": {
           "automargin": true,
           "gridcolor": "white",
           "linecolor": "white",
           "ticks": "",
           "title": {
            "standoff": 15
           },
           "zerolinecolor": "white",
           "zerolinewidth": 2
          }
         }
        },
        "title": {
         "text": "Monthly Sales of Coffee Shop"
        },
        "xaxis": {
         "title": {
          "text": "Date"
         }
        },
        "yaxis": {
         "tickprefix": "$",
         "title": {
          "text": "Total Gross"
         }
        }
       }
      }
     },
     "metadata": {},
     "output_type": "display_data"
    }
   ],
   "source": [
    "# get monthly sales data\n",
    "monthly_sales = cf_shop.resample('D', on='transaction')['unit_price'].sum()\n",
    "\n",
    "# Create the figure\n",
    "fig = go.Figure()\n",
    "\n",
    "# Add the line chart\n",
    "fig.add_trace(go.Scatter(\n",
    "    x=monthly_sales.index,\n",
    "    y=monthly_sales.values,\n",
    "    mode='lines+markers',\n",
    "    marker=dict(\n",
    "        color='rgba(50, 171, 96, 0.6)',\n",
    "    )\n",
    "))\n",
    "\n",
    "# Customize the graph\n",
    "fig.update_layout(\n",
    "    title='Monthly Sales of Coffee Shop',\n",
    "    xaxis_title='Date',\n",
    "    yaxis_title='Total Gross',\n",
    "    yaxis_tickprefix=\"$\",\n",
    ")\n",
    "\n",
    "# Show the figure\n",
    "fig.show()"
   ]
  },
  {
   "cell_type": "markdown",
   "metadata": {},
   "source": [
    "<b>Question 4:</b> Do customers that spend more on coffee also explore more items?"
   ]
  },
  {
   "cell_type": "code",
   "execution_count": 10,
   "metadata": {},
   "outputs": [
    {
     "data": {
      "application/vnd.plotly.v1+json": {
       "config": {
        "plotlyServerURL": "https://plot.ly"
       },
       "data": [
        {
         "marker": {
          "color": "rgba(50, 171, 96, 0.6)",
          "size": 12
         },
         "mode": "markers",
         "text": [
          359,
          5668,
          5784,
          5188,
          5589,
          5076,
          17,
          5147,
          427,
          5529,
          5369,
          339,
          5659,
          5710,
          5457,
          5741,
          5394,
          5365,
          5024,
          348,
          153,
          623,
          609,
          5574,
          5801,
          5813,
          5569,
          349,
          5755,
          5844,
          5217,
          5875,
          5905,
          5133,
          385,
          5436,
          5041,
          397,
          478,
          535,
          5118,
          5346,
          499,
          5413,
          5664,
          5593,
          630,
          5551,
          225,
          5206,
          682,
          5541,
          5614,
          5241,
          582,
          5523,
          103,
          5936,
          445,
          576,
          8198,
          5626,
          5019,
          292,
          5837,
          412,
          5008,
          741,
          792,
          207,
          5521,
          123,
          5749,
          5759,
          5299,
          5336,
          147,
          5248,
          5324,
          405,
          365,
          5450,
          5742,
          5604,
          5549,
          261,
          5615,
          5540,
          5621,
          5622,
          5514,
          5497,
          5495,
          5639,
          5640,
          5491,
          5648,
          5679,
          5682,
          5444,
          5693,
          5706,
          5407,
          5404,
          165,
          5366,
          161,
          5729,
          150,
          5810,
          5251,
          5214,
          5849,
          470,
          5859,
          5153,
          79,
          77,
          5148,
          5869,
          5131,
          488,
          5117,
          5893,
          5897,
          5215,
          5034,
          5022,
          5939,
          5018,
          5943,
          5945,
          8084,
          739,
          8203,
          721,
          713,
          593,
          614,
          5172,
          5173,
          5066,
          5584,
          5836,
          97,
          455,
          93,
          5194,
          5202,
          5841,
          5834,
          5812,
          460,
          419,
          750,
          754,
          5518,
          5517,
          761,
          5250,
          5478,
          5200,
          770,
          783,
          417,
          290,
          5482,
          562,
          766,
          443,
          578,
          5582,
          635,
          638,
          5565,
          5561,
          5560,
          5558,
          256,
          5555,
          275,
          604,
          600,
          673,
          5235,
          690,
          588,
          442,
          583,
          266,
          296,
          654,
          415,
          5175,
          5472,
          5104,
          5105,
          5264,
          489,
          402,
          484,
          5358,
          5280,
          5297,
          360,
          362,
          393,
          457,
          5312,
          5156,
          366,
          5316,
          468,
          373,
          5370,
          5474,
          5101,
          5099,
          380,
          5470,
          303,
          5031,
          5460,
          5255,
          5445,
          5037,
          5047,
          5050,
          5428,
          5423,
          5051,
          5420,
          519,
          5411,
          5409,
          5260,
          5080,
          334,
          5027,
          8501,
          618,
          5730,
          5733,
          5913,
          5921,
          5927,
          45,
          5942,
          5645,
          5822,
          5643,
          5748,
          5635,
          5819,
          5816,
          106,
          5838,
          5814,
          187,
          5839,
          68,
          5855,
          5708,
          5698,
          5888,
          5890,
          5718,
          5773,
          5686,
          163,
          86,
          185,
          5723,
          5725,
          5840,
          5903,
          8038,
          36,
          78,
          5762,
          8293,
          228,
          139,
          21,
          233,
          5606,
          5599,
          8116,
          5788,
          5775,
          5772,
          137,
          27,
          5774,
          5618,
          217,
          5802,
          8103,
          85,
          475,
          474,
          464,
          413,
          5276,
          411,
          5161,
          5863,
          5258,
          5779,
          5155,
          5160,
          129,
          110,
          5254,
          5219,
          5234,
          104,
          5149,
          5800,
          5794,
          422,
          5828,
          462,
          5191,
          452,
          5793,
          121,
          5253,
          5792,
          5833,
          5186,
          5212,
          451,
          5183,
          505,
          5143,
          782,
          780,
          8047,
          8095,
          759,
          755,
          752,
          568,
          569,
          749,
          740,
          575,
          8168,
          786,
          8194,
          717,
          705,
          700,
          696,
          8299,
          13,
          8302,
          672,
          671,
          8354,
          8398,
          5,
          620,
          718,
          5868,
          787,
          797,
          5142,
          5140,
          5126,
          492,
          494,
          5884,
          496,
          5103,
          5891,
          61,
          5098,
          5892,
          5898,
          793,
          5067,
          516,
          5063,
          5907,
          522,
          524,
          5910,
          5043,
          528,
          5930,
          5938,
          5021,
          540,
          543,
          56,
          132,
          5586,
          5239,
          5385,
          5381,
          5526,
          5377,
          5374,
          270,
          5534,
          5539,
          5717,
          5617,
          5367,
          5616,
          5666,
          5363,
          5357,
          262,
          5353,
          5350,
          357,
          5736,
          345,
          5343,
          5628,
          5631,
          5675,
          5665,
          5676,
          5476,
          5454,
          309,
          310,
          5650,
          5683,
          5629,
          287,
          5690,
          5421,
          5694,
          177,
          5707,
          171,
          5508,
          5511,
          5513,
          5439,
          363,
          219,
          226,
          232,
          5567,
          375,
          144,
          5579,
          5325,
          231,
          143,
          5317,
          387,
          5309,
          5591,
          5588,
          5771,
          5753,
          5751,
          245,
          5473,
          5338,
          372,
          148,
          5602,
          367,
          5552,
          5556,
          369,
          5004,
          5007,
          8416,
          644,
          5488,
          5011,
          8402,
          5647,
          647,
          5940,
          719,
          8467,
          5653,
          5477,
          8235,
          626,
          5663,
          5475,
          5028,
          8473,
          5585,
          5918,
          8474,
          5638,
          5501,
          742,
          8012,
          8298,
          5601,
          5609,
          712,
          5543,
          5533,
          5572,
          680,
          675,
          8308,
          5596,
          5525,
          8391,
          5605,
          8046,
          5633,
          771,
          775,
          8237,
          8232,
          8028,
          784,
          668,
          5507,
          788,
          660,
          738,
          791,
          5278,
          5044,
          5231,
          5230,
          5221,
          5809,
          5216,
          5811,
          5339,
          5340,
          5341,
          5198,
          5738,
          5189,
          5351,
          5356,
          5181,
          5179,
          5843,
          5337,
          5805,
          5237,
          5587,
          5293,
          5294,
          5275,
          5266,
          5766,
          5263,
          5300,
          5307,
          5848,
          5256,
          5781,
          5789,
          5313,
          5319,
          5252,
          5335,
          5240,
          5803,
          5308,
          5721,
          5364,
          5170,
          5113,
          5109,
          5889,
          5102,
          5691,
          5285,
          5089,
          5087,
          5886,
          5079,
          5449,
          619,
          5059,
          5053,
          5680,
          5463,
          5909,
          5466,
          5448,
          5914,
          5406,
          5400,
          5851,
          5716,
          5371,
          5714,
          5150,
          5712,
          5873,
          5386,
          5121,
          5711,
          5876,
          5877,
          5878,
          5128,
          5882,
          5397,
          5127,
          5398,
          5395,
          5442,
          1,
          188,
          471,
          479,
          377,
          376,
          592,
          354,
          49,
          590,
          353,
          170,
          234,
          343,
          126,
          486,
          487,
          545,
          594,
          20,
          466,
          389,
          30,
          571,
          436,
          421,
          31,
          155,
          401,
          152,
          399,
          450,
          454,
          559,
          37,
          458,
          198,
          146,
          142,
          498,
          258,
          351,
          29,
          259,
          517,
          518,
          284,
          308,
          277,
          299,
          611,
          532,
          96,
          297,
          268,
          520,
          316,
          293,
          615,
          102,
          506,
          529,
          267,
          5852,
          5184,
          5218,
          5726,
          521,
          5850,
          5180,
          435,
          514,
          5745,
          5058,
          5853,
          5715,
          5190,
          5193,
          5054,
          5737,
          439,
          164,
          5197,
          5199,
          5207,
          5727,
          159,
          453,
          5069,
          504,
          5168,
          5088,
          5831,
          5094,
          5130,
          5129,
          5125,
          5790,
          5135,
          5791,
          122,
          5797,
          5804,
          5808,
          5107,
          501,
          502,
          5122,
          140,
          91,
          5136,
          84,
          5165,
          5764,
          5072,
          467,
          5157,
          5073,
          89,
          5767,
          127,
          513,
          5078,
          483,
          5139,
          5138,
          88,
          5770,
          5763,
          5323,
          433,
          264,
          260,
          5554,
          255,
          5401,
          5399,
          5396,
          331,
          332,
          5537,
          5390,
          333,
          244,
          243,
          241,
          5382,
          337,
          239,
          5590,
          5373,
          5576,
          5531,
          5434,
          271,
          5484,
          5492,
          295,
          298,
          5493,
          5500,
          5503,
          5505,
          5462,
          5461,
          283,
          5459,
          5458,
          5456,
          5455,
          5512,
          5516,
          312,
          5519,
          5443,
          5522,
          236,
          5362,
          227,
          223,
          5284,
          5657,
          5660,
          5661,
          5277,
          195,
          5273,
          5267,
          404,
          5670,
          5048,
          5681,
          5261,
          416,
          5689,
          181,
          5692,
          5243,
          5242,
          426,
          5696,
          5655,
          5223,
          5288,
          5292,
          222,
          220,
          358,
          5334,
          5333,
          5330,
          5329,
          5328,
          5327,
          5634,
          205,
          5642,
          5314,
          5311,
          5310,
          201,
          5305,
          5302,
          5649,
          5651,
          5295,
          5289,
          5862,
          5152,
          5486,
          5003,
          5005,
          760,
          5902,
          32,
          8051,
          5010,
          716,
          667,
          658,
          5013,
          5014,
          585,
          5015,
          5016,
          581,
          570,
          747,
          778,
          5001,
          799,
          8332,
          781,
          692,
          8253,
          555,
          44,
          694,
          8238,
          8277,
          699,
          38,
          19,
          679,
          8123,
          8004,
          790,
          8233,
          11,
          5920,
          8325,
          5896,
          649,
          657,
          5934,
          526,
          5870,
          8433,
          5036,
          530,
          8456,
          4,
          632,
          73,
          631,
          5866,
          639,
          5872,
          606,
          605,
          622,
          62,
          744,
          8115,
          8120,
          8421,
          8171,
          5894,
          8498,
          72,
          386,
          5315,
          8127,
          414,
          706,
          203,
          382,
          5320,
          204,
          18,
          8126,
          5326,
          698,
          423,
          5249,
          424,
          383,
          8216,
          723,
          390,
          23,
          196,
          5282,
          720,
          5287,
          5662,
          8153,
          8149,
          5271,
          5270,
          5654,
          5291,
          715,
          197,
          714,
          5296,
          5269,
          5669,
          394,
          8204,
          391,
          733,
          711,
          8207,
          183,
          8175,
          5257,
          182,
          8209,
          8215,
          199,
          5595,
          371,
          274,
          5524,
          273,
          5528,
          6,
          5432,
          5429,
          5427,
          8401,
          655,
          5547,
          656,
          5415,
          5553,
          257,
          5441,
          645,
          5446,
          8426,
          613,
          5483,
          289,
          5490,
          621,
          8468,
          5468,
          324,
          5465,
          8454,
          8449,
          636,
          637,
          279,
          8432,
          8431,
          304,
          374,
          5557,
          5562,
          14,
          346,
          595,
          5361,
          5360,
          681,
          352,
          8287,
          5608,
          8273,
          8270,
          5344,
          5624,
          5342,
          364,
          235,
          677,
          12,
          238,
          5564,
          5402,
          250,
          5568,
          8362,
          8343,
          8342,
          254,
          5570,
          5580,
          8331,
          8317,
          5380,
          5379,
          5378,
          8309,
          666,
          5247,
          8136,
          737,
          136,
          508,
          5821,
          469,
          5760,
          5823,
          5167,
          5932,
          5825,
          5830,
          99,
          5835,
          509,
          461,
          59,
          5086,
          92,
          5178,
          459,
          5747,
          5887,
          772,
          560,
          5185,
          5081,
          511,
          512,
          5926,
          8020,
          553,
          5017,
          5901,
          124,
          114,
          800,
          5908,
          5787,
          51,
          5783,
          5114,
          542,
          5911,
          5137,
          5112,
          5922,
          5141,
          5110,
          128,
          133,
          480,
          5246,
          134,
          5012,
          551,
          5151,
          5485,
          108,
          5154,
          5820,
          765,
          55,
          764,
          5713,
          8083,
          74,
          434,
          5192,
          5065,
          5064,
          5871,
          5226,
          5227,
          5061,
          5060,
          5038,
          5856,
          5865,
          5052,
          5042,
          5857,
          431,
          5699,
          5236,
          5697,
          5049,
          527,
          5858,
          178,
          8119,
          8078,
          5068,
          515,
          5029,
          66,
          8026,
          5077,
          5735,
          8040,
          5075,
          156,
          5074,
          8063,
          5722,
          565,
          71,
          5211,
          160,
          8065,
          5845,
          5509,
          5542,
          288,
          253,
          5532,
          265,
          8422,
          5489,
          5520,
          5880,
          5538,
          8367,
          7,
          5566,
          8366,
          8452,
          115,
          5546,
          281,
          8376,
          5550,
          8434,
          5815,
          5530,
          5502,
          57,
          263,
          5510,
          109,
          8464,
          285,
          8408,
          8394,
          8409,
          8470,
          111,
          8484,
          112,
          63,
          5923,
          5904,
          8068,
          166,
          5656,
          8199,
          5719,
          5720,
          162,
          5652,
          8087,
          5731,
          5734,
          8029,
          200,
          5646,
          8230,
          8018,
          5644,
          8005,
          8202,
          172,
          8155,
          5709,
          5695,
          8125,
          8112,
          5688,
          5684,
          5700,
          184,
          5701,
          8130,
          8132,
          5677,
          8135,
          5702,
          8143,
          8108,
          5703,
          5705,
          193,
          175,
          151,
          5641,
          42,
          206,
          8291,
          5768,
          5603,
          229,
          5600,
          5597,
          5780,
          237,
          5782,
          8304,
          47,
          5916,
          240,
          8315,
          5577,
          125,
          247,
          5571,
          54,
          8290,
          5798,
          5925,
          5613,
          43,
          5750,
          5752,
          8240,
          8247,
          617,
          5630,
          5935,
          5757,
          5758,
          8264,
          210,
          211,
          5761,
          5931,
          213,
          5765,
          5620,
          218,
          8286,
          5860,
          616,
          398,
          350,
          534,
          5204,
          646,
          5368,
          342,
          5030,
          531,
          5375,
          5195,
          336,
          5383,
          572,
          441,
          449,
          640,
          5391,
          525,
          523,
          5177,
          745,
          5403,
          5056,
          691,
          633,
          5169,
          326,
          561,
          5387,
          724,
          5210,
          5220,
          400,
          5283,
          546,
          5006,
          544,
          662,
          796,
          407,
          5306,
          5259,
          670,
          5318,
          730,
          725,
          418,
          538,
          789,
          425,
          5238,
          370,
          368,
          552,
          785,
          537,
          5345,
          603,
          736,
          5348,
          5025,
          323,
          584,
          768,
          485,
          5162,
          625,
          5426,
          5111,
          708,
          5093,
          482,
          314,
          491,
          495,
          5092,
          490,
          5085,
          702,
          587,
          589,
          5144,
          300,
          5158,
          5134,
          758,
          5120,
          473,
          5418,
          629,
          5119,
          476,
          701,
          321,
          5096,
          757,
          294,
          5123,
          5430,
          428,
          87,
          116,
          8160,
          118,
          176,
          5795,
          5116,
          8239,
          5108,
          179,
          5268,
          8337,
          5671,
          5002,
          190,
          8329,
          8231,
          5818,
          5899,
          726,
          8234,
          5685,
          107,
          58,
          596,
          5895,
          5244,
          113,
          678,
          438,
          119,
          5045,
          5743,
          5046,
          191,
          5082,
          5846,
          5182,
          5146,
          477,
          5176,
          5174,
          463,
          135,
          82,
          5756,
          5847,
          580,
          472,
          83,
          8250,
          5842,
          5039,
          76,
          120,
          95,
          173,
          5224,
          16,
          169,
          67,
          5124,
          5209,
          15,
          722,
          685,
          710,
          5728,
          5874,
          5032,
          75,
          8205,
          8246,
          448,
          94,
          665,
          8049,
          8350,
          8082,
          8031,
          8085,
          5425,
          8027,
          5422,
          8089,
          5544,
          5545,
          8090,
          322,
          5410,
          8469,
          325,
          8017,
          8014,
          35,
          330,
          5578,
          5581,
          641,
          642,
          8430,
          8001,
          643,
          774,
          252,
          8077,
          317,
          5527,
          564,
          286,
          5496,
          8499,
          8497,
          5499,
          5469,
          5467,
          302,
          8491,
          8055,
          5506,
          305,
          282,
          306,
          5453,
          5452,
          280,
          8490,
          5515,
          624,
          278,
          566,
          33,
          5440,
          5438,
          5437,
          5594,
          341,
          5095,
          8371,
          5632,
          5610,
          5933,
          50,
          356,
          388,
          652,
          5915,
          8141,
          5349,
          48,
          653,
          648,
          732,
          212,
          5924,
          379,
          9,
          5321,
          777,
          550,
          577,
          10,
          5354,
          395,
          5279,
          8356,
          5826,
          52,
          5359,
          5290,
          8363,
          5941,
          39,
          8358,
          40,
          8151,
          731,
          8217,
          100,
          8067,
          8044,
          8156,
          8133,
          5832,
          5917,
          510,
          8137,
          798,
          5090,
          8062,
          8053,
          5900,
          709,
          5009,
          8211,
          756,
          533,
          746,
          46,
          8098,
          8100,
          8102,
          8107,
          8150,
          8190,
          5883,
          8010,
          8110,
          5881,
          8178,
          41,
          5035,
          8114,
          8176,
          5944,
          69,
          8035,
          24,
          5885,
          5023,
          64,
          8088,
          5929,
          554,
          8162,
          8163,
          779,
          8024,
          5487,
          8091,
          5062,
          8122,
          767,
          8015,
          5854,
          8023,
          743,
          291,
          8221,
          5548,
          8380,
          602,
          384,
          392,
          5824,
          5658,
          8355,
          5272,
          5667,
          5672,
          8333,
          5416,
          669,
          5678,
          8326,
          5262,
          408,
          8320,
          627,
          5535,
          597,
          180,
          429,
          8439,
          8305,
          628,
          5637,
          5636,
          8458,
          607,
          5392,
          248,
          5573,
          5389,
          5388,
          246,
          335,
          5376,
          5372,
          340,
          8420,
          230,
          8448,
          8418,
          5607,
          5352,
          327,
          651,
          8407,
          8405,
          5559,
          5623,
          5625,
          8,
          8455,
          5412,
          5232,
          318,
          674,
          269,
          5754,
          307,
          8265,
          5166,
          5164,
          138,
          5464,
          5159,
          5769,
          131,
          8496,
          130,
          5494,
          8295,
          5479,
          8244,
          8243,
          5132,
          493,
          5796,
          5799,
          497,
          5480,
          5115,
          5106,
          105,
          5481,
          507,
          481,
          149,
          688,
          8442,
          5205,
          8284,
          157,
          5201,
          5732,
          8283,
          5746,
          447,
          5435,
          5208,
          154,
          8276,
          8050,
          5433,
          315,
          440,
          8288,
          683,
          5187,
          5744,
          8292,
          5447,
          444,
          5724,
          567,
          8460,
          8094,
          8073,
          8478,
          8093,
          8466,
          8465,
          8479,
          8443,
          634,
          728,
          8425,
          684,
          8170,
          8280,
          8181,
          8183,
          8189,
          8274,
          8193,
          689,
          8258,
          586,
          693,
          8249,
          8236,
          703,
          8294,
          8097,
          8296,
          8316,
          8419,
          573,
          650,
          8412,
          8404,
          8399,
          8392,
          8390,
          8388,
          8134,
          8387,
          8385,
          8372,
          8369,
          8330,
          8313,
          8275,
          209,
          5739,
          5303,
          5332,
          541,
          547,
          5612,
          5611,
          795,
          5919,
          355,
          5286,
          224,
          347,
          5598,
          776,
          5384,
          5583,
          773,
          5575,
          769,
          8006,
          5355,
          80,
          194,
          5070,
          465,
          5171,
          5196,
          5203,
          5213,
          168,
          5777,
          437,
          5222,
          5145,
          174,
          5785,
          5225,
          5229,
          5807,
          432,
          5233,
          5817,
          5245,
          406,
          189,
          8007,
          329,
          60,
          762,
          5451,
          5504,
          5405,
          34,
          8016,
          5424,
          313,
          8030,
          5417,
          563,
          251,
          763,
          301,
          5498,
          311,
          5563,
          5408,
          8339,
          8200,
          249,
          5083,
          8477,
          8328,
          8214,
          186,
          5827,
          8338,
          5265,
          5274,
          8074,
          8319,
          5055,
          5281,
          8192,
          8357,
          5861,
          8075,
          8187,
          8359,
          8360,
          5864,
          5298,
          661,
          8476,
          101,
          704,
          8314,
          145,
          446,
          8259,
          686,
          8257,
          8495,
          8493,
          8289,
          5776,
          167,
          5778,
          8489,
          8060,
          8488,
          5786,
          8485,
          591,
          8301,
          8303,
          5806,
          8480,
          753,
          5867,
          8306,
          8307,
          8070,
          8227,
          8223,
          5301,
          8361,
          70,
          5619,
          215,
          8462,
          8142,
          5912,
          8140,
          8032,
          751,
          729,
          794,
          5414,
          8129,
          344,
          8403,
          338,
          8429,
          242,
          8117,
          8021,
          8002,
          8111,
          8435,
          8451,
          8436,
          8105,
          8104,
          8437,
          8450,
          8427,
          53,
          8271,
          65,
          539,
          5322,
          25,
          8379,
          8393,
          202,
          8374,
          8172,
          5536,
          8268,
          8166,
          378,
          208,
          8174,
          8389,
          536,
          659,
          5020,
          8486,
          5674,
          5592,
          5393,
          663,
          8365,
          5304,
          8278,
          5740,
          5471,
          456,
          8438,
          8471,
          8453,
          8417,
          403,
          8400,
          276,
          214,
          5673,
          5347,
          409,
          8334,
          8324,
          8321,
          8335,
          8396,
          8318,
          5431,
          5687,
          221,
          420,
          8312,
          664,
          8352,
          8482,
          8413,
          601,
          610,
          8424,
          216,
          8045,
          8188,
          8034,
          8182,
          8139,
          8186,
          8210,
          8081,
          500,
          5100,
          5097,
          8076,
          8229,
          8092,
          734,
          5057,
          556,
          8201,
          557,
          8121,
          574,
          90,
          8086,
          5040,
          558,
          8248,
          8148,
          695,
          8037,
          8266,
          5163,
          8061,
          8057,
          8124,
          579,
          8344,
          8164,
          192,
          381,
          8340,
          8381,
          8383,
          8336,
          8206,
          5331,
          735,
          5627,
          8154,
          8197,
          5879,
          5928,
          8131,
          361,
          8195,
          81,
          5033,
          8415,
          8177,
          727,
          8179,
          8406,
          8159,
          8269,
          8213,
          8300,
          503,
          117,
          98,
          8241,
          8079,
          8033,
          2,
          8475,
          8069,
          8481,
          8064,
          8494,
          8279,
          8052,
          8263,
          8267,
          8272,
          748,
          8310,
          141,
          8013,
          8106,
          8323,
          328,
          8444,
          8212,
          8445,
          8447,
          8224,
          5091,
          8222,
          28,
          8500,
          8042,
          8113,
          612,
          8165,
          8043,
          5906,
          8152,
          8041,
          8457,
          8008,
          8441,
          8146,
          8423,
          8145,
          5419,
          8096,
          8056,
          26,
          8022,
          410,
          8255,
          8254,
          8245,
          8191,
          8351,
          8347,
          8346,
          676,
          8208,
          8327,
          5829,
          8218,
          8228,
          8219,
          598,
          8184,
          396,
          599,
          8373,
          8382,
          8169,
          8262,
          8368,
          8173,
          8377,
          8054,
          8463,
          697,
          8459,
          8487,
          8101,
          320,
          8378,
          8440,
          8161,
          8220,
          430,
          8256,
          8242,
          8011,
          8281,
          8297,
          158,
          8039,
          8349,
          8483,
          8058,
          5228,
          272,
          5704,
          549,
          8059,
          8411,
          8025,
          8261,
          8048,
          8461,
          8080,
          8066,
          319,
          8384,
          8386,
          8196,
          5084,
          8003,
          8180,
          707,
          8414,
          8397,
          8147,
          8144,
          8185,
          8167,
          8099,
          8348,
          8128,
          8370,
          8252,
          8353,
          5071,
          8260,
          8410,
          8492,
          22,
          8282,
          8109,
          8226,
          8019,
          8138,
          5026,
          8364,
          8157,
          687,
          8375,
          608,
          8428,
          8225,
          8311,
          8345,
          8472,
          8251,
          8072,
          548,
          8071,
          8341,
          8036,
          8322,
          8395,
          3,
          8009,
          8285,
          8118,
          8446,
          8158
         ],
         "type": "scatter",
         "x": [
          1,
          1,
          1,
          1,
          1,
          1,
          1,
          1,
          1,
          2,
          2,
          2,
          2,
          2,
          2,
          2,
          2,
          2,
          2,
          2,
          2,
          2,
          2,
          2,
          2,
          2,
          2,
          2,
          3,
          3,
          3,
          3,
          3,
          3,
          3,
          3,
          3,
          3,
          3,
          3,
          3,
          3,
          3,
          3,
          3,
          3,
          3,
          3,
          3,
          3,
          3,
          3,
          3,
          3,
          3,
          3,
          3,
          3,
          3,
          3,
          3,
          3,
          3,
          3,
          3,
          3,
          3,
          3,
          3,
          3,
          3,
          3,
          4,
          4,
          4,
          4,
          4,
          4,
          4,
          4,
          4,
          4,
          4,
          4,
          4,
          4,
          4,
          4,
          4,
          4,
          4,
          4,
          4,
          4,
          4,
          4,
          4,
          4,
          4,
          4,
          4,
          4,
          4,
          4,
          4,
          4,
          4,
          4,
          4,
          4,
          4,
          4,
          4,
          4,
          4,
          4,
          4,
          4,
          4,
          4,
          4,
          4,
          4,
          4,
          4,
          4,
          4,
          4,
          4,
          4,
          4,
          4,
          4,
          4,
          4,
          4,
          4,
          4,
          4,
          4,
          4,
          4,
          4,
          4,
          4,
          4,
          4,
          4,
          4,
          4,
          4,
          4,
          4,
          5,
          5,
          5,
          5,
          5,
          5,
          5,
          5,
          5,
          5,
          5,
          5,
          5,
          5,
          5,
          5,
          5,
          5,
          5,
          5,
          5,
          5,
          5,
          5,
          5,
          5,
          5,
          5,
          5,
          5,
          5,
          5,
          5,
          5,
          5,
          5,
          5,
          5,
          5,
          5,
          5,
          5,
          5,
          5,
          5,
          5,
          5,
          5,
          5,
          5,
          5,
          5,
          5,
          5,
          5,
          5,
          5,
          5,
          5,
          5,
          5,
          5,
          5,
          5,
          5,
          5,
          5,
          5,
          5,
          5,
          5,
          5,
          5,
          5,
          5,
          5,
          5,
          5,
          5,
          5,
          5,
          5,
          5,
          5,
          5,
          5,
          5,
          5,
          5,
          5,
          5,
          5,
          5,
          5,
          5,
          5,
          5,
          5,
          5,
          5,
          5,
          5,
          5,
          5,
          5,
          5,
          5,
          5,
          5,
          5,
          5,
          5,
          5,
          5,
          5,
          5,
          5,
          5,
          5,
          5,
          5,
          5,
          5,
          5,
          5,
          5,
          5,
          5,
          5,
          5,
          5,
          5,
          5,
          5,
          5,
          5,
          5,
          5,
          5,
          5,
          5,
          5,
          5,
          5,
          5,
          6,
          6,
          6,
          6,
          6,
          6,
          6,
          6,
          6,
          6,
          6,
          6,
          6,
          6,
          6,
          6,
          6,
          6,
          6,
          6,
          6,
          6,
          6,
          6,
          6,
          6,
          6,
          6,
          6,
          6,
          6,
          6,
          6,
          6,
          6,
          6,
          6,
          6,
          6,
          6,
          6,
          6,
          6,
          6,
          6,
          6,
          6,
          6,
          6,
          6,
          6,
          6,
          6,
          6,
          6,
          6,
          6,
          6,
          6,
          6,
          6,
          6,
          6,
          6,
          6,
          6,
          6,
          6,
          6,
          6,
          6,
          6,
          6,
          6,
          6,
          6,
          6,
          6,
          6,
          6,
          6,
          6,
          6,
          6,
          6,
          6,
          6,
          6,
          6,
          6,
          6,
          6,
          6,
          6,
          6,
          6,
          6,
          6,
          6,
          6,
          6,
          6,
          6,
          6,
          6,
          6,
          6,
          6,
          6,
          6,
          6,
          6,
          6,
          6,
          6,
          6,
          6,
          6,
          6,
          6,
          6,
          6,
          6,
          6,
          6,
          6,
          6,
          6,
          6,
          6,
          6,
          6,
          6,
          6,
          6,
          6,
          6,
          6,
          6,
          6,
          6,
          6,
          6,
          6,
          6,
          6,
          6,
          6,
          6,
          6,
          6,
          6,
          6,
          6,
          6,
          6,
          6,
          6,
          6,
          6,
          6,
          6,
          6,
          6,
          6,
          6,
          6,
          6,
          6,
          6,
          6,
          6,
          6,
          6,
          6,
          6,
          7,
          7,
          7,
          7,
          7,
          7,
          7,
          7,
          7,
          7,
          7,
          7,
          7,
          7,
          7,
          7,
          7,
          7,
          7,
          7,
          7,
          7,
          7,
          7,
          7,
          7,
          7,
          7,
          7,
          7,
          7,
          7,
          7,
          7,
          7,
          7,
          7,
          7,
          7,
          7,
          7,
          7,
          7,
          7,
          7,
          7,
          7,
          7,
          7,
          7,
          7,
          7,
          7,
          7,
          7,
          7,
          7,
          7,
          7,
          7,
          7,
          7,
          7,
          7,
          7,
          7,
          7,
          7,
          7,
          7,
          7,
          7,
          7,
          7,
          7,
          7,
          7,
          7,
          7,
          7,
          7,
          7,
          7,
          7,
          7,
          7,
          7,
          7,
          7,
          7,
          7,
          7,
          7,
          7,
          7,
          7,
          7,
          7,
          7,
          7,
          7,
          7,
          7,
          7,
          7,
          7,
          7,
          7,
          7,
          7,
          7,
          7,
          7,
          7,
          7,
          7,
          7,
          7,
          7,
          7,
          7,
          7,
          7,
          7,
          7,
          7,
          7,
          7,
          7,
          7,
          7,
          7,
          7,
          7,
          7,
          7,
          7,
          7,
          7,
          7,
          7,
          7,
          7,
          7,
          7,
          7,
          7,
          7,
          7,
          7,
          7,
          7,
          7,
          7,
          7,
          7,
          7,
          7,
          7,
          7,
          7,
          7,
          7,
          7,
          7,
          7,
          7,
          7,
          7,
          7,
          7,
          7,
          7,
          7,
          7,
          7,
          7,
          7,
          7,
          7,
          7,
          7,
          7,
          7,
          7,
          7,
          7,
          7,
          7,
          7,
          7,
          7,
          7,
          7,
          7,
          7,
          7,
          7,
          7,
          7,
          7,
          7,
          7,
          7,
          7,
          8,
          8,
          8,
          8,
          8,
          8,
          8,
          8,
          8,
          8,
          8,
          8,
          8,
          8,
          8,
          8,
          8,
          8,
          8,
          8,
          8,
          8,
          8,
          8,
          8,
          8,
          8,
          8,
          8,
          8,
          8,
          8,
          8,
          8,
          8,
          8,
          8,
          8,
          8,
          8,
          8,
          8,
          8,
          8,
          8,
          8,
          8,
          8,
          8,
          8,
          8,
          8,
          8,
          8,
          8,
          8,
          8,
          8,
          8,
          8,
          8,
          8,
          8,
          8,
          8,
          8,
          8,
          8,
          8,
          8,
          8,
          8,
          8,
          8,
          8,
          8,
          8,
          8,
          8,
          8,
          8,
          8,
          8,
          8,
          8,
          8,
          8,
          8,
          8,
          8,
          8,
          8,
          8,
          8,
          8,
          8,
          8,
          8,
          8,
          8,
          8,
          8,
          8,
          8,
          8,
          8,
          8,
          8,
          8,
          8,
          8,
          8,
          8,
          8,
          8,
          8,
          8,
          8,
          8,
          8,
          8,
          8,
          8,
          8,
          8,
          8,
          8,
          8,
          8,
          8,
          8,
          8,
          8,
          8,
          8,
          8,
          8,
          8,
          8,
          8,
          8,
          8,
          8,
          8,
          8,
          8,
          8,
          8,
          8,
          8,
          8,
          8,
          8,
          8,
          8,
          8,
          8,
          8,
          8,
          8,
          8,
          8,
          8,
          8,
          8,
          8,
          8,
          8,
          8,
          8,
          8,
          8,
          8,
          8,
          8,
          8,
          8,
          8,
          8,
          8,
          8,
          8,
          8,
          8,
          8,
          8,
          8,
          8,
          8,
          8,
          8,
          8,
          8,
          8,
          8,
          8,
          8,
          8,
          8,
          8,
          8,
          8,
          8,
          8,
          8,
          8,
          8,
          8,
          8,
          8,
          8,
          8,
          8,
          8,
          8,
          8,
          8,
          8,
          8,
          8,
          8,
          8,
          8,
          8,
          8,
          8,
          8,
          8,
          8,
          8,
          8,
          8,
          8,
          8,
          8,
          8,
          8,
          9,
          9,
          9,
          9,
          9,
          9,
          9,
          9,
          9,
          9,
          9,
          9,
          9,
          9,
          9,
          9,
          9,
          9,
          9,
          9,
          9,
          9,
          9,
          9,
          9,
          9,
          9,
          9,
          9,
          9,
          9,
          9,
          9,
          9,
          9,
          9,
          9,
          9,
          9,
          9,
          9,
          9,
          9,
          9,
          9,
          9,
          9,
          9,
          9,
          9,
          9,
          9,
          9,
          9,
          9,
          9,
          9,
          9,
          9,
          9,
          9,
          9,
          9,
          9,
          9,
          9,
          9,
          9,
          9,
          9,
          9,
          9,
          9,
          9,
          9,
          9,
          9,
          9,
          9,
          9,
          9,
          9,
          9,
          9,
          9,
          9,
          9,
          9,
          9,
          9,
          9,
          9,
          9,
          9,
          9,
          9,
          9,
          9,
          9,
          9,
          9,
          9,
          9,
          9,
          9,
          9,
          9,
          9,
          9,
          9,
          9,
          9,
          9,
          9,
          9,
          9,
          9,
          9,
          9,
          9,
          9,
          9,
          9,
          9,
          9,
          9,
          9,
          9,
          9,
          9,
          9,
          9,
          9,
          9,
          9,
          9,
          9,
          9,
          9,
          9,
          9,
          9,
          9,
          9,
          9,
          9,
          9,
          9,
          9,
          9,
          9,
          9,
          9,
          9,
          9,
          9,
          9,
          9,
          9,
          9,
          9,
          9,
          9,
          9,
          9,
          9,
          9,
          9,
          9,
          9,
          9,
          9,
          9,
          9,
          9,
          9,
          9,
          9,
          9,
          9,
          9,
          9,
          9,
          9,
          9,
          9,
          9,
          9,
          9,
          9,
          9,
          9,
          9,
          9,
          9,
          9,
          9,
          9,
          9,
          9,
          9,
          9,
          9,
          9,
          9,
          9,
          9,
          9,
          9,
          9,
          9,
          9,
          9,
          9,
          9,
          9,
          9,
          9,
          9,
          9,
          9,
          9,
          9,
          9,
          9,
          9,
          9,
          9,
          9,
          9,
          9,
          9,
          9,
          9,
          9,
          9,
          9,
          9,
          9,
          9,
          10,
          10,
          10,
          10,
          10,
          10,
          10,
          10,
          10,
          10,
          10,
          10,
          10,
          10,
          10,
          10,
          10,
          10,
          10,
          10,
          10,
          10,
          10,
          10,
          10,
          10,
          10,
          10,
          10,
          10,
          10,
          10,
          10,
          10,
          10,
          10,
          10,
          10,
          10,
          10,
          10,
          10,
          10,
          10,
          10,
          10,
          10,
          10,
          10,
          10,
          10,
          10,
          10,
          10,
          10,
          10,
          10,
          10,
          10,
          10,
          10,
          10,
          10,
          10,
          10,
          10,
          10,
          10,
          10,
          10,
          10,
          10,
          10,
          10,
          10,
          10,
          10,
          10,
          10,
          10,
          10,
          10,
          10,
          10,
          10,
          10,
          10,
          10,
          10,
          10,
          10,
          10,
          10,
          10,
          10,
          10,
          10,
          10,
          10,
          10,
          10,
          10,
          10,
          10,
          10,
          10,
          10,
          10,
          10,
          10,
          10,
          10,
          10,
          10,
          10,
          10,
          10,
          10,
          10,
          10,
          10,
          10,
          10,
          10,
          10,
          10,
          10,
          10,
          10,
          10,
          10,
          10,
          10,
          10,
          10,
          10,
          10,
          10,
          10,
          10,
          10,
          10,
          10,
          10,
          10,
          10,
          10,
          10,
          10,
          10,
          10,
          10,
          10,
          10,
          10,
          10,
          10,
          10,
          10,
          10,
          10,
          10,
          10,
          10,
          10,
          10,
          10,
          10,
          10,
          10,
          10,
          10,
          10,
          10,
          10,
          10,
          10,
          10,
          10,
          10,
          10,
          10,
          10,
          10,
          10,
          10,
          10,
          10,
          10,
          10,
          10,
          10,
          10,
          10,
          10,
          10,
          10,
          10,
          10,
          10,
          10,
          10,
          10,
          10,
          10,
          10,
          10,
          10,
          10,
          10,
          10,
          10,
          10,
          10,
          10,
          10,
          10,
          10,
          10,
          10,
          10,
          10,
          10,
          10,
          10,
          10,
          10,
          10,
          10,
          10,
          10,
          11,
          11,
          11,
          11,
          11,
          11,
          11,
          11,
          11,
          11,
          11,
          11,
          11,
          11,
          11,
          11,
          11,
          11,
          11,
          11,
          11,
          11,
          11,
          11,
          11,
          11,
          11,
          11,
          11,
          11,
          11,
          11,
          11,
          11,
          11,
          11,
          11,
          11,
          11,
          11,
          11,
          11,
          11,
          11,
          11,
          11,
          11,
          11,
          11,
          11,
          11,
          11,
          11,
          11,
          11,
          11,
          11,
          11,
          11,
          11,
          11,
          11,
          11,
          11,
          11,
          11,
          11,
          11,
          11,
          11,
          11,
          11,
          11,
          11,
          11,
          11,
          11,
          11,
          11,
          11,
          11,
          11,
          11,
          11,
          11,
          11,
          11,
          11,
          11,
          11,
          11,
          11,
          11,
          11,
          11,
          11,
          11,
          11,
          11,
          11,
          11,
          11,
          11,
          11,
          11,
          11,
          11,
          11,
          11,
          11,
          11,
          11,
          11,
          11,
          11,
          11,
          11,
          11,
          11,
          11,
          11,
          11,
          11,
          11,
          11,
          11,
          11,
          11,
          11,
          11,
          11,
          11,
          11,
          11,
          11,
          11,
          11,
          11,
          11,
          11,
          11,
          11,
          11,
          11,
          11,
          11,
          11,
          11,
          11,
          11,
          11,
          11,
          11,
          11,
          11,
          11,
          11,
          11,
          11,
          11,
          11,
          11,
          11,
          11,
          11,
          11,
          11,
          11,
          11,
          11,
          11,
          11,
          11,
          11,
          11,
          11,
          12,
          12,
          12,
          12,
          12,
          12,
          12,
          12,
          12,
          12,
          12,
          12,
          12,
          12,
          12,
          12,
          12,
          12,
          12,
          12,
          12,
          12,
          12,
          12,
          12,
          12,
          12,
          12,
          12,
          12,
          12,
          12,
          12,
          12,
          12,
          12,
          12,
          12,
          12,
          12,
          12,
          12,
          12,
          12,
          12,
          12,
          12,
          12,
          12,
          12,
          12,
          12,
          12,
          12,
          12,
          12,
          12,
          12,
          12,
          12,
          12,
          12,
          12,
          12,
          12,
          12,
          12,
          12,
          12,
          12,
          12,
          12,
          12,
          12,
          12,
          12,
          12,
          12,
          12,
          12,
          12,
          12,
          12,
          12,
          12,
          12,
          12,
          12,
          12,
          12,
          12,
          12,
          12,
          12,
          12,
          12,
          12,
          12,
          12,
          12,
          12,
          12,
          12,
          12,
          12,
          12,
          12,
          12,
          12,
          12,
          12,
          12,
          12,
          12,
          12,
          12,
          12,
          12,
          12,
          12,
          12,
          12,
          12,
          12,
          12,
          12,
          12,
          12,
          12,
          12,
          12,
          12,
          12,
          12,
          12,
          12,
          12,
          12,
          12,
          12,
          12,
          12,
          12,
          12,
          12,
          12,
          12,
          12,
          12,
          12,
          12,
          12,
          12,
          12,
          12,
          12,
          12,
          12,
          12,
          12,
          12,
          12,
          12,
          12,
          12,
          12,
          12,
          12,
          12,
          12,
          12,
          12,
          12,
          12,
          12,
          12,
          12,
          12,
          12,
          12,
          12,
          13,
          13,
          13,
          13,
          13,
          13,
          13,
          13,
          13,
          13,
          13,
          13,
          13,
          13,
          13,
          13,
          13,
          13,
          13,
          13,
          13,
          13,
          13,
          13,
          13,
          13,
          13,
          13,
          13,
          13,
          13,
          13,
          13,
          13,
          13,
          13,
          13,
          13,
          13,
          13,
          13,
          13,
          13,
          13,
          13,
          13,
          13,
          13,
          13,
          13,
          13,
          13,
          13,
          13,
          13,
          13,
          13,
          13,
          13,
          13,
          13,
          13,
          13,
          13,
          13,
          13,
          13,
          13,
          13,
          13,
          13,
          13,
          13,
          13,
          13,
          13,
          13,
          13,
          13,
          13,
          13,
          13,
          13,
          13,
          13,
          13,
          13,
          13,
          13,
          13,
          13,
          13,
          13,
          13,
          13,
          13,
          13,
          13,
          13,
          13,
          13,
          13,
          13,
          13,
          13,
          13,
          13,
          13,
          13,
          13,
          13,
          13,
          13,
          13,
          13,
          13,
          13,
          14,
          14,
          14,
          14,
          14,
          14,
          14,
          14,
          14,
          14,
          14,
          14,
          14,
          14,
          14,
          14,
          14,
          14,
          14,
          14,
          14,
          14,
          14,
          14,
          14,
          14,
          14,
          14,
          14,
          14,
          14,
          14,
          14,
          14,
          14,
          14,
          14,
          14,
          14,
          14,
          14,
          14,
          14,
          14,
          14,
          14,
          14,
          14,
          14,
          14,
          14,
          14,
          14,
          14,
          14,
          14,
          14,
          14,
          14,
          14,
          14,
          14,
          14,
          14,
          14,
          14,
          14,
          14,
          14,
          14,
          14,
          14,
          14,
          14,
          14,
          14,
          14,
          14,
          14,
          14,
          14,
          14,
          14,
          14,
          14,
          14,
          14,
          14,
          14,
          14,
          14,
          14,
          14,
          14,
          14,
          14,
          14,
          14,
          14,
          14,
          14,
          14,
          14,
          14,
          14,
          14,
          14,
          14,
          14,
          14,
          14,
          15,
          15,
          15,
          15,
          15,
          15,
          15,
          15,
          15,
          15,
          15,
          15,
          15,
          15,
          15,
          15,
          15,
          15,
          15,
          15,
          15,
          15,
          15,
          15,
          15,
          15,
          15,
          15,
          15,
          15,
          15,
          15,
          15,
          15,
          15,
          15,
          15,
          15,
          15,
          15,
          15,
          15,
          15,
          15,
          15,
          15,
          15,
          15,
          15,
          15,
          15,
          15,
          15,
          15,
          15,
          15,
          15,
          15,
          15,
          15,
          15,
          15,
          15,
          15,
          15,
          15,
          15,
          15,
          15,
          15,
          15,
          15,
          15,
          15,
          16,
          16,
          16,
          16,
          16,
          16,
          16,
          16,
          16,
          16,
          16,
          16,
          16,
          16,
          16,
          16,
          16,
          16,
          16,
          16,
          16,
          16,
          16,
          16,
          16,
          16,
          16,
          16,
          16,
          16,
          16,
          16,
          16,
          16,
          16,
          16,
          16,
          16,
          16,
          16,
          16,
          16,
          16,
          16,
          16,
          16,
          16,
          16,
          16,
          16,
          16,
          16,
          16,
          16,
          16,
          16,
          16,
          16,
          16,
          16,
          16,
          16,
          16,
          16,
          17,
          17,
          17,
          17,
          17,
          17,
          17,
          17,
          17,
          17,
          17,
          17,
          17,
          17,
          17,
          17,
          17,
          17,
          17,
          17,
          17,
          17,
          17,
          17,
          17,
          17,
          17,
          17,
          17,
          17,
          17,
          17,
          17,
          17,
          17,
          17,
          17,
          17,
          17,
          17,
          17,
          17,
          17,
          17,
          17,
          17,
          18,
          18,
          18,
          18,
          18,
          18,
          18,
          18,
          18,
          18,
          18,
          18,
          18,
          18,
          18,
          18,
          18,
          18,
          18,
          18,
          18,
          18,
          18,
          18,
          18,
          18,
          18,
          18,
          19,
          19,
          19,
          19,
          19,
          19,
          19,
          19,
          19,
          19,
          19,
          19,
          19,
          19,
          19,
          19,
          19,
          19,
          19,
          19,
          19,
          19,
          20,
          20,
          20,
          20,
          20,
          20,
          20,
          20,
          20,
          20,
          20,
          20,
          20,
          20,
          21,
          21,
          21,
          21,
          21,
          21,
          21,
          21,
          21,
          21,
          21,
          21,
          21,
          22,
          22,
          23,
          23,
          23,
          23,
          23,
          24,
          24,
          24,
          24,
          24
         ],
         "y": [
          5,
          2.45,
          6,
          10.5,
          6,
          7.5,
          6.2,
          3,
          4,
          6,
          11,
          12,
          14.5,
          13,
          12.350000000000001,
          12.25,
          18.5,
          14.6,
          7.1,
          12,
          17.5,
          8,
          5.5,
          8.5,
          11.9,
          5.5,
          6.8,
          11.5,
          17.45,
          18.75,
          21.85,
          19,
          19.7,
          17.5,
          9.5,
          13,
          13.9,
          12.15,
          26,
          8.05,
          19.5,
          17.45,
          20.6,
          16.1,
          22.9,
          14.7,
          12.15,
          10.75,
          10.3,
          17,
          9.3,
          21.15,
          12.85,
          14.75,
          9.75,
          11.600000000000001,
          22.5,
          12.45,
          15.75,
          22,
          18,
          27,
          13.5,
          17.1,
          7.5,
          17.5,
          19,
          14.5,
          12,
          13.5,
          13.4,
          15.6,
          19.6,
          15.05,
          19.75,
          21,
          20.4,
          14.46,
          18.4,
          17.5,
          16,
          22.5,
          20,
          23,
          16.75,
          19.5,
          26.9,
          24.4,
          15.15,
          18.3,
          22.75,
          41.5,
          35.55,
          17.5,
          13.1,
          20.6,
          21.75,
          18.4,
          17.95,
          21.15,
          26,
          15.9,
          12.25,
          24,
          16.1,
          17.1,
          20.4,
          24,
          22.25,
          28.4,
          21.35,
          20,
          23,
          24.5,
          15.1,
          22,
          22.25,
          17.4,
          22,
          20.5,
          14.6,
          15,
          20.65,
          25.6,
          19.5,
          21,
          15.5,
          18.65,
          20.15,
          17.5,
          27.7,
          20.4,
          14.1,
          26,
          21.6,
          26.7,
          15.75,
          29.7,
          21.75,
          22.35,
          27.1,
          38.25,
          14.75,
          24,
          25.15,
          16.25,
          20.5,
          18.5,
          20.5,
          24.7,
          16.4,
          28.95,
          15.25,
          24.2,
          20,
          52.4,
          19,
          22.25,
          24.4,
          28.9,
          20.45,
          28.3,
          27.75,
          21.2,
          23,
          27.2,
          24.75,
          32.25,
          23.3,
          25.7,
          26.4,
          38.7,
          19.25,
          22.15,
          24.2,
          17,
          25.6,
          23,
          21.15,
          24,
          35.25,
          15.7,
          24.25,
          26.1,
          29.35,
          24.5,
          19.1,
          22.5,
          20.7,
          15.6,
          20.5,
          16.2,
          21,
          24.75,
          22.45,
          25.25,
          27.45,
          25.25,
          20.85,
          32,
          24.85,
          21.2,
          27.5,
          22.85,
          34.25,
          25.7,
          49.3,
          17.75,
          16.55,
          16,
          18.7,
          27.35,
          16.85,
          17,
          23.6,
          20.2,
          34.7,
          25.25,
          19.65,
          24.2,
          20.75,
          19,
          23.6,
          33.75,
          23.75,
          20.6,
          16.7,
          14.75,
          18.65,
          18.1,
          21.25,
          31,
          21.75,
          17.85,
          25.5,
          20.7,
          33.15,
          19.5,
          63.5,
          28.75,
          23.7,
          22.95,
          19.15,
          25.05,
          24,
          45.5,
          66.85,
          32.75,
          30.95,
          33.8,
          25.25,
          20,
          26.5,
          22,
          21.75,
          22.45,
          19.35,
          16.05,
          23.65,
          21.3,
          38.5,
          26.25,
          18.2,
          26.3,
          25,
          23.55,
          31.25,
          21.75,
          20.1,
          26,
          32.7,
          23,
          16.8,
          18.35,
          24.75,
          18.4,
          16.5,
          32.25,
          25.7,
          25,
          20.25,
          21.75,
          21.8,
          21.75,
          27.3,
          17.28,
          21.05,
          25.75,
          14.05,
          26.5,
          41,
          19.25,
          15.6,
          15.700000000000001,
          21.15,
          23,
          33.83,
          23.2,
          23.35,
          35.35,
          25.1,
          28.2,
          35.35,
          23.6,
          39.1,
          24.9,
          35,
          22.85,
          32.65,
          24.4,
          24.35,
          29,
          34.95,
          24.75,
          33.5,
          25.05,
          27,
          24.1,
          23.45,
          28.5,
          28.95,
          21.25,
          23.55,
          38,
          28.45,
          33.9,
          47.9,
          27.2,
          29.55,
          29.5,
          31.25,
          23.1,
          28.7,
          27.15,
          31.6,
          26.5,
          22.95,
          26.3,
          24.4,
          23.05,
          26.5,
          26.4,
          23.45,
          27.5,
          30.75,
          28.25,
          31.6,
          29.2,
          32.8,
          35,
          37.1,
          26.4,
          23.5,
          29,
          29.75,
          34.6,
          25.95,
          26,
          33.75,
          29.5,
          26.1,
          32.4,
          23.5,
          26.75,
          45.9,
          29.2,
          28.75,
          33.25,
          25.75,
          26.45,
          34.5,
          26.5,
          25.1,
          42.5,
          35.3,
          27.25,
          35.15,
          37.6,
          36.7,
          24.15,
          24.9,
          34,
          27.9,
          31.6,
          29.55,
          26.25,
          22.25,
          23.35,
          31.4,
          32.2,
          22.25,
          33.85,
          29.65,
          38,
          33.63,
          25.55,
          30.2,
          38.85,
          50.75,
          22.95,
          28.45,
          24.35,
          22.5,
          29.95,
          25.7,
          32.25,
          27.4,
          30.65,
          46.5,
          45.7,
          37.6,
          26.55,
          31,
          23.95,
          24.45,
          32.5,
          25,
          25.6,
          24,
          30.2,
          26.35,
          25,
          23.45,
          25.5,
          25.05,
          28.1,
          26.2,
          20.65,
          27.3,
          32,
          30.75,
          25.5,
          21.7,
          38.6,
          18.2,
          33.25,
          36.1,
          30.1,
          30,
          29.2,
          34.25,
          30.1,
          31.18,
          30.65,
          36.75,
          22.55,
          31.1,
          32.3,
          25.35,
          28.6,
          28,
          30.3,
          35.5,
          24.4,
          36.75,
          49.8,
          31.85,
          44,
          32.35,
          32.65,
          24.3,
          30,
          17.75,
          33.1,
          20.7,
          31.75,
          27.05,
          24.45,
          31.45,
          25.25,
          23.7,
          28.75,
          29.5,
          33.65,
          35.4,
          26.3,
          36.2,
          30.9,
          33.35,
          19.25,
          33.35,
          29.75,
          37.15,
          36.8,
          67.3,
          52.8,
          52.05,
          26.3,
          53.25,
          32,
          30.5,
          32.75,
          27.85,
          29.25,
          49.05,
          29.9,
          34.35,
          26.95,
          26.3,
          27.8,
          21.5,
          63,
          32.25,
          37.65,
          52.25,
          31.9,
          35.6,
          41.1,
          32.9,
          21.7,
          27.5,
          64.3,
          33.5,
          42.05,
          33.95,
          49.5,
          20.75,
          35.25,
          34.2,
          40.3,
          31.1,
          31.1,
          40.3,
          34.7,
          44.6,
          38.6,
          28.2,
          43.65,
          41,
          37.2,
          40.5,
          32.75,
          32.9,
          34.55,
          34,
          38.25,
          30.15,
          51.2,
          29.2,
          43.5,
          42.25,
          33.3,
          30.2,
          29,
          35.25,
          46,
          42.9,
          26.9,
          24.75,
          36.45,
          34.8,
          29.8,
          42.4,
          43.1,
          40.45,
          35.95,
          30.85,
          38.75,
          27.45,
          41.2,
          28.15,
          34.45,
          30.8,
          53.25,
          35.25,
          41,
          26,
          42.75,
          39.35,
          31.65,
          29.05,
          45,
          28.8,
          30.75,
          24.1,
          38.4,
          24.75,
          34.75,
          36.25,
          27.5,
          25.6,
          35.55,
          49.25,
          33.4,
          31.7,
          31.25,
          28.5,
          27.45,
          25.75,
          39.6,
          40.65,
          27.75,
          25.8,
          29.8,
          30.25,
          48.95,
          31.9,
          39.25,
          48.75,
          24.2,
          60.5,
          43.15,
          24,
          43.35,
          27.25,
          55.5,
          61,
          32,
          33.65,
          31.15,
          29.3,
          37,
          37,
          40,
          32.95,
          39,
          29.2,
          45.75,
          29.35,
          49.5,
          48.25,
          32.75,
          48.6,
          33.45,
          32.15,
          32.1,
          33.35,
          70.75,
          34.9,
          31.75,
          39.5,
          31.25,
          32,
          33.95,
          30.4,
          41,
          36.15,
          36.9,
          43.2,
          34.5,
          33.45,
          24.45,
          34,
          39.2,
          33.1,
          34,
          36.75,
          43.55,
          25.25,
          35.05,
          47.6,
          28.45,
          40.55,
          26.45,
          27,
          35.45,
          37.55,
          47,
          33.7,
          40.35,
          41,
          39.7,
          35.3,
          27.9,
          26.6,
          36.5,
          32.6,
          37.65,
          26.2,
          35.5,
          32.7,
          54.75,
          29.35,
          28.45,
          31.15,
          34.5,
          41.8,
          32.65,
          64.5,
          56.2,
          37.1,
          52.9,
          30.4,
          30.150000000000002,
          37.35,
          49.5,
          79.6,
          43.5,
          59.75,
          61.2,
          43.85,
          38.75,
          45.94,
          43.95,
          34.85,
          41.45,
          37.75,
          33.55,
          32.95,
          53.5,
          43.96,
          42.25,
          40.45,
          38.35,
          43.1,
          47.55,
          38.6,
          40.9,
          33.5,
          30.15,
          64.35,
          40.75,
          67.9,
          62.95,
          37.1,
          53.8,
          37.6,
          33.05,
          64.1,
          57.05,
          34.65,
          44.5,
          51.4,
          48.25,
          38.2,
          38.05,
          42.25,
          51,
          29.85,
          46.4,
          58,
          38.4,
          53.099999999999994,
          44.9,
          34.45,
          45.75,
          44.65,
          29.95,
          33.949999999999996,
          32.9,
          32,
          35.1,
          41.45,
          24.15,
          25.05,
          49.05,
          44.2,
          40.15,
          33.8,
          42.25,
          38.7,
          34.85,
          54.1,
          31.75,
          45,
          51.9,
          35.35,
          33,
          27.45,
          53.5,
          30,
          56.1,
          37.9,
          33.95,
          42.65,
          55.45,
          34.65,
          53,
          40.25,
          43.55,
          35.35,
          31.95,
          49.15,
          33.8,
          32.35,
          40.75,
          32,
          24,
          33.15,
          36.5,
          30.55,
          42.45,
          40.65,
          37.55,
          36.85,
          79.7,
          56.1,
          67.25,
          30.150000000000002,
          27.5,
          45.35,
          39.15,
          36.3,
          39.9,
          28.1,
          46.5,
          51.7,
          34.55,
          37.7,
          45.15,
          50.7,
          40.25,
          36.35,
          38.75,
          36.2,
          43.25,
          47.45,
          55.75,
          40.7,
          45.95,
          29.4,
          39.15,
          31.85,
          30.5,
          44.2,
          36.55,
          44,
          46.8,
          49.75,
          37.29,
          34.25,
          46.95,
          28,
          36.85,
          36.2,
          33.35,
          26,
          40.95,
          47.95,
          58.05,
          39.75,
          62.45,
          45.2,
          63.7,
          36.1,
          51.1,
          35,
          32.7,
          40.65,
          53,
          49.45,
          31.2,
          42.7,
          49.7,
          31.2,
          34.1,
          39.25,
          43.15,
          35.6,
          33.35,
          29.85,
          31.5,
          39.1,
          37.25,
          41.8,
          36.65,
          44.15,
          50.15,
          34.3,
          36.1,
          29.9,
          93.75,
          38.6,
          35,
          45.3,
          39.2,
          42.25,
          27.25,
          49.75,
          54.75,
          35.5,
          37.6,
          46,
          38.85,
          31.1,
          40.35,
          39.7,
          51.75,
          35.8,
          43.3,
          35.65,
          37.5,
          63.9,
          32.5,
          39.9,
          46.45,
          35.25,
          47.6,
          78,
          39.35,
          52.75,
          95.2,
          40.45,
          36.7,
          32.35,
          37.5,
          46.5,
          28.75,
          40.9,
          43,
          48.45,
          54.75,
          40.5,
          42.25,
          43.9,
          34.18,
          41.35,
          44.85,
          40.25,
          38.7,
          45,
          31.85,
          34.85,
          40.8,
          39.75,
          31.25,
          30.25,
          52.45,
          38.3,
          51.75,
          41.75,
          49.45,
          38.35,
          48.75,
          53.5,
          43.45,
          38.9,
          40.35,
          54.5,
          39.3,
          43.75,
          50.55,
          42.75,
          41.3,
          51.95,
          44.8,
          34.8,
          35.05,
          40.5,
          37.45,
          36.15,
          65.95,
          38.85,
          43.55,
          44.95,
          46.4,
          38.35,
          36.8,
          38.95,
          43.75,
          36,
          32.95,
          38.55,
          43.7,
          77.5,
          45.95,
          45,
          41.15,
          42.95,
          42.3,
          47.75,
          78.35,
          74,
          46.45,
          62.9,
          38,
          37.45,
          45.7,
          35.3,
          48.6,
          40.7,
          34.15,
          63.7,
          44.05,
          42.35,
          49.5,
          42.5,
          45.95,
          54.1,
          49.2,
          55.75,
          43.64,
          68,
          30.45,
          41.1,
          43.25,
          42.25,
          40.95,
          46.75,
          40.45,
          49.8,
          36.25,
          50.6,
          44.35,
          64.35,
          39.45,
          56.65,
          40.5,
          46.15,
          47.1,
          51.6,
          52.75,
          45,
          46.25,
          45.9,
          41.15,
          34.85,
          42.85,
          47.1,
          44.7,
          39,
          42.1,
          38.5,
          53.4,
          48.55,
          51.35,
          43.9,
          51.5,
          43.25,
          43.05,
          38.4,
          32.25,
          39.55,
          36.8,
          42.85,
          37,
          34.75,
          54.15,
          48.8,
          43.6,
          50.5,
          54,
          47.85,
          54.8,
          36.75,
          63.25,
          46.75,
          45.45,
          52.25,
          49.550000000000004,
          42.35,
          45.05,
          42.6,
          38.15,
          39.2,
          54,
          36.95,
          63.3,
          42.85,
          43.75,
          42.5,
          44.2,
          47,
          41.35,
          45.75,
          56.5,
          43.45,
          61.95,
          42.5,
          32.9,
          95.5,
          38.85,
          48.05,
          49.25,
          46.7,
          38.45,
          57.45,
          40.2,
          41.05,
          49.5,
          34.9,
          69.25,
          51.25,
          38.25,
          44.45,
          59.75,
          46.25,
          35.55,
          52.2,
          47.7,
          47.7,
          43.2,
          56.5,
          38.55,
          37.9,
          47,
          44.4,
          57.35,
          48.15,
          38.5,
          64.46000000000001,
          37.3,
          42.2,
          36.85,
          51.2,
          50,
          38.2,
          43.46,
          45.2,
          67,
          43,
          40.7,
          41.65,
          41.9,
          47,
          40.9,
          59.9,
          48.05,
          45.8,
          35.7,
          50.55,
          45,
          40.45,
          50.4,
          35.4,
          42.85,
          50.1,
          27.3,
          49.7,
          36.75,
          40.85,
          42,
          29.6,
          37.8,
          29.8,
          42.35,
          35.5,
          39.7,
          53.2,
          40.15,
          40,
          72,
          43.3,
          69.1,
          38.3,
          47,
          52.7,
          55.85,
          39.5,
          44.05,
          62.75,
          46.05,
          41.4,
          41.5,
          49.35,
          38.5,
          64.9,
          38.6,
          39.1,
          45.2,
          45.4,
          53.15,
          43.25,
          47.25,
          34.9,
          42.75,
          46.8,
          41.23,
          50.1,
          43.45,
          35.55,
          68.05,
          69,
          64.05,
          41.95,
          52.55,
          91.8,
          51.1,
          54.5,
          42.5,
          44.6,
          46.55,
          80.75,
          35.15,
          58.5,
          58.8,
          51.8,
          58.95,
          47.75,
          46.05,
          66.65,
          48.5,
          54.25,
          49.05,
          49.4,
          46.7,
          47.05,
          54.6,
          81.45,
          54.25,
          66.75,
          49.3,
          47.55,
          46.1,
          39.45,
          47.5,
          45.75,
          56.95,
          46.5,
          65.85,
          45.4,
          54.15,
          70.7,
          56.75,
          98.45,
          51.75,
          39.4,
          54,
          59.2,
          49.5,
          52,
          54.2,
          46.25,
          53.6,
          42.3,
          62.75,
          51.85,
          57.3,
          38.85,
          41.05,
          56.3,
          39.2,
          82.9,
          41.6,
          45.6,
          50.15,
          36.75,
          60.7,
          32.8,
          58.86,
          46.8,
          59.5,
          51.75,
          41.25,
          39.95,
          45,
          55.7,
          42.6,
          44.4,
          41.8,
          62.55,
          47.35,
          62.45,
          47.2,
          38.6,
          60.8,
          52.15,
          47.75,
          30.44,
          50.15,
          55.5,
          57.25,
          49.2,
          66.6,
          40.9,
          39.1,
          42.55,
          47.35,
          74.65,
          47.58,
          51.25,
          71.75,
          48.4,
          47.45,
          43.1,
          42.15,
          36.85,
          49.8,
          38.7,
          59.35,
          41.7,
          51.5,
          38.55,
          44.25,
          51.65,
          55.65,
          46.6,
          42.7,
          37.75,
          45.45,
          48,
          94.9,
          67.5,
          69.15,
          74.25,
          54.05,
          47.25,
          49.55,
          43.85,
          61.35,
          47.53,
          43.25,
          48.5,
          117.45,
          42.75,
          55.8,
          57.25,
          43.5,
          53.25,
          51.85,
          44.7,
          43.8,
          44.65,
          54.2,
          53.25,
          44.25,
          55,
          31.7,
          45.85,
          46.15,
          51.55,
          40.6,
          33.95,
          45.75,
          52.65,
          55.85,
          65.25,
          45.75,
          52.1,
          57.1,
          69.6,
          52.1,
          51.7,
          47.5,
          41.45,
          43.45,
          70.8,
          46.5,
          44,
          48.55,
          67.7,
          62.9,
          48.4,
          63.15,
          61.150000000000006,
          40.6,
          53.2,
          48.75,
          53.7,
          54.4,
          46.65,
          45.95,
          53.2,
          39.9,
          54.05,
          60.35,
          62.6,
          40.1,
          55.9,
          55.2,
          48.55,
          62.95,
          43.85,
          44.8,
          58.7,
          45.3,
          43.35,
          37.6,
          43.3,
          51.45,
          46.05,
          67.7,
          56.7,
          39.75,
          58.75,
          62.75,
          44.1,
          55.7,
          50.35,
          63.46,
          49.6,
          52.05,
          44.7,
          48.3,
          50.11,
          54.7,
          33.75,
          44.45,
          42.5,
          71.05,
          39.75,
          53.35,
          48.85,
          36.3,
          52.2,
          47.25,
          39.25,
          78.7,
          49.2,
          65.35,
          51.95,
          61.9,
          73.45,
          57.1,
          46,
          49.85,
          56.65,
          52.3,
          45.6,
          46.95,
          58.55,
          46.95,
          42.55,
          59.8,
          73.6,
          64.71,
          56.2,
          53.9,
          59.75,
          55.35,
          53.95,
          73.55,
          48.45,
          52.8,
          77.65,
          46.75,
          66.1,
          64.95,
          66.4,
          45.5,
          53.95,
          50.35,
          48.75,
          54.35,
          54.7,
          52.35,
          54.15,
          87.01,
          51.45,
          66.75,
          43.55,
          104.6,
          64.25,
          46.7,
          68.25,
          51.7,
          51.3,
          50.95,
          59.8,
          74.95,
          57.95,
          47.55,
          56.75,
          51.95,
          64.25,
          55.2,
          72,
          53.05,
          53.95,
          71.35,
          47.8,
          68.25,
          48.35,
          50,
          74.95,
          68.7,
          55.9,
          51.45,
          47,
          57.2,
          53.75,
          59.6,
          53.35,
          71.6,
          66.25,
          68.2,
          50.9,
          45.75,
          41.2,
          69.95,
          51.8,
          51.95,
          44.25,
          49.65,
          56.4,
          41.4,
          65.95,
          56.15,
          66.75,
          62.35,
          74.4,
          65.65,
          66.25,
          57.75,
          48.1,
          47.1,
          62.85,
          75.75,
          61.9,
          57.5,
          93.65,
          43.35,
          57,
          60.25,
          70.55,
          53.55,
          50.4,
          59.85,
          67,
          58.1,
          66,
          41.9,
          54.95,
          45.5,
          60.7,
          59.9,
          37.15,
          51.55,
          56.95,
          42.2,
          78,
          45.45,
          61.25,
          69.75,
          57.5,
          66.45,
          53.05,
          57,
          58.2,
          72.35,
          43.95,
          60.9,
          59.25,
          45.05,
          48.1,
          50.8,
          50.8,
          82.9,
          67.95,
          68.25,
          47.4,
          59.35,
          108.1,
          56.35,
          59,
          68.3,
          46.95,
          65.35,
          106.6,
          90.55,
          60.35,
          47.8,
          41.85,
          43.6,
          54.25,
          45.4,
          71.25,
          46.45,
          61.75,
          46.9,
          99.2,
          55.1,
          59.75,
          54.15,
          54.6,
          56.15,
          64.3,
          55.65,
          67.8,
          44.85,
          107.4,
          45.15,
          72.1,
          48.95,
          65.3,
          61.55,
          83.8,
          46.5,
          68.25,
          65.8,
          47.9,
          65.25,
          67.55,
          37,
          48.95,
          65.6,
          52.96,
          55.55,
          50.6,
          64.8,
          77.65,
          63.95,
          55.15,
          60.9,
          66.35,
          81.65,
          56.55,
          51.2,
          66.5,
          47.2,
          52.8,
          75.05,
          75.15,
          65.05,
          69.15,
          56.6,
          64.4,
          59.1,
          58.1,
          62.4,
          86.95,
          79.8,
          79.85,
          76.15,
          57.45,
          58.85,
          53.05,
          48.3,
          63.85,
          54.45,
          63.6,
          43.65,
          45.25,
          59.9,
          57.95,
          59.5,
          49.65,
          56.5,
          68.95,
          78,
          107.3,
          59.2,
          68.7,
          56.25,
          59.9,
          49.45,
          67.1,
          66.05,
          65.45,
          55.2,
          77.85,
          66.95,
          73.38,
          53.9,
          67.95,
          62.95,
          73.5,
          52.95,
          57.2,
          59.8,
          62.3,
          76.15,
          49.85,
          62.65,
          79.05,
          46.25,
          62.4,
          51.65,
          71.25,
          62.1,
          69.15,
          54.25,
          52.5,
          63.5,
          52.65,
          62.8,
          76.15,
          54.6,
          54.85,
          50.1,
          48.55,
          62.85,
          63,
          57.1,
          55.15,
          54.5,
          53.8,
          59.8,
          82.7,
          49.75,
          49.15,
          69,
          61.7,
          54.8,
          53.15,
          69.2,
          72.7,
          62.85,
          49.95,
          77.23,
          65.15,
          61.2,
          71.25,
          77.75,
          55.8,
          51.05,
          72.2,
          57.1,
          79.75,
          52.5,
          54.35,
          60.1,
          66.15,
          45.7,
          59.5,
          48.65,
          123.75,
          60.15,
          66.75,
          95.5,
          88.3,
          64.6,
          80.8,
          57.3,
          59.6,
          44.2,
          84.45,
          58.300000000000004,
          55.85,
          59.2,
          60.25,
          55.65,
          78.35,
          67.45,
          50.35,
          71.63,
          72.25,
          51.8,
          70.65,
          42.25,
          58,
          42.95,
          54.85,
          62.9,
          73.85,
          75.9,
          57.75,
          71.3,
          55.4,
          57.7,
          54.95,
          75.8,
          80.35,
          68.5,
          55.15,
          66.2,
          71.5,
          59.55,
          64.3,
          57.45,
          55.3,
          52.9,
          69.1,
          57,
          53.55,
          67,
          52.1,
          64.75,
          67.5,
          48.6,
          58.15,
          51.75,
          55.4,
          86.55,
          95,
          65.45,
          75.8,
          65.4,
          65.4,
          74,
          62,
          59.9,
          77.9,
          59,
          58.5,
          57.25,
          67.55,
          58.75,
          55,
          68.3,
          74.15,
          78,
          69.85,
          57,
          75.6,
          103,
          65.6,
          76.25,
          46.6,
          70,
          57.25,
          54.65,
          70.1,
          62.2,
          76.05,
          84.55,
          61.4,
          66.35,
          59.55,
          69.2,
          49.8,
          70.8,
          68.14999999999999,
          62.25,
          73.3,
          78.4,
          63.05,
          94.65,
          69.55,
          60.55,
          61.9,
          80,
          57,
          69.55,
          66.1,
          70.6,
          58.45,
          99.05,
          68.9,
          57.8,
          55.4,
          72.25,
          50.6,
          69.25,
          98.05,
          51.2,
          61.45,
          73.85,
          56.85,
          66.65,
          65.75,
          74.19,
          69,
          73.2,
          58.75,
          53.2,
          86.5,
          61.35,
          66.3,
          64.55,
          62.3,
          70.95,
          58.1,
          57.25,
          95.35,
          70.8,
          78.85,
          61.1,
          75.1,
          75.9,
          61.75,
          70.35,
          81.61,
          64.5,
          53.3,
          71.9,
          63.3,
          85.23,
          48.8,
          55.800000000000004,
          68.35,
          65.6,
          70.9,
          77.1,
          60,
          66,
          58.6,
          64.39999999999999,
          51.35,
          78.75,
          70.1,
          76.35,
          69.6,
          54.45,
          86.25,
          62.900000000000006,
          73.6,
          62.95,
          63.85,
          103.6,
          66.35,
          61.6,
          69.85,
          73.25,
          88.03,
          59.7,
          68.95,
          117.9,
          59.4,
          61.35,
          73.6,
          66.1,
          82.5,
          55.8,
          64.88,
          69.85,
          72.1,
          54,
          73.3,
          82.2,
          57.6,
          72.9,
          81.9,
          67.2,
          88.9,
          92.15,
          80.45,
          66.6,
          120.5,
          92.65,
          68.55,
          83.3,
          82.9,
          74.95,
          74.2,
          68.9,
          70.2,
          68.75,
          108.35,
          55.199999999999996,
          60.05,
          76.15,
          58.45,
          77.35,
          69.2,
          80.15,
          66.75,
          110.35,
          79.9,
          82.7,
          80.7,
          70,
          67.9,
          85.05,
          66.1,
          84.45,
          62.1,
          66.65,
          84.5,
          70.5,
          59.15,
          67,
          81.4,
          78.45,
          68.25,
          72.8,
          74.7,
          75.05,
          62.3,
          58.4,
          65.9,
          71.85,
          63.65,
          71.65,
          57.95,
          72.65,
          67.85,
          70.3,
          66.05,
          66.5,
          73.25,
          81.7,
          76.4,
          95.9,
          54.15,
          57.95,
          65.2,
          76.68,
          61.2,
          78.65,
          66.95,
          63.5,
          73.25,
          76.55,
          66.95,
          56.5,
          59.9,
          63.75,
          58.45,
          65.15,
          75.25,
          63.5,
          75.85,
          64.65,
          74.5,
          85.2,
          68.35,
          130.35,
          65.6,
          69.85,
          69.45,
          62,
          73.3,
          82.5,
          54.7,
          94.45,
          74.65,
          65.55,
          62,
          63.2,
          106.2,
          68.85,
          83.39,
          68.4,
          69.1,
          67.55,
          62.9,
          98.4,
          85.8,
          77.9,
          80.4,
          68.85,
          81.2,
          111.65,
          69.4,
          102.15,
          66.65,
          67.35,
          80.85,
          77.95,
          99.85,
          58.1,
          75.05,
          77.1,
          82.85,
          63,
          71.55,
          69.45,
          67.75,
          76.25,
          69.75,
          78.4,
          81.8,
          78.65,
          72.25,
          85.95,
          70.75,
          74.6,
          66.4,
          75.05,
          79.5,
          74.7,
          88,
          76.7,
          64.6,
          83.85,
          81.15,
          73.4,
          82.3,
          81.5,
          70.45,
          84.15,
          92.8,
          69.85,
          76.35,
          58.9,
          111.25,
          77.1,
          75.3,
          90.8,
          80.95,
          74.35,
          82.9,
          77.7,
          73.9,
          75.2,
          95.05,
          64.6,
          79.7,
          79.55,
          89,
          88.35,
          82.35,
          81.04,
          86.85,
          76.4,
          72,
          84.45,
          141.45,
          60.6,
          81.2,
          74.45,
          71.6,
          93.35,
          98.35,
          91.55,
          81.9,
          86.55,
          101.9,
          77.9,
          77.55,
          75.55,
          90.85,
          96.5,
          90.35,
          67.3,
          91.35,
          90.4,
          77.05,
          106.6,
          99.1,
          73.8,
          71.55,
          124.85,
          97.3,
          78.65,
          117.65,
          89.85,
          90.15,
          111.9,
          103.8,
          110.95,
          84.85,
          77.35,
          83.6,
          69.65,
          84.35,
          131.4,
          84.75,
          128.05,
          90.85,
          108.2,
          84.3,
          79.2,
          87.3,
          88.85,
          86.8,
          100.5,
          95.9,
          73.1,
          62.35,
          94.75,
          94.85,
          105.55,
          81.05,
          94.18,
          91,
          87.43,
          94.65,
          98.6,
          86.3,
          88.5,
          81.95,
          102.8,
          92.7,
          101.65,
          88.9,
          79.65,
          76.4,
          84.2,
          90.3,
          78.5,
          76.85,
          80.65,
          73.05,
          93.55,
          73.25,
          85.55,
          106.10000000000001,
          94.35,
          115.7,
          85.25,
          99.55,
          93.45,
          103.6,
          75,
          77.75,
          85.1,
          91.35,
          126.75,
          83.1,
          119.15,
          93.35,
          84.3,
          91.13,
          91.55,
          79.15,
          77,
          95.05,
          103.6,
          75.55,
          82.65,
          136.15,
          69.45,
          97.5,
          83.4,
          88.8,
          80.9,
          104.05,
          80.7,
          102.6,
          93.35,
          102,
          91.5,
          102.05,
          87.35,
          159.95,
          83.3,
          105.75,
          84.8,
          102.75,
          129.6,
          101.2,
          88,
          108.7,
          117.14999999999999,
          97.1,
          103.65,
          96.45,
          115.6,
          123.9,
          165.65,
          102,
          98.4,
          129.35,
          90,
          75.1,
          106.7,
          103.6,
          105.05,
          91.8,
          89.95,
          141.85,
          81.9,
          118.85,
          107.4,
          114.45,
          108.7,
          116.95,
          142.6,
          168.75,
          124.7,
          103.6,
          115.2,
          125.6,
          107.7,
          104.8,
          111.65,
          459.75,
          103.55,
          102.2,
          102,
          108.55,
          115.45,
          120,
          155.3,
          119.5,
          107.05,
          114.7,
          188.9,
          107.4,
          164.05,
          128.95,
          123.9,
          109.9
         ]
        }
       ],
       "layout": {
        "template": {
         "data": {
          "bar": [
           {
            "error_x": {
             "color": "#2a3f5f"
            },
            "error_y": {
             "color": "#2a3f5f"
            },
            "marker": {
             "line": {
              "color": "#E5ECF6",
              "width": 0.5
             },
             "pattern": {
              "fillmode": "overlay",
              "size": 10,
              "solidity": 0.2
             }
            },
            "type": "bar"
           }
          ],
          "barpolar": [
           {
            "marker": {
             "line": {
              "color": "#E5ECF6",
              "width": 0.5
             },
             "pattern": {
              "fillmode": "overlay",
              "size": 10,
              "solidity": 0.2
             }
            },
            "type": "barpolar"
           }
          ],
          "carpet": [
           {
            "aaxis": {
             "endlinecolor": "#2a3f5f",
             "gridcolor": "white",
             "linecolor": "white",
             "minorgridcolor": "white",
             "startlinecolor": "#2a3f5f"
            },
            "baxis": {
             "endlinecolor": "#2a3f5f",
             "gridcolor": "white",
             "linecolor": "white",
             "minorgridcolor": "white",
             "startlinecolor": "#2a3f5f"
            },
            "type": "carpet"
           }
          ],
          "choropleth": [
           {
            "colorbar": {
             "outlinewidth": 0,
             "ticks": ""
            },
            "type": "choropleth"
           }
          ],
          "contour": [
           {
            "colorbar": {
             "outlinewidth": 0,
             "ticks": ""
            },
            "colorscale": [
             [
              0,
              "#0d0887"
             ],
             [
              0.1111111111111111,
              "#46039f"
             ],
             [
              0.2222222222222222,
              "#7201a8"
             ],
             [
              0.3333333333333333,
              "#9c179e"
             ],
             [
              0.4444444444444444,
              "#bd3786"
             ],
             [
              0.5555555555555556,
              "#d8576b"
             ],
             [
              0.6666666666666666,
              "#ed7953"
             ],
             [
              0.7777777777777778,
              "#fb9f3a"
             ],
             [
              0.8888888888888888,
              "#fdca26"
             ],
             [
              1,
              "#f0f921"
             ]
            ],
            "type": "contour"
           }
          ],
          "contourcarpet": [
           {
            "colorbar": {
             "outlinewidth": 0,
             "ticks": ""
            },
            "type": "contourcarpet"
           }
          ],
          "heatmap": [
           {
            "colorbar": {
             "outlinewidth": 0,
             "ticks": ""
            },
            "colorscale": [
             [
              0,
              "#0d0887"
             ],
             [
              0.1111111111111111,
              "#46039f"
             ],
             [
              0.2222222222222222,
              "#7201a8"
             ],
             [
              0.3333333333333333,
              "#9c179e"
             ],
             [
              0.4444444444444444,
              "#bd3786"
             ],
             [
              0.5555555555555556,
              "#d8576b"
             ],
             [
              0.6666666666666666,
              "#ed7953"
             ],
             [
              0.7777777777777778,
              "#fb9f3a"
             ],
             [
              0.8888888888888888,
              "#fdca26"
             ],
             [
              1,
              "#f0f921"
             ]
            ],
            "type": "heatmap"
           }
          ],
          "heatmapgl": [
           {
            "colorbar": {
             "outlinewidth": 0,
             "ticks": ""
            },
            "colorscale": [
             [
              0,
              "#0d0887"
             ],
             [
              0.1111111111111111,
              "#46039f"
             ],
             [
              0.2222222222222222,
              "#7201a8"
             ],
             [
              0.3333333333333333,
              "#9c179e"
             ],
             [
              0.4444444444444444,
              "#bd3786"
             ],
             [
              0.5555555555555556,
              "#d8576b"
             ],
             [
              0.6666666666666666,
              "#ed7953"
             ],
             [
              0.7777777777777778,
              "#fb9f3a"
             ],
             [
              0.8888888888888888,
              "#fdca26"
             ],
             [
              1,
              "#f0f921"
             ]
            ],
            "type": "heatmapgl"
           }
          ],
          "histogram": [
           {
            "marker": {
             "pattern": {
              "fillmode": "overlay",
              "size": 10,
              "solidity": 0.2
             }
            },
            "type": "histogram"
           }
          ],
          "histogram2d": [
           {
            "colorbar": {
             "outlinewidth": 0,
             "ticks": ""
            },
            "colorscale": [
             [
              0,
              "#0d0887"
             ],
             [
              0.1111111111111111,
              "#46039f"
             ],
             [
              0.2222222222222222,
              "#7201a8"
             ],
             [
              0.3333333333333333,
              "#9c179e"
             ],
             [
              0.4444444444444444,
              "#bd3786"
             ],
             [
              0.5555555555555556,
              "#d8576b"
             ],
             [
              0.6666666666666666,
              "#ed7953"
             ],
             [
              0.7777777777777778,
              "#fb9f3a"
             ],
             [
              0.8888888888888888,
              "#fdca26"
             ],
             [
              1,
              "#f0f921"
             ]
            ],
            "type": "histogram2d"
           }
          ],
          "histogram2dcontour": [
           {
            "colorbar": {
             "outlinewidth": 0,
             "ticks": ""
            },
            "colorscale": [
             [
              0,
              "#0d0887"
             ],
             [
              0.1111111111111111,
              "#46039f"
             ],
             [
              0.2222222222222222,
              "#7201a8"
             ],
             [
              0.3333333333333333,
              "#9c179e"
             ],
             [
              0.4444444444444444,
              "#bd3786"
             ],
             [
              0.5555555555555556,
              "#d8576b"
             ],
             [
              0.6666666666666666,
              "#ed7953"
             ],
             [
              0.7777777777777778,
              "#fb9f3a"
             ],
             [
              0.8888888888888888,
              "#fdca26"
             ],
             [
              1,
              "#f0f921"
             ]
            ],
            "type": "histogram2dcontour"
           }
          ],
          "mesh3d": [
           {
            "colorbar": {
             "outlinewidth": 0,
             "ticks": ""
            },
            "type": "mesh3d"
           }
          ],
          "parcoords": [
           {
            "line": {
             "colorbar": {
              "outlinewidth": 0,
              "ticks": ""
             }
            },
            "type": "parcoords"
           }
          ],
          "pie": [
           {
            "automargin": true,
            "type": "pie"
           }
          ],
          "scatter": [
           {
            "fillpattern": {
             "fillmode": "overlay",
             "size": 10,
             "solidity": 0.2
            },
            "type": "scatter"
           }
          ],
          "scatter3d": [
           {
            "line": {
             "colorbar": {
              "outlinewidth": 0,
              "ticks": ""
             }
            },
            "marker": {
             "colorbar": {
              "outlinewidth": 0,
              "ticks": ""
             }
            },
            "type": "scatter3d"
           }
          ],
          "scattercarpet": [
           {
            "marker": {
             "colorbar": {
              "outlinewidth": 0,
              "ticks": ""
             }
            },
            "type": "scattercarpet"
           }
          ],
          "scattergeo": [
           {
            "marker": {
             "colorbar": {
              "outlinewidth": 0,
              "ticks": ""
             }
            },
            "type": "scattergeo"
           }
          ],
          "scattergl": [
           {
            "marker": {
             "colorbar": {
              "outlinewidth": 0,
              "ticks": ""
             }
            },
            "type": "scattergl"
           }
          ],
          "scattermapbox": [
           {
            "marker": {
             "colorbar": {
              "outlinewidth": 0,
              "ticks": ""
             }
            },
            "type": "scattermapbox"
           }
          ],
          "scatterpolar": [
           {
            "marker": {
             "colorbar": {
              "outlinewidth": 0,
              "ticks": ""
             }
            },
            "type": "scatterpolar"
           }
          ],
          "scatterpolargl": [
           {
            "marker": {
             "colorbar": {
              "outlinewidth": 0,
              "ticks": ""
             }
            },
            "type": "scatterpolargl"
           }
          ],
          "scatterternary": [
           {
            "marker": {
             "colorbar": {
              "outlinewidth": 0,
              "ticks": ""
             }
            },
            "type": "scatterternary"
           }
          ],
          "surface": [
           {
            "colorbar": {
             "outlinewidth": 0,
             "ticks": ""
            },
            "colorscale": [
             [
              0,
              "#0d0887"
             ],
             [
              0.1111111111111111,
              "#46039f"
             ],
             [
              0.2222222222222222,
              "#7201a8"
             ],
             [
              0.3333333333333333,
              "#9c179e"
             ],
             [
              0.4444444444444444,
              "#bd3786"
             ],
             [
              0.5555555555555556,
              "#d8576b"
             ],
             [
              0.6666666666666666,
              "#ed7953"
             ],
             [
              0.7777777777777778,
              "#fb9f3a"
             ],
             [
              0.8888888888888888,
              "#fdca26"
             ],
             [
              1,
              "#f0f921"
             ]
            ],
            "type": "surface"
           }
          ],
          "table": [
           {
            "cells": {
             "fill": {
              "color": "#EBF0F8"
             },
             "line": {
              "color": "white"
             }
            },
            "header": {
             "fill": {
              "color": "#C8D4E3"
             },
             "line": {
              "color": "white"
             }
            },
            "type": "table"
           }
          ]
         },
         "layout": {
          "annotationdefaults": {
           "arrowcolor": "#2a3f5f",
           "arrowhead": 0,
           "arrowwidth": 1
          },
          "autotypenumbers": "strict",
          "coloraxis": {
           "colorbar": {
            "outlinewidth": 0,
            "ticks": ""
           }
          },
          "colorscale": {
           "diverging": [
            [
             0,
             "#8e0152"
            ],
            [
             0.1,
             "#c51b7d"
            ],
            [
             0.2,
             "#de77ae"
            ],
            [
             0.3,
             "#f1b6da"
            ],
            [
             0.4,
             "#fde0ef"
            ],
            [
             0.5,
             "#f7f7f7"
            ],
            [
             0.6,
             "#e6f5d0"
            ],
            [
             0.7,
             "#b8e186"
            ],
            [
             0.8,
             "#7fbc41"
            ],
            [
             0.9,
             "#4d9221"
            ],
            [
             1,
             "#276419"
            ]
           ],
           "sequential": [
            [
             0,
             "#0d0887"
            ],
            [
             0.1111111111111111,
             "#46039f"
            ],
            [
             0.2222222222222222,
             "#7201a8"
            ],
            [
             0.3333333333333333,
             "#9c179e"
            ],
            [
             0.4444444444444444,
             "#bd3786"
            ],
            [
             0.5555555555555556,
             "#d8576b"
            ],
            [
             0.6666666666666666,
             "#ed7953"
            ],
            [
             0.7777777777777778,
             "#fb9f3a"
            ],
            [
             0.8888888888888888,
             "#fdca26"
            ],
            [
             1,
             "#f0f921"
            ]
           ],
           "sequentialminus": [
            [
             0,
             "#0d0887"
            ],
            [
             0.1111111111111111,
             "#46039f"
            ],
            [
             0.2222222222222222,
             "#7201a8"
            ],
            [
             0.3333333333333333,
             "#9c179e"
            ],
            [
             0.4444444444444444,
             "#bd3786"
            ],
            [
             0.5555555555555556,
             "#d8576b"
            ],
            [
             0.6666666666666666,
             "#ed7953"
            ],
            [
             0.7777777777777778,
             "#fb9f3a"
            ],
            [
             0.8888888888888888,
             "#fdca26"
            ],
            [
             1,
             "#f0f921"
            ]
           ]
          },
          "colorway": [
           "#636efa",
           "#EF553B",
           "#00cc96",
           "#ab63fa",
           "#FFA15A",
           "#19d3f3",
           "#FF6692",
           "#B6E880",
           "#FF97FF",
           "#FECB52"
          ],
          "font": {
           "color": "#2a3f5f"
          },
          "geo": {
           "bgcolor": "white",
           "lakecolor": "white",
           "landcolor": "#E5ECF6",
           "showlakes": true,
           "showland": true,
           "subunitcolor": "white"
          },
          "hoverlabel": {
           "align": "left"
          },
          "hovermode": "closest",
          "mapbox": {
           "style": "light"
          },
          "paper_bgcolor": "white",
          "plot_bgcolor": "#E5ECF6",
          "polar": {
           "angularaxis": {
            "gridcolor": "white",
            "linecolor": "white",
            "ticks": ""
           },
           "bgcolor": "#E5ECF6",
           "radialaxis": {
            "gridcolor": "white",
            "linecolor": "white",
            "ticks": ""
           }
          },
          "scene": {
           "xaxis": {
            "backgroundcolor": "#E5ECF6",
            "gridcolor": "white",
            "gridwidth": 2,
            "linecolor": "white",
            "showbackground": true,
            "ticks": "",
            "zerolinecolor": "white"
           },
           "yaxis": {
            "backgroundcolor": "#E5ECF6",
            "gridcolor": "white",
            "gridwidth": 2,
            "linecolor": "white",
            "showbackground": true,
            "ticks": "",
            "zerolinecolor": "white"
           },
           "zaxis": {
            "backgroundcolor": "#E5ECF6",
            "gridcolor": "white",
            "gridwidth": 2,
            "linecolor": "white",
            "showbackground": true,
            "ticks": "",
            "zerolinecolor": "white"
           }
          },
          "shapedefaults": {
           "line": {
            "color": "#2a3f5f"
           }
          },
          "ternary": {
           "aaxis": {
            "gridcolor": "white",
            "linecolor": "white",
            "ticks": ""
           },
           "baxis": {
            "gridcolor": "white",
            "linecolor": "white",
            "ticks": ""
           },
           "bgcolor": "#E5ECF6",
           "caxis": {
            "gridcolor": "white",
            "linecolor": "white",
            "ticks": ""
           }
          },
          "title": {
           "x": 0.05
          },
          "xaxis": {
           "automargin": true,
           "gridcolor": "white",
           "linecolor": "white",
           "ticks": "",
           "title": {
            "standoff": 15
           },
           "zerolinecolor": "white",
           "zerolinewidth": 2
          },
          "yaxis": {
           "automargin": true,
           "gridcolor": "white",
           "linecolor": "white",
           "ticks": "",
           "title": {
            "standoff": 15
           },
           "zerolinecolor": "white",
           "zerolinewidth": 2
          }
         }
        },
        "title": {
         "text": "Customer Spending VS Number of Products"
        },
        "xaxis": {
         "title": {
          "text": "Number of Products"
         },
         "type": "category"
        },
        "yaxis": {
         "tickprefix": "$",
         "title": {
          "text": "Total Gross"
         }
        }
       }
      }
     },
     "metadata": {},
     "output_type": "display_data"
    }
   ],
   "source": [
    "# Customer spending \n",
    "filtered_customers = cf_shop[cf_shop['customer_first-name'].notnull()]      # Removed customers that have no first name\n",
    "customer_spending = filtered_customers.groupby('customer_id').agg({'gross': 'sum', 'product_id': 'nunique'}).reset_index().sort_values('product_id', ascending=True)\n",
    "\n",
    "# Create the figure\n",
    "fig = go.Figure()\n",
    "\n",
    "# Create a scatter plot\n",
    "fig.add_trace(go.Scatter(\n",
    "    x=customer_spending.product_id,\n",
    "    y=customer_spending.gross,\n",
    "    mode='markers',\n",
    "    text=customer_spending.customer_id,\n",
    "    marker=dict(\n",
    "        color='rgba(50, 171, 96, 0.6)',\n",
    "        size=12\n",
    "    )\n",
    "))\n",
    "\n",
    "# Customize the graph\n",
    "fig.update_layout(\n",
    "    title='Customer Spending VS Number of Products',\n",
    "    xaxis_title='Number of Products',\n",
    "    xaxis=dict(type='category'),\n",
    "    yaxis_title='Total Gross',\n",
    "    yaxis_tickprefix=\"$\"\n",
    ")\n"
   ]
  },
  {
   "cell_type": "markdown",
   "metadata": {},
   "source": [
    "<b>Question 5:</b> Do customers revist the shop? If so how many times?"
   ]
  },
  {
   "cell_type": "code",
   "execution_count": 11,
   "metadata": {},
   "outputs": [
    {
     "data": {
      "application/vnd.plotly.v1+json": {
       "config": {
        "plotlyServerURL": "https://plot.ly"
       },
       "data": [
        {
         "marker": {
          "color": "rgba(50, 171, 96, 0.6)"
         },
         "type": "histogram",
         "x": [
          6,
          16,
          13,
          7,
          6,
          9,
          9,
          10,
          9,
          10,
          8,
          7,
          5,
          10,
          11,
          10,
          1,
          6,
          7,
          9,
          5,
          15,
          9,
          12,
          11,
          14,
          5,
          14,
          6,
          5,
          8,
          6,
          10,
          9,
          12,
          6,
          8,
          7,
          8,
          12,
          10,
          8,
          9,
          9,
          5,
          11,
          9,
          13,
          7,
          9,
          8,
          11,
          12,
          8,
          9,
          6,
          9,
          10,
          7,
          9,
          7,
          7,
          9,
          11,
          14,
          8,
          9,
          7,
          10,
          12,
          6,
          7,
          7,
          7,
          9,
          9,
          4,
          5,
          4,
          11,
          14,
          12,
          11,
          7,
          4,
          6,
          10,
          7,
          6,
          13,
          7,
          11,
          3,
          10,
          11,
          5,
          4,
          13,
          12,
          14,
          11,
          7,
          2,
          5,
          10,
          4,
          9,
          8,
          9,
          6,
          9,
          7,
          10,
          9,
          9,
          10,
          11,
          10,
          11,
          11,
          7,
          8,
          3,
          8,
          8,
          7,
          8,
          9,
          5,
          8,
          9,
          5,
          9,
          9,
          13,
          9,
          3,
          11,
          4,
          7,
          14,
          5,
          9,
          4,
          12,
          6,
          3,
          7,
          11,
          5,
          10,
          6,
          3,
          9,
          7,
          9,
          11,
          15,
          6,
          9,
          4,
          10,
          4,
          6,
          4,
          11,
          12,
          10,
          10,
          5,
          7,
          10,
          10,
          13,
          7,
          11,
          6,
          10,
          11,
          11,
          9,
          8,
          8,
          8,
          6,
          12,
          4,
          6,
          12,
          9,
          9,
          15,
          9,
          10,
          8,
          7,
          7,
          4,
          9,
          8,
          7,
          9,
          7,
          8,
          9,
          9,
          2,
          11,
          11,
          9,
          9,
          10,
          8,
          13,
          11,
          11,
          5,
          7,
          6,
          7,
          12,
          8,
          6,
          13,
          3,
          6,
          8,
          4,
          10,
          9,
          8,
          5,
          6,
          5,
          9,
          8,
          11,
          8,
          8,
          8,
          10,
          12,
          8,
          8,
          7,
          11,
          14,
          9,
          9,
          8,
          11,
          11,
          7,
          7,
          6,
          5,
          7,
          7,
          8,
          6,
          3,
          5,
          11,
          8,
          8,
          4,
          6,
          7,
          10,
          6,
          6,
          16,
          7,
          7,
          6,
          10,
          7,
          10,
          10,
          9,
          12,
          10,
          7,
          8,
          8,
          8,
          5,
          9,
          6,
          5,
          8,
          4,
          5,
          9,
          7,
          5,
          5,
          8,
          8,
          11,
          11,
          11,
          4,
          6,
          10,
          9,
          11,
          7,
          6,
          5,
          12,
          8,
          10,
          8,
          9,
          7,
          9,
          11,
          20,
          18,
          8,
          9,
          10,
          7,
          11,
          9,
          9,
          13,
          13,
          9,
          9,
          8,
          7,
          4,
          12,
          10,
          7,
          13,
          2,
          11,
          10,
          10,
          6,
          11,
          5,
          9,
          12,
          1,
          2,
          11,
          8,
          12,
          6,
          6,
          10,
          9,
          3,
          7,
          1,
          3,
          14,
          6,
          4,
          7,
          3,
          4,
          5,
          6,
          6,
          6,
          8,
          6,
          5,
          9,
          6,
          6,
          8,
          12,
          11,
          4,
          11,
          7,
          9,
          11,
          3,
          6,
          7,
          11,
          4,
          8,
          9,
          10,
          6,
          6,
          10,
          13,
          3,
          10,
          8,
          10,
          7,
          6,
          13,
          10,
          4,
          13,
          10,
          10,
          12,
          16,
          7,
          5,
          4,
          9,
          4,
          7,
          6,
          8,
          5,
          18,
          5,
          6,
          6,
          9,
          8,
          8,
          1,
          14,
          11,
          13,
          8,
          11,
          7,
          8,
          8,
          6,
          15,
          11,
          7,
          14,
          8,
          4,
          5,
          10,
          2,
          12,
          12,
          12,
          8,
          7,
          5,
          6,
          9,
          5,
          3,
          14,
          4,
          6,
          8,
          4,
          9,
          4,
          10,
          7,
          11,
          6,
          7,
          4,
          8,
          5,
          5,
          11,
          11,
          6,
          5,
          14,
          9,
          3,
          8,
          7,
          10,
          8,
          6,
          4,
          9,
          6,
          5,
          5,
          3,
          10,
          9,
          5,
          12,
          5,
          10,
          6,
          12,
          6,
          4,
          15,
          9,
          7,
          15,
          5,
          6,
          7,
          11,
          10,
          7,
          9,
          8,
          8,
          6,
          7,
          10,
          7,
          8,
          6,
          4,
          7,
          7,
          6,
          8,
          5,
          8,
          8,
          10,
          6,
          6,
          7,
          11,
          6,
          9,
          11,
          3,
          14,
          8,
          7,
          13,
          5,
          11,
          7,
          4,
          9,
          8,
          10,
          11,
          22,
          13,
          9,
          7,
          9,
          8,
          9,
          6,
          11,
          11,
          15,
          6,
          9,
          7,
          5,
          11,
          11,
          6,
          9,
          12,
          5,
          5,
          7,
          7,
          8,
          11,
          13,
          5,
          4,
          10,
          6,
          15,
          9,
          8,
          3,
          4,
          12,
          7,
          13,
          9,
          4,
          10,
          6,
          10,
          7,
          5,
          6,
          7,
          9,
          11,
          12,
          13,
          4,
          13,
          9,
          8,
          5,
          6,
          7,
          12,
          21,
          2,
          15,
          6,
          14,
          8,
          4,
          8,
          9,
          10,
          6,
          6,
          6,
          10,
          7,
          2,
          10,
          10,
          6,
          9,
          10,
          10,
          3,
          9,
          7,
          8,
          11,
          5,
          8,
          10,
          6,
          9,
          10,
          12,
          12,
          10,
          5,
          8,
          8,
          7,
          10,
          6,
          10,
          11,
          12,
          11,
          4,
          11,
          10,
          6,
          7,
          13,
          5,
          13,
          8,
          12,
          16,
          9,
          10,
          8,
          5,
          10,
          10,
          4,
          9,
          5,
          15,
          7,
          16,
          8,
          11,
          7,
          6,
          10,
          2,
          10,
          13,
          10,
          14,
          18,
          9,
          11,
          5,
          9,
          11,
          10,
          9,
          12,
          5,
          15,
          8,
          8,
          7,
          9,
          9,
          13,
          11,
          5,
          9,
          16,
          8,
          11,
          12,
          7,
          7,
          3,
          9,
          8,
          8,
          6,
          7,
          8,
          8,
          5,
          11,
          9,
          9,
          10,
          10,
          15,
          12,
          12,
          8,
          12,
          10,
          9,
          13,
          15,
          9,
          7,
          7,
          5,
          5,
          3,
          5,
          11,
          8,
          10,
          8,
          6,
          12,
          5,
          4,
          10,
          4,
          11,
          6,
          5,
          12,
          8,
          9,
          5,
          8,
          4,
          12,
          11,
          8,
          8,
          5,
          10,
          8,
          12,
          7,
          7,
          10,
          13,
          10,
          6,
          13,
          8,
          8,
          10,
          5,
          10,
          5,
          4,
          7,
          11,
          4,
          5,
          7,
          9,
          10,
          8,
          4,
          6,
          9,
          9,
          11,
          5,
          12,
          7,
          7,
          7,
          8,
          6,
          6,
          8,
          9,
          5,
          4,
          11,
          6,
          6,
          7,
          8,
          8,
          6,
          6,
          7,
          4,
          3,
          11,
          8,
          5,
          7,
          2,
          9,
          15,
          4,
          5,
          8,
          8,
          5,
          7,
          14,
          3,
          10,
          6,
          3,
          8,
          8,
          14,
          3,
          7,
          7,
          6,
          9,
          9,
          4,
          6,
          8,
          5,
          5,
          7,
          5,
          6,
          11,
          8,
          11,
          6,
          6,
          6,
          9,
          11,
          6,
          7,
          7,
          4,
          5,
          7,
          7,
          11,
          16,
          7,
          6,
          7,
          8,
          1,
          7,
          5,
          6,
          4,
          8,
          10,
          12,
          15,
          10,
          6,
          5,
          7,
          7,
          11,
          14,
          8,
          8,
          7,
          7,
          11,
          11,
          4,
          4,
          12,
          5,
          7,
          6,
          4,
          6,
          15,
          7,
          8,
          6,
          7,
          8,
          6,
          6,
          6,
          10,
          9,
          4,
          4,
          7,
          7,
          6,
          6,
          8,
          7,
          5,
          6,
          6,
          5,
          6,
          6,
          4,
          10,
          2,
          8,
          6,
          7,
          8,
          6,
          7,
          6,
          8,
          6,
          5,
          11,
          10,
          8,
          1,
          4,
          5,
          6,
          7,
          5,
          4,
          9,
          4,
          4,
          10,
          9,
          9,
          5,
          5,
          9,
          14,
          9,
          6,
          10,
          9,
          7,
          6,
          5,
          10,
          3,
          5,
          9,
          3,
          8,
          6,
          7,
          7,
          7,
          6,
          9,
          4,
          7,
          7,
          6,
          12,
          2,
          6,
          8,
          6,
          7,
          8,
          5,
          9,
          10,
          7,
          8,
          6,
          4,
          10,
          4,
          12,
          7,
          8,
          2,
          6,
          9,
          8,
          7,
          7,
          6,
          9,
          3,
          4,
          5,
          3,
          10,
          4,
          9,
          7,
          10,
          6,
          10,
          13,
          7,
          7,
          14,
          11,
          6,
          7,
          10,
          8,
          5,
          5,
          8,
          4,
          6,
          4,
          5,
          3,
          8,
          6,
          9,
          11,
          8,
          7,
          3,
          9,
          5,
          4,
          5,
          4,
          6,
          5,
          7,
          10,
          6,
          10,
          5,
          6,
          12,
          7,
          4,
          12,
          6,
          7,
          7,
          9,
          10,
          7,
          10,
          5,
          11,
          7,
          4,
          7,
          6,
          9,
          4,
          12,
          6,
          10,
          10,
          6,
          10,
          6,
          7,
          7,
          9,
          6,
          7,
          6,
          5,
          7,
          7,
          5,
          9,
          3,
          5,
          12,
          7,
          12,
          9,
          7,
          9,
          7,
          6,
          6,
          7,
          7,
          4,
          5,
          7,
          7,
          4,
          6,
          10,
          7,
          8,
          8,
          12,
          6,
          4,
          4,
          9,
          7,
          7,
          7,
          5,
          10,
          10,
          7,
          6,
          7,
          4,
          5,
          5,
          6,
          4,
          7,
          6,
          4,
          7,
          8,
          3,
          15,
          7,
          8,
          6,
          5,
          10,
          5,
          9,
          10,
          6,
          6,
          6,
          8,
          9,
          8,
          5,
          5,
          5,
          2,
          3,
          6,
          8,
          2,
          5,
          6,
          11,
          7,
          5,
          9,
          11,
          6,
          7,
          6,
          6,
          5,
          8,
          9,
          11,
          5,
          9,
          7,
          11,
          11,
          6,
          10,
          10,
          10,
          3,
          6,
          7,
          7,
          6,
          6,
          7,
          7,
          8,
          7,
          4,
          12,
          7,
          4,
          13,
          6,
          9,
          3,
          12,
          3,
          11,
          6,
          7,
          9,
          7,
          12,
          6,
          6,
          7,
          3,
          11,
          13,
          7,
          8,
          5,
          8,
          8,
          13,
          7,
          11,
          7,
          9,
          3,
          8,
          9,
          6,
          9,
          9,
          6,
          7,
          3,
          3,
          8,
          9,
          6,
          5,
          5,
          11,
          11,
          10,
          5,
          6,
          6,
          3,
          6,
          8,
          4,
          4,
          7,
          8,
          12,
          8,
          5,
          7,
          9,
          9,
          4,
          12,
          4,
          5,
          4,
          6,
          5,
          5,
          5,
          11,
          10,
          9,
          5,
          5,
          7,
          9,
          4,
          10,
          7,
          7,
          8,
          4,
          9,
          8,
          7,
          2,
          8,
          6,
          8,
          9,
          7,
          6,
          11,
          5,
          12,
          5,
          9,
          6,
          5,
          10,
          7,
          6,
          6,
          6,
          5,
          9,
          6,
          4,
          4,
          6,
          6,
          3,
          7,
          3,
          9,
          5,
          5,
          8,
          10,
          2,
          8,
          7,
          8,
          7,
          4,
          9,
          10,
          6,
          10,
          5,
          4,
          3,
          8,
          6,
          9,
          8,
          7,
          6,
          12,
          3,
          7,
          2,
          3,
          7,
          7,
          4,
          6,
          7,
          3,
          9,
          5,
          5,
          7,
          11,
          10,
          5,
          8,
          6,
          7,
          1,
          8,
          8,
          5,
          8,
          1,
          9,
          11,
          9,
          8,
          5,
          8,
          11,
          3,
          12,
          3,
          7,
          5,
          6,
          4,
          1,
          6,
          4,
          12,
          3,
          9,
          8,
          6,
          9,
          8,
          4,
          8,
          7,
          5,
          6,
          4,
          7,
          3,
          10,
          9,
          5,
          10,
          11,
          13,
          8,
          3,
          5,
          5,
          8,
          5,
          11,
          11,
          3,
          4,
          7,
          6,
          8,
          4,
          13,
          5,
          6,
          10,
          5,
          8,
          5,
          6,
          6,
          10,
          7,
          5,
          4,
          4,
          9,
          8,
          4,
          11,
          4,
          7,
          7,
          3,
          6,
          5,
          9,
          8,
          5,
          5,
          8,
          9,
          7,
          12,
          2,
          6,
          8,
          6,
          6,
          3,
          6,
          6,
          10,
          1,
          7,
          6,
          8,
          9,
          10,
          12,
          5,
          7,
          9,
          12,
          2,
          6,
          6,
          3,
          6,
          7,
          10,
          4,
          8,
          8,
          5,
          6,
          6,
          6,
          2,
          7,
          9,
          8,
          7,
          4,
          7,
          10,
          7,
          9,
          8,
          14,
          8,
          3,
          6,
          4,
          7,
          2,
          8,
          7,
          6,
          7,
          6,
          6,
          6,
          4,
          8,
          8,
          8,
          8,
          3,
          10,
          5,
          7,
          7,
          10,
          5,
          4,
          8,
          12,
          5,
          6,
          6,
          5,
          8,
          6,
          11,
          10,
          2,
          3,
          10,
          9,
          8,
          10,
          10,
          5,
          3,
          7,
          4,
          10,
          6,
          11,
          2,
          8,
          9,
          9,
          2,
          9,
          8,
          4,
          6,
          7,
          8,
          6,
          6,
          7,
          12,
          7,
          4,
          4,
          4,
          5,
          4,
          12,
          10,
          10,
          6,
          8,
          6,
          9,
          8,
          1,
          10,
          10,
          7,
          4,
          8,
          7,
          7,
          7,
          4,
          4,
          8,
          9,
          7,
          9,
          9,
          5,
          2,
          5,
          7,
          8,
          7,
          12,
          11,
          7,
          6,
          5,
          5,
          5,
          2,
          4,
          9,
          6,
          11,
          11,
          4,
          8,
          9,
          5,
          8,
          11,
          8,
          9,
          12,
          5,
          13,
          6,
          6,
          10,
          5,
          5,
          9,
          4,
          2,
          4,
          3,
          4,
          4,
          9,
          5,
          4,
          7,
          8,
          13,
          6,
          4,
          7,
          6,
          8,
          8,
          9,
          4,
          6,
          7,
          9,
          3,
          7,
          10,
          6,
          5,
          10,
          6,
          8,
          13,
          4,
          4,
          7,
          8,
          7,
          5,
          8,
          2,
          10,
          6,
          6,
          14,
          10,
          10,
          6,
          8,
          7,
          9,
          6,
          6,
          6,
          6,
          4,
          6,
          5,
          4,
          8,
          9,
          10,
          4,
          4,
          9,
          10,
          9,
          6,
          4,
          8,
          3,
          13,
          5,
          9,
          7,
          6,
          9,
          10,
          5,
          4,
          10,
          8,
          8,
          4,
          11,
          9,
          6,
          7,
          9,
          10,
          9,
          6,
          6,
          12,
          12,
          7,
          9,
          9,
          8,
          7,
          9,
          3,
          6,
          4,
          6,
          7,
          5,
          5,
          9,
          4,
          10,
          16,
          15,
          6,
          9,
          13,
          14,
          14,
          19,
          12,
          15,
          7,
          19,
          10,
          9,
          11,
          12,
          10,
          21,
          9,
          12,
          17,
          12,
          13,
          18,
          10,
          12,
          7,
          13,
          13,
          10,
          13,
          14,
          16,
          10,
          20,
          15,
          3,
          17,
          10,
          18,
          18,
          16,
          12,
          12,
          8,
          5,
          14,
          11,
          12,
          7,
          14,
          9,
          16,
          10,
          13,
          12,
          14,
          20,
          13,
          15,
          12,
          7,
          13,
          9,
          19,
          10,
          10,
          16,
          13,
          19,
          21,
          12,
          12,
          10,
          14,
          11,
          10,
          16,
          18,
          14,
          12,
          10,
          4,
          8,
          16,
          8,
          12,
          10,
          7,
          10,
          14,
          9,
          10,
          6,
          16,
          11,
          11,
          16,
          13,
          24,
          11,
          6,
          15,
          10,
          14,
          11,
          9,
          18,
          11,
          13,
          8,
          15,
          13,
          6,
          6,
          12,
          22,
          7,
          8,
          18,
          10,
          7,
          15,
          9,
          8,
          8,
          18,
          14,
          11,
          13,
          9,
          9,
          13,
          9,
          11,
          10,
          15,
          12,
          13,
          9,
          14,
          9,
          16,
          15,
          16,
          19,
          14,
          10,
          10,
          11,
          15,
          9,
          16,
          9,
          9,
          17,
          20,
          17,
          13,
          16,
          11,
          11,
          17,
          15,
          15,
          16,
          5,
          18,
          11,
          7,
          13,
          15,
          11,
          7,
          16,
          18,
          13,
          13,
          18,
          10,
          15,
          12,
          14,
          15,
          12,
          12,
          13,
          14,
          13,
          16,
          17,
          13,
          8,
          18,
          17,
          11,
          3,
          8,
          16,
          13,
          11,
          4,
          8,
          12,
          16,
          9,
          17,
          11,
          15,
          11,
          11,
          14,
          13,
          8,
          11,
          10,
          17,
          15,
          18,
          14,
          14,
          13,
          13,
          18,
          20,
          10,
          17,
          16,
          9,
          12,
          8,
          7,
          10,
          8,
          15,
          7,
          8,
          11,
          9,
          13,
          16,
          12,
          12,
          16,
          11,
          12,
          12,
          14,
          12,
          17,
          17,
          8,
          13,
          16,
          16,
          13,
          13,
          11,
          18,
          18,
          16,
          12,
          10,
          11,
          16,
          14,
          13,
          16,
          7,
          12,
          17,
          11,
          12,
          10,
          11,
          8,
          13,
          17,
          11,
          14,
          19,
          11,
          9,
          25,
          11,
          10,
          13,
          17,
          13,
          11,
          12,
          5,
          12,
          10,
          15,
          23,
          9,
          7,
          14,
          16,
          6,
          11,
          10,
          10,
          12,
          17,
          7,
          8,
          15,
          20,
          11,
          14,
          13,
          8,
          10,
          10,
          18,
          13,
          10,
          12,
          18,
          15,
          13,
          7,
          12,
          18,
          14,
          12,
          12,
          10,
          6,
          10,
          13,
          13,
          17,
          11,
          14,
          12,
          15,
          22,
          12,
          10,
          16,
          19,
          13,
          16,
          15,
          14,
          11,
          14,
          14,
          17,
          5,
          12,
          12,
          13,
          9,
          17,
          14,
          14,
          8,
          12,
          21,
          17,
          8,
          11,
          15,
          14,
          20,
          11,
          13,
          16,
          14,
          19,
          11,
          13,
          17,
          12,
          14,
          16,
          20,
          15,
          23,
          12,
          17,
          13,
          13,
          12,
          11,
          7,
          12,
          12,
          14,
          20,
          16,
          18,
          8,
          12,
          11,
          12,
          5,
          16,
          12,
          11,
          17,
          16,
          11,
          9,
          18,
          16,
          14,
          17,
          17,
          12,
          6,
          16,
          12,
          12,
          14,
          6,
          10,
          16,
          11,
          11,
          9,
          15,
          18,
          14,
          12,
          9,
          11,
          5,
          11,
          11,
          13,
          13,
          15,
          9,
          15,
          16,
          11,
          16,
          11,
          14,
          20,
          10,
          12,
          10,
          13,
          12,
          10,
          16,
          8,
          14,
          10,
          12,
          14,
          14,
          10,
          15,
          12,
          16,
          9,
          11,
          13,
          10,
          8,
          13,
          13,
          12,
          16,
          7,
          7,
          10,
          12,
          15,
          12,
          9,
          16,
          18,
          13,
          17,
          8,
          13,
          15,
          13,
          13,
          16,
          11,
          10,
          16,
          13,
          15,
          14,
          13,
          10,
          7,
          10,
          17,
          6
         ]
        }
       ],
       "layout": {
        "template": {
         "data": {
          "bar": [
           {
            "error_x": {
             "color": "#2a3f5f"
            },
            "error_y": {
             "color": "#2a3f5f"
            },
            "marker": {
             "line": {
              "color": "#E5ECF6",
              "width": 0.5
             },
             "pattern": {
              "fillmode": "overlay",
              "size": 10,
              "solidity": 0.2
             }
            },
            "type": "bar"
           }
          ],
          "barpolar": [
           {
            "marker": {
             "line": {
              "color": "#E5ECF6",
              "width": 0.5
             },
             "pattern": {
              "fillmode": "overlay",
              "size": 10,
              "solidity": 0.2
             }
            },
            "type": "barpolar"
           }
          ],
          "carpet": [
           {
            "aaxis": {
             "endlinecolor": "#2a3f5f",
             "gridcolor": "white",
             "linecolor": "white",
             "minorgridcolor": "white",
             "startlinecolor": "#2a3f5f"
            },
            "baxis": {
             "endlinecolor": "#2a3f5f",
             "gridcolor": "white",
             "linecolor": "white",
             "minorgridcolor": "white",
             "startlinecolor": "#2a3f5f"
            },
            "type": "carpet"
           }
          ],
          "choropleth": [
           {
            "colorbar": {
             "outlinewidth": 0,
             "ticks": ""
            },
            "type": "choropleth"
           }
          ],
          "contour": [
           {
            "colorbar": {
             "outlinewidth": 0,
             "ticks": ""
            },
            "colorscale": [
             [
              0,
              "#0d0887"
             ],
             [
              0.1111111111111111,
              "#46039f"
             ],
             [
              0.2222222222222222,
              "#7201a8"
             ],
             [
              0.3333333333333333,
              "#9c179e"
             ],
             [
              0.4444444444444444,
              "#bd3786"
             ],
             [
              0.5555555555555556,
              "#d8576b"
             ],
             [
              0.6666666666666666,
              "#ed7953"
             ],
             [
              0.7777777777777778,
              "#fb9f3a"
             ],
             [
              0.8888888888888888,
              "#fdca26"
             ],
             [
              1,
              "#f0f921"
             ]
            ],
            "type": "contour"
           }
          ],
          "contourcarpet": [
           {
            "colorbar": {
             "outlinewidth": 0,
             "ticks": ""
            },
            "type": "contourcarpet"
           }
          ],
          "heatmap": [
           {
            "colorbar": {
             "outlinewidth": 0,
             "ticks": ""
            },
            "colorscale": [
             [
              0,
              "#0d0887"
             ],
             [
              0.1111111111111111,
              "#46039f"
             ],
             [
              0.2222222222222222,
              "#7201a8"
             ],
             [
              0.3333333333333333,
              "#9c179e"
             ],
             [
              0.4444444444444444,
              "#bd3786"
             ],
             [
              0.5555555555555556,
              "#d8576b"
             ],
             [
              0.6666666666666666,
              "#ed7953"
             ],
             [
              0.7777777777777778,
              "#fb9f3a"
             ],
             [
              0.8888888888888888,
              "#fdca26"
             ],
             [
              1,
              "#f0f921"
             ]
            ],
            "type": "heatmap"
           }
          ],
          "heatmapgl": [
           {
            "colorbar": {
             "outlinewidth": 0,
             "ticks": ""
            },
            "colorscale": [
             [
              0,
              "#0d0887"
             ],
             [
              0.1111111111111111,
              "#46039f"
             ],
             [
              0.2222222222222222,
              "#7201a8"
             ],
             [
              0.3333333333333333,
              "#9c179e"
             ],
             [
              0.4444444444444444,
              "#bd3786"
             ],
             [
              0.5555555555555556,
              "#d8576b"
             ],
             [
              0.6666666666666666,
              "#ed7953"
             ],
             [
              0.7777777777777778,
              "#fb9f3a"
             ],
             [
              0.8888888888888888,
              "#fdca26"
             ],
             [
              1,
              "#f0f921"
             ]
            ],
            "type": "heatmapgl"
           }
          ],
          "histogram": [
           {
            "marker": {
             "pattern": {
              "fillmode": "overlay",
              "size": 10,
              "solidity": 0.2
             }
            },
            "type": "histogram"
           }
          ],
          "histogram2d": [
           {
            "colorbar": {
             "outlinewidth": 0,
             "ticks": ""
            },
            "colorscale": [
             [
              0,
              "#0d0887"
             ],
             [
              0.1111111111111111,
              "#46039f"
             ],
             [
              0.2222222222222222,
              "#7201a8"
             ],
             [
              0.3333333333333333,
              "#9c179e"
             ],
             [
              0.4444444444444444,
              "#bd3786"
             ],
             [
              0.5555555555555556,
              "#d8576b"
             ],
             [
              0.6666666666666666,
              "#ed7953"
             ],
             [
              0.7777777777777778,
              "#fb9f3a"
             ],
             [
              0.8888888888888888,
              "#fdca26"
             ],
             [
              1,
              "#f0f921"
             ]
            ],
            "type": "histogram2d"
           }
          ],
          "histogram2dcontour": [
           {
            "colorbar": {
             "outlinewidth": 0,
             "ticks": ""
            },
            "colorscale": [
             [
              0,
              "#0d0887"
             ],
             [
              0.1111111111111111,
              "#46039f"
             ],
             [
              0.2222222222222222,
              "#7201a8"
             ],
             [
              0.3333333333333333,
              "#9c179e"
             ],
             [
              0.4444444444444444,
              "#bd3786"
             ],
             [
              0.5555555555555556,
              "#d8576b"
             ],
             [
              0.6666666666666666,
              "#ed7953"
             ],
             [
              0.7777777777777778,
              "#fb9f3a"
             ],
             [
              0.8888888888888888,
              "#fdca26"
             ],
             [
              1,
              "#f0f921"
             ]
            ],
            "type": "histogram2dcontour"
           }
          ],
          "mesh3d": [
           {
            "colorbar": {
             "outlinewidth": 0,
             "ticks": ""
            },
            "type": "mesh3d"
           }
          ],
          "parcoords": [
           {
            "line": {
             "colorbar": {
              "outlinewidth": 0,
              "ticks": ""
             }
            },
            "type": "parcoords"
           }
          ],
          "pie": [
           {
            "automargin": true,
            "type": "pie"
           }
          ],
          "scatter": [
           {
            "fillpattern": {
             "fillmode": "overlay",
             "size": 10,
             "solidity": 0.2
            },
            "type": "scatter"
           }
          ],
          "scatter3d": [
           {
            "line": {
             "colorbar": {
              "outlinewidth": 0,
              "ticks": ""
             }
            },
            "marker": {
             "colorbar": {
              "outlinewidth": 0,
              "ticks": ""
             }
            },
            "type": "scatter3d"
           }
          ],
          "scattercarpet": [
           {
            "marker": {
             "colorbar": {
              "outlinewidth": 0,
              "ticks": ""
             }
            },
            "type": "scattercarpet"
           }
          ],
          "scattergeo": [
           {
            "marker": {
             "colorbar": {
              "outlinewidth": 0,
              "ticks": ""
             }
            },
            "type": "scattergeo"
           }
          ],
          "scattergl": [
           {
            "marker": {
             "colorbar": {
              "outlinewidth": 0,
              "ticks": ""
             }
            },
            "type": "scattergl"
           }
          ],
          "scattermapbox": [
           {
            "marker": {
             "colorbar": {
              "outlinewidth": 0,
              "ticks": ""
             }
            },
            "type": "scattermapbox"
           }
          ],
          "scatterpolar": [
           {
            "marker": {
             "colorbar": {
              "outlinewidth": 0,
              "ticks": ""
             }
            },
            "type": "scatterpolar"
           }
          ],
          "scatterpolargl": [
           {
            "marker": {
             "colorbar": {
              "outlinewidth": 0,
              "ticks": ""
             }
            },
            "type": "scatterpolargl"
           }
          ],
          "scatterternary": [
           {
            "marker": {
             "colorbar": {
              "outlinewidth": 0,
              "ticks": ""
             }
            },
            "type": "scatterternary"
           }
          ],
          "surface": [
           {
            "colorbar": {
             "outlinewidth": 0,
             "ticks": ""
            },
            "colorscale": [
             [
              0,
              "#0d0887"
             ],
             [
              0.1111111111111111,
              "#46039f"
             ],
             [
              0.2222222222222222,
              "#7201a8"
             ],
             [
              0.3333333333333333,
              "#9c179e"
             ],
             [
              0.4444444444444444,
              "#bd3786"
             ],
             [
              0.5555555555555556,
              "#d8576b"
             ],
             [
              0.6666666666666666,
              "#ed7953"
             ],
             [
              0.7777777777777778,
              "#fb9f3a"
             ],
             [
              0.8888888888888888,
              "#fdca26"
             ],
             [
              1,
              "#f0f921"
             ]
            ],
            "type": "surface"
           }
          ],
          "table": [
           {
            "cells": {
             "fill": {
              "color": "#EBF0F8"
             },
             "line": {
              "color": "white"
             }
            },
            "header": {
             "fill": {
              "color": "#C8D4E3"
             },
             "line": {
              "color": "white"
             }
            },
            "type": "table"
           }
          ]
         },
         "layout": {
          "annotationdefaults": {
           "arrowcolor": "#2a3f5f",
           "arrowhead": 0,
           "arrowwidth": 1
          },
          "autotypenumbers": "strict",
          "coloraxis": {
           "colorbar": {
            "outlinewidth": 0,
            "ticks": ""
           }
          },
          "colorscale": {
           "diverging": [
            [
             0,
             "#8e0152"
            ],
            [
             0.1,
             "#c51b7d"
            ],
            [
             0.2,
             "#de77ae"
            ],
            [
             0.3,
             "#f1b6da"
            ],
            [
             0.4,
             "#fde0ef"
            ],
            [
             0.5,
             "#f7f7f7"
            ],
            [
             0.6,
             "#e6f5d0"
            ],
            [
             0.7,
             "#b8e186"
            ],
            [
             0.8,
             "#7fbc41"
            ],
            [
             0.9,
             "#4d9221"
            ],
            [
             1,
             "#276419"
            ]
           ],
           "sequential": [
            [
             0,
             "#0d0887"
            ],
            [
             0.1111111111111111,
             "#46039f"
            ],
            [
             0.2222222222222222,
             "#7201a8"
            ],
            [
             0.3333333333333333,
             "#9c179e"
            ],
            [
             0.4444444444444444,
             "#bd3786"
            ],
            [
             0.5555555555555556,
             "#d8576b"
            ],
            [
             0.6666666666666666,
             "#ed7953"
            ],
            [
             0.7777777777777778,
             "#fb9f3a"
            ],
            [
             0.8888888888888888,
             "#fdca26"
            ],
            [
             1,
             "#f0f921"
            ]
           ],
           "sequentialminus": [
            [
             0,
             "#0d0887"
            ],
            [
             0.1111111111111111,
             "#46039f"
            ],
            [
             0.2222222222222222,
             "#7201a8"
            ],
            [
             0.3333333333333333,
             "#9c179e"
            ],
            [
             0.4444444444444444,
             "#bd3786"
            ],
            [
             0.5555555555555556,
             "#d8576b"
            ],
            [
             0.6666666666666666,
             "#ed7953"
            ],
            [
             0.7777777777777778,
             "#fb9f3a"
            ],
            [
             0.8888888888888888,
             "#fdca26"
            ],
            [
             1,
             "#f0f921"
            ]
           ]
          },
          "colorway": [
           "#636efa",
           "#EF553B",
           "#00cc96",
           "#ab63fa",
           "#FFA15A",
           "#19d3f3",
           "#FF6692",
           "#B6E880",
           "#FF97FF",
           "#FECB52"
          ],
          "font": {
           "color": "#2a3f5f"
          },
          "geo": {
           "bgcolor": "white",
           "lakecolor": "white",
           "landcolor": "#E5ECF6",
           "showlakes": true,
           "showland": true,
           "subunitcolor": "white"
          },
          "hoverlabel": {
           "align": "left"
          },
          "hovermode": "closest",
          "mapbox": {
           "style": "light"
          },
          "paper_bgcolor": "white",
          "plot_bgcolor": "#E5ECF6",
          "polar": {
           "angularaxis": {
            "gridcolor": "white",
            "linecolor": "white",
            "ticks": ""
           },
           "bgcolor": "#E5ECF6",
           "radialaxis": {
            "gridcolor": "white",
            "linecolor": "white",
            "ticks": ""
           }
          },
          "scene": {
           "xaxis": {
            "backgroundcolor": "#E5ECF6",
            "gridcolor": "white",
            "gridwidth": 2,
            "linecolor": "white",
            "showbackground": true,
            "ticks": "",
            "zerolinecolor": "white"
           },
           "yaxis": {
            "backgroundcolor": "#E5ECF6",
            "gridcolor": "white",
            "gridwidth": 2,
            "linecolor": "white",
            "showbackground": true,
            "ticks": "",
            "zerolinecolor": "white"
           },
           "zaxis": {
            "backgroundcolor": "#E5ECF6",
            "gridcolor": "white",
            "gridwidth": 2,
            "linecolor": "white",
            "showbackground": true,
            "ticks": "",
            "zerolinecolor": "white"
           }
          },
          "shapedefaults": {
           "line": {
            "color": "#2a3f5f"
           }
          },
          "ternary": {
           "aaxis": {
            "gridcolor": "white",
            "linecolor": "white",
            "ticks": ""
           },
           "baxis": {
            "gridcolor": "white",
            "linecolor": "white",
            "ticks": ""
           },
           "bgcolor": "#E5ECF6",
           "caxis": {
            "gridcolor": "white",
            "linecolor": "white",
            "ticks": ""
           }
          },
          "title": {
           "x": 0.05
          },
          "xaxis": {
           "automargin": true,
           "gridcolor": "white",
           "linecolor": "white",
           "ticks": "",
           "title": {
            "standoff": 15
           },
           "zerolinecolor": "white",
           "zerolinewidth": 2
          },
          "yaxis": {
           "automargin": true,
           "gridcolor": "white",
           "linecolor": "white",
           "ticks": "",
           "title": {
            "standoff": 15
           },
           "zerolinecolor": "white",
           "zerolinewidth": 2
          }
         }
        },
        "title": {
         "text": "Number of Visits per Customer"
        },
        "xaxis": {
         "title": {
          "text": "Number of Visits"
         }
        },
        "yaxis": {
         "title": {
          "text": "Number of Customers"
         }
        }
       }
      }
     },
     "metadata": {},
     "output_type": "display_data"
    }
   ],
   "source": [
    "# All customer visits\n",
    "customer_visits = filtered_customers.groupby('customer_id')['transaction_id'].nunique()\n",
    "\n",
    "# Create a figure\n",
    "fig = go.Figure()\n",
    "\n",
    "# Create a histogram\n",
    "fig.add_trace(go.Histogram(\n",
    "    x=customer_visits.values,\n",
    "    marker=dict(\n",
    "        color='rgba(50, 171, 96, 0.6)',\n",
    "    )\n",
    "))\n",
    "\n",
    "# Customize the graph\n",
    "fig.update_layout(\n",
    "    title='Number of Visits per Customer',\n",
    "    xaxis_title='Number of Visits',\n",
    "    yaxis_title='Number of Customers',\n",
    ")\n",
    "\n",
    "# Show the figure\n",
    "fig.show()"
   ]
  },
  {
   "cell_type": "markdown",
   "metadata": {},
   "source": [
    "--------"
   ]
  },
  {
   "cell_type": "markdown",
   "metadata": {},
   "source": [
    "### Extra"
   ]
  },
  {
   "cell_type": "code",
   "execution_count": 12,
   "metadata": {},
   "outputs": [
    {
     "data": {
      "application/vnd.plotly.v1+json": {
       "config": {
        "plotlyServerURL": "https://plot.ly"
       },
       "data": [
        {
         "colorbar": {
          "title": {
           "text": "Log Scale\n"
          }
         },
         "colorscale": [
          [
           0,
           "rgb(247,251,255)"
          ],
          [
           0.125,
           "rgb(222,235,247)"
          ],
          [
           0.25,
           "rgb(198,219,239)"
          ],
          [
           0.375,
           "rgb(158,202,225)"
          ],
          [
           0.5,
           "rgb(107,174,214)"
          ],
          [
           0.625,
           "rgb(66,146,198)"
          ],
          [
           0.75,
           "rgb(33,113,181)"
          ],
          [
           0.875,
           "rgb(8,81,156)"
          ],
          [
           1,
           "rgb(8,48,107)"
          ]
         ],
         "hovertemplate": "%{text}<extra></extra>",
         "locations": [
          "ARG",
          "ABW",
          "AUS",
          "AUT",
          "BHS",
          "BHR",
          "BEL",
          "BRA",
          "BGR",
          "CAN",
          "CHL",
          "CHN",
          "COL",
          "CRI",
          "CYP",
          "CZE",
          "DNK",
          "EGY",
          "SLV",
          "FIN",
          "FRA",
          "DEU",
          "GRC",
          "GTM",
          "HKG",
          "HUN",
          "IND",
          "IDN",
          "IRL",
          "JPN",
          "JOR",
          "KOR",
          "KWT",
          "LBN",
          "MYS",
          "MEX",
          "MCO",
          "MAR",
          "ANT",
          "NLD",
          "NZL",
          "NOR",
          "OMN",
          "PER",
          "PHL",
          "POL",
          "PRT",
          "PRI",
          "QAT",
          "ROU",
          "RUS",
          "SAU",
          "SGP",
          "ESP",
          "SWE",
          "CHE",
          "TWN",
          "THA",
          "TUR",
          "ARE",
          "GBR",
          "USA",
          "VNM"
         ],
         "marker": {
          "line": {
           "color": "darkgray",
           "width": 0.5
          }
         },
         "text": [
          "Argentina<br>Outlets: 73",
          "Aruba<br>Outlets: 3",
          "Australia<br>Outlets: 24",
          "Austria<br>Outlets: 17",
          "Bahamas, The<br>Outlets: 9",
          "Bahrain<br>Outlets: 17",
          "Belgium<br>Outlets: 14",
          "Brazil<br>Outlets: 85",
          "Bulgaria<br>Outlets: 5",
          "Canada<br>Outlets: 1425",
          "Chile<br>Outlets: 60",
          "China<br>Outlets: 1462",
          "Colombia<br>Outlets: 2",
          "Costa Rica<br>Outlets: 4",
          "Cyprus<br>Outlets: 9",
          "Czech Republic<br>Outlets: 18",
          "Denmark<br>Outlets: 12",
          "Egypt, Arab Rep.<br>Outlets: 23",
          "El Salvador<br>Outlets: 5",
          "Finland<br>Outlets: 3",
          "France<br>Outlets: 101",
          "Germany<br>Outlets: 159",
          "Greece<br>Outlets: 30",
          "Guatemala<br>Outlets: 4",
          "Hong Kong SAR, China<br>Outlets: 8",
          "Hungary<br>Outlets: 9",
          "India<br>Outlets: 53",
          "Indonesia<br>Outlets: 168",
          "Ireland<br>Outlets: 40",
          "Japan<br>Outlets: 1052",
          "Jordan<br>Outlets: 10",
          "Korea, Rep.<br>Outlets: 684",
          "Kuwait<br>Outlets: 70",
          "Lebanon<br>Outlets: 20",
          "Malaysia<br>Outlets: 172",
          "Mexico<br>Outlets: 423",
          "Monaco<br>Outlets: 1",
          "Morocco<br>Outlets: 5",
          "Netherland Antilles<br>Outlets: 2",
          "Netherlands<br>Outlets: 45",
          "New Zealand<br>Outlets: 26",
          "Norway<br>Outlets: 11",
          "Oman<br>Outlets: 6",
          "Peru<br>Outlets: 73",
          "Philippines<br>Outlets: 234",
          "Poland<br>Outlets: 37",
          "Portugal<br>Outlets: 8",
          "Puerto Rico<br>Outlets: 21",
          "Qatar<br>Outlets: 13",
          "Romania<br>Outlets: 10",
          "Russian Federation<br>Outlets: 85",
          "Saudi Arabia<br>Outlets: 65",
          "Singapore<br>Outlets: 106",
          "Spain<br>Outlets: 84",
          "Sweden<br>Outlets: 6",
          "Switzerland<br>Outlets: 59",
          "Taiwan<br>Outlets: 316",
          "Thailand<br>Outlets: 204",
          "Turkey<br>Outlets: 213",
          "United Arab Emirates<br>Outlets: 106",
          "United Kingdom<br>Outlets: 770",
          "United States<br>Outlets: 11851",
          "Vietnam<br>Outlets: 11"
         ],
         "type": "choropleth",
         "z": [
          4.290459441148391,
          1.0986122886681098,
          3.1780538303479458,
          2.833213344056216,
          2.1972245773362196,
          2.833213344056216,
          2.6390573296152584,
          4.442651256490317,
          1.6094379124341003,
          7.261927092702751,
          4.0943445622221,
          7.2875606403097235,
          0.6931471805599453,
          1.3862943611198906,
          2.1972245773362196,
          2.8903717578961645,
          2.4849066497880004,
          3.1354942159291497,
          1.6094379124341003,
          1.0986122886681098,
          4.61512051684126,
          5.0689042022202315,
          3.4011973816621555,
          1.3862943611198906,
          2.0794415416798357,
          2.1972245773362196,
          3.970291913552122,
          5.123963979403259,
          3.6888794541139363,
          6.9584483932976555,
          2.302585092994046,
          6.52795791762255,
          4.248495242049359,
          2.995732273553991,
          5.147494476813453,
          6.0473721790462776,
          0,
          1.6094379124341003,
          0.6931471805599453,
          3.8066624897703196,
          3.258096538021482,
          2.3978952727983707,
          1.791759469228055,
          4.290459441148391,
          5.455321115357702,
          3.6109179126442243,
          2.0794415416798357,
          3.044522437723423,
          2.5649493574615367,
          2.302585092994046,
          4.442651256490317,
          4.174387269895637,
          4.663439094112067,
          4.430816798843313,
          1.791759469228055,
          4.07753744390572,
          5.755742213586912,
          5.318119993844216,
          5.3612921657094255,
          4.663439094112067,
          6.646390514847729,
          9.380167531188448,
          2.3978952727983707
         ],
         "zmin": 0
        }
       ],
       "layout": {
        "geo": {
         "projection": {
          "type": "equirectangular"
         },
         "showcoastlines": false,
         "showframe": false
        },
        "height": 600,
        "template": {
         "data": {
          "bar": [
           {
            "error_x": {
             "color": "#2a3f5f"
            },
            "error_y": {
             "color": "#2a3f5f"
            },
            "marker": {
             "line": {
              "color": "#E5ECF6",
              "width": 0.5
             },
             "pattern": {
              "fillmode": "overlay",
              "size": 10,
              "solidity": 0.2
             }
            },
            "type": "bar"
           }
          ],
          "barpolar": [
           {
            "marker": {
             "line": {
              "color": "#E5ECF6",
              "width": 0.5
             },
             "pattern": {
              "fillmode": "overlay",
              "size": 10,
              "solidity": 0.2
             }
            },
            "type": "barpolar"
           }
          ],
          "carpet": [
           {
            "aaxis": {
             "endlinecolor": "#2a3f5f",
             "gridcolor": "white",
             "linecolor": "white",
             "minorgridcolor": "white",
             "startlinecolor": "#2a3f5f"
            },
            "baxis": {
             "endlinecolor": "#2a3f5f",
             "gridcolor": "white",
             "linecolor": "white",
             "minorgridcolor": "white",
             "startlinecolor": "#2a3f5f"
            },
            "type": "carpet"
           }
          ],
          "choropleth": [
           {
            "colorbar": {
             "outlinewidth": 0,
             "ticks": ""
            },
            "type": "choropleth"
           }
          ],
          "contour": [
           {
            "colorbar": {
             "outlinewidth": 0,
             "ticks": ""
            },
            "colorscale": [
             [
              0,
              "#0d0887"
             ],
             [
              0.1111111111111111,
              "#46039f"
             ],
             [
              0.2222222222222222,
              "#7201a8"
             ],
             [
              0.3333333333333333,
              "#9c179e"
             ],
             [
              0.4444444444444444,
              "#bd3786"
             ],
             [
              0.5555555555555556,
              "#d8576b"
             ],
             [
              0.6666666666666666,
              "#ed7953"
             ],
             [
              0.7777777777777778,
              "#fb9f3a"
             ],
             [
              0.8888888888888888,
              "#fdca26"
             ],
             [
              1,
              "#f0f921"
             ]
            ],
            "type": "contour"
           }
          ],
          "contourcarpet": [
           {
            "colorbar": {
             "outlinewidth": 0,
             "ticks": ""
            },
            "type": "contourcarpet"
           }
          ],
          "heatmap": [
           {
            "colorbar": {
             "outlinewidth": 0,
             "ticks": ""
            },
            "colorscale": [
             [
              0,
              "#0d0887"
             ],
             [
              0.1111111111111111,
              "#46039f"
             ],
             [
              0.2222222222222222,
              "#7201a8"
             ],
             [
              0.3333333333333333,
              "#9c179e"
             ],
             [
              0.4444444444444444,
              "#bd3786"
             ],
             [
              0.5555555555555556,
              "#d8576b"
             ],
             [
              0.6666666666666666,
              "#ed7953"
             ],
             [
              0.7777777777777778,
              "#fb9f3a"
             ],
             [
              0.8888888888888888,
              "#fdca26"
             ],
             [
              1,
              "#f0f921"
             ]
            ],
            "type": "heatmap"
           }
          ],
          "heatmapgl": [
           {
            "colorbar": {
             "outlinewidth": 0,
             "ticks": ""
            },
            "colorscale": [
             [
              0,
              "#0d0887"
             ],
             [
              0.1111111111111111,
              "#46039f"
             ],
             [
              0.2222222222222222,
              "#7201a8"
             ],
             [
              0.3333333333333333,
              "#9c179e"
             ],
             [
              0.4444444444444444,
              "#bd3786"
             ],
             [
              0.5555555555555556,
              "#d8576b"
             ],
             [
              0.6666666666666666,
              "#ed7953"
             ],
             [
              0.7777777777777778,
              "#fb9f3a"
             ],
             [
              0.8888888888888888,
              "#fdca26"
             ],
             [
              1,
              "#f0f921"
             ]
            ],
            "type": "heatmapgl"
           }
          ],
          "histogram": [
           {
            "marker": {
             "pattern": {
              "fillmode": "overlay",
              "size": 10,
              "solidity": 0.2
             }
            },
            "type": "histogram"
           }
          ],
          "histogram2d": [
           {
            "colorbar": {
             "outlinewidth": 0,
             "ticks": ""
            },
            "colorscale": [
             [
              0,
              "#0d0887"
             ],
             [
              0.1111111111111111,
              "#46039f"
             ],
             [
              0.2222222222222222,
              "#7201a8"
             ],
             [
              0.3333333333333333,
              "#9c179e"
             ],
             [
              0.4444444444444444,
              "#bd3786"
             ],
             [
              0.5555555555555556,
              "#d8576b"
             ],
             [
              0.6666666666666666,
              "#ed7953"
             ],
             [
              0.7777777777777778,
              "#fb9f3a"
             ],
             [
              0.8888888888888888,
              "#fdca26"
             ],
             [
              1,
              "#f0f921"
             ]
            ],
            "type": "histogram2d"
           }
          ],
          "histogram2dcontour": [
           {
            "colorbar": {
             "outlinewidth": 0,
             "ticks": ""
            },
            "colorscale": [
             [
              0,
              "#0d0887"
             ],
             [
              0.1111111111111111,
              "#46039f"
             ],
             [
              0.2222222222222222,
              "#7201a8"
             ],
             [
              0.3333333333333333,
              "#9c179e"
             ],
             [
              0.4444444444444444,
              "#bd3786"
             ],
             [
              0.5555555555555556,
              "#d8576b"
             ],
             [
              0.6666666666666666,
              "#ed7953"
             ],
             [
              0.7777777777777778,
              "#fb9f3a"
             ],
             [
              0.8888888888888888,
              "#fdca26"
             ],
             [
              1,
              "#f0f921"
             ]
            ],
            "type": "histogram2dcontour"
           }
          ],
          "mesh3d": [
           {
            "colorbar": {
             "outlinewidth": 0,
             "ticks": ""
            },
            "type": "mesh3d"
           }
          ],
          "parcoords": [
           {
            "line": {
             "colorbar": {
              "outlinewidth": 0,
              "ticks": ""
             }
            },
            "type": "parcoords"
           }
          ],
          "pie": [
           {
            "automargin": true,
            "type": "pie"
           }
          ],
          "scatter": [
           {
            "fillpattern": {
             "fillmode": "overlay",
             "size": 10,
             "solidity": 0.2
            },
            "type": "scatter"
           }
          ],
          "scatter3d": [
           {
            "line": {
             "colorbar": {
              "outlinewidth": 0,
              "ticks": ""
             }
            },
            "marker": {
             "colorbar": {
              "outlinewidth": 0,
              "ticks": ""
             }
            },
            "type": "scatter3d"
           }
          ],
          "scattercarpet": [
           {
            "marker": {
             "colorbar": {
              "outlinewidth": 0,
              "ticks": ""
             }
            },
            "type": "scattercarpet"
           }
          ],
          "scattergeo": [
           {
            "marker": {
             "colorbar": {
              "outlinewidth": 0,
              "ticks": ""
             }
            },
            "type": "scattergeo"
           }
          ],
          "scattergl": [
           {
            "marker": {
             "colorbar": {
              "outlinewidth": 0,
              "ticks": ""
             }
            },
            "type": "scattergl"
           }
          ],
          "scattermapbox": [
           {
            "marker": {
             "colorbar": {
              "outlinewidth": 0,
              "ticks": ""
             }
            },
            "type": "scattermapbox"
           }
          ],
          "scatterpolar": [
           {
            "marker": {
             "colorbar": {
              "outlinewidth": 0,
              "ticks": ""
             }
            },
            "type": "scatterpolar"
           }
          ],
          "scatterpolargl": [
           {
            "marker": {
             "colorbar": {
              "outlinewidth": 0,
              "ticks": ""
             }
            },
            "type": "scatterpolargl"
           }
          ],
          "scatterternary": [
           {
            "marker": {
             "colorbar": {
              "outlinewidth": 0,
              "ticks": ""
             }
            },
            "type": "scatterternary"
           }
          ],
          "surface": [
           {
            "colorbar": {
             "outlinewidth": 0,
             "ticks": ""
            },
            "colorscale": [
             [
              0,
              "#0d0887"
             ],
             [
              0.1111111111111111,
              "#46039f"
             ],
             [
              0.2222222222222222,
              "#7201a8"
             ],
             [
              0.3333333333333333,
              "#9c179e"
             ],
             [
              0.4444444444444444,
              "#bd3786"
             ],
             [
              0.5555555555555556,
              "#d8576b"
             ],
             [
              0.6666666666666666,
              "#ed7953"
             ],
             [
              0.7777777777777778,
              "#fb9f3a"
             ],
             [
              0.8888888888888888,
              "#fdca26"
             ],
             [
              1,
              "#f0f921"
             ]
            ],
            "type": "surface"
           }
          ],
          "table": [
           {
            "cells": {
             "fill": {
              "color": "#EBF0F8"
             },
             "line": {
              "color": "white"
             }
            },
            "header": {
             "fill": {
              "color": "#C8D4E3"
             },
             "line": {
              "color": "white"
             }
            },
            "type": "table"
           }
          ]
         },
         "layout": {
          "annotationdefaults": {
           "arrowcolor": "#2a3f5f",
           "arrowhead": 0,
           "arrowwidth": 1
          },
          "autotypenumbers": "strict",
          "coloraxis": {
           "colorbar": {
            "outlinewidth": 0,
            "ticks": ""
           }
          },
          "colorscale": {
           "diverging": [
            [
             0,
             "#8e0152"
            ],
            [
             0.1,
             "#c51b7d"
            ],
            [
             0.2,
             "#de77ae"
            ],
            [
             0.3,
             "#f1b6da"
            ],
            [
             0.4,
             "#fde0ef"
            ],
            [
             0.5,
             "#f7f7f7"
            ],
            [
             0.6,
             "#e6f5d0"
            ],
            [
             0.7,
             "#b8e186"
            ],
            [
             0.8,
             "#7fbc41"
            ],
            [
             0.9,
             "#4d9221"
            ],
            [
             1,
             "#276419"
            ]
           ],
           "sequential": [
            [
             0,
             "#0d0887"
            ],
            [
             0.1111111111111111,
             "#46039f"
            ],
            [
             0.2222222222222222,
             "#7201a8"
            ],
            [
             0.3333333333333333,
             "#9c179e"
            ],
            [
             0.4444444444444444,
             "#bd3786"
            ],
            [
             0.5555555555555556,
             "#d8576b"
            ],
            [
             0.6666666666666666,
             "#ed7953"
            ],
            [
             0.7777777777777778,
             "#fb9f3a"
            ],
            [
             0.8888888888888888,
             "#fdca26"
            ],
            [
             1,
             "#f0f921"
            ]
           ],
           "sequentialminus": [
            [
             0,
             "#0d0887"
            ],
            [
             0.1111111111111111,
             "#46039f"
            ],
            [
             0.2222222222222222,
             "#7201a8"
            ],
            [
             0.3333333333333333,
             "#9c179e"
            ],
            [
             0.4444444444444444,
             "#bd3786"
            ],
            [
             0.5555555555555556,
             "#d8576b"
            ],
            [
             0.6666666666666666,
             "#ed7953"
            ],
            [
             0.7777777777777778,
             "#fb9f3a"
            ],
            [
             0.8888888888888888,
             "#fdca26"
            ],
            [
             1,
             "#f0f921"
            ]
           ]
          },
          "colorway": [
           "#636efa",
           "#EF553B",
           "#00cc96",
           "#ab63fa",
           "#FFA15A",
           "#19d3f3",
           "#FF6692",
           "#B6E880",
           "#FF97FF",
           "#FECB52"
          ],
          "font": {
           "color": "#2a3f5f"
          },
          "geo": {
           "bgcolor": "white",
           "lakecolor": "white",
           "landcolor": "#E5ECF6",
           "showlakes": true,
           "showland": true,
           "subunitcolor": "white"
          },
          "hoverlabel": {
           "align": "left"
          },
          "hovermode": "closest",
          "mapbox": {
           "style": "light"
          },
          "paper_bgcolor": "white",
          "plot_bgcolor": "#E5ECF6",
          "polar": {
           "angularaxis": {
            "gridcolor": "white",
            "linecolor": "white",
            "ticks": ""
           },
           "bgcolor": "#E5ECF6",
           "radialaxis": {
            "gridcolor": "white",
            "linecolor": "white",
            "ticks": ""
           }
          },
          "scene": {
           "xaxis": {
            "backgroundcolor": "#E5ECF6",
            "gridcolor": "white",
            "gridwidth": 2,
            "linecolor": "white",
            "showbackground": true,
            "ticks": "",
            "zerolinecolor": "white"
           },
           "yaxis": {
            "backgroundcolor": "#E5ECF6",
            "gridcolor": "white",
            "gridwidth": 2,
            "linecolor": "white",
            "showbackground": true,
            "ticks": "",
            "zerolinecolor": "white"
           },
           "zaxis": {
            "backgroundcolor": "#E5ECF6",
            "gridcolor": "white",
            "gridwidth": 2,
            "linecolor": "white",
            "showbackground": true,
            "ticks": "",
            "zerolinecolor": "white"
           }
          },
          "shapedefaults": {
           "line": {
            "color": "#2a3f5f"
           }
          },
          "ternary": {
           "aaxis": {
            "gridcolor": "white",
            "linecolor": "white",
            "ticks": ""
           },
           "baxis": {
            "gridcolor": "white",
            "linecolor": "white",
            "ticks": ""
           },
           "bgcolor": "#E5ECF6",
           "caxis": {
            "gridcolor": "white",
            "linecolor": "white",
            "ticks": ""
           }
          },
          "title": {
           "x": 0.05
          },
          "xaxis": {
           "automargin": true,
           "gridcolor": "white",
           "linecolor": "white",
           "ticks": "",
           "title": {
            "standoff": 15
           },
           "zerolinecolor": "white",
           "zerolinewidth": 2
          },
          "yaxis": {
           "automargin": true,
           "gridcolor": "white",
           "linecolor": "white",
           "ticks": "",
           "title": {
            "standoff": 15
           },
           "zerolinecolor": "white",
           "zerolinewidth": 2
          }
         }
        },
        "title": {
         "text": "Starbucks Outlets around the World"
        },
        "width": 1000
       }
      }
     },
     "metadata": {},
     "output_type": "display_data"
    }
   ],
   "source": [
    "# Create hover text\n",
    "hover_text = [f\"{country}<br>Outlets: {outlet}\" for country, outlet in zip(st_world['country'], st_world['outlet'])]\n",
    "\n",
    "# Create the map\n",
    "fig = go.Figure(\n",
    "    data=go.Choropleth(\n",
    "        locations = st_world['code'],\n",
    "        z = np.log(st_world['outlet']),             # Using log scale to make the color difference more visible\n",
    "        text = hover_text,\n",
    "        hovertemplate='%{text}<extra></extra>',     # Include hover text\n",
    "        colorscale = 'Blues',\n",
    "        marker_line_color='darkgray',\n",
    "        marker_line_width=0.5,\n",
    "        colorbar_title = 'Log Scale\\n',\n",
    "        zmin=0,\n",
    "    )\n",
    ")\n",
    "\n",
    "# Customizing the layout\n",
    "fig.update_layout(\n",
    "    # set the size\n",
    "    width=1000,\n",
    "    height=600,\n",
    "    title_text='Starbucks Outlets around the World',\n",
    "    geo=dict(\n",
    "        showframe=False,\n",
    "        showcoastlines=False,\n",
    "        projection_type='equirectangular'\n",
    "    )\n",
    ")\n",
    "\n",
    "# Show the plot\n",
    "fig.show()"
   ]
  }
 ],
 "metadata": {
  "kernelspec": {
   "display_name": "lmu",
   "language": "python",
   "name": "python3"
  },
  "language_info": {
   "codemirror_mode": {
    "name": "ipython",
    "version": 3
   },
   "file_extension": ".py",
   "mimetype": "text/x-python",
   "name": "python",
   "nbconvert_exporter": "python",
   "pygments_lexer": "ipython3",
   "version": "3.12.0"
  }
 },
 "nbformat": 4,
 "nbformat_minor": 2
}
